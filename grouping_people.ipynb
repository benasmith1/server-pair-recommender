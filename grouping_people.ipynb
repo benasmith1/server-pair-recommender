{
 "cells": [
  {
   "cell_type": "markdown",
   "metadata": {},
   "source": [
    "Bena Smith 03/31/2025\n",
    "This notebook contains the code to create embeddings for the people in other_people.csv and performs KNN on these embeddings and plots the people and their groups"
   ]
  },
  {
   "cell_type": "code",
   "execution_count": null,
   "metadata": {},
   "outputs": [],
   "source": [
    "import pandas as pd\n",
    "import openai\n",
    "import numpy as np\n",
    "from sklearn.decomposition import PCA\n",
    "from scipy.spatial import distance\n",
    "from sklearn.cluster import KMeans\n",
    "import plotly.express as px\n",
    "import json\n",
    "import textwrap\n",
    "import ast"
   ]
  },
  {
   "cell_type": "code",
   "execution_count": null,
   "metadata": {},
   "outputs": [],
   "source": [
    "# Create Open AI client\n",
    "\n",
    "client = openai.Client(api_key= \"REPLACE\")\n"
   ]
  },
  {
   "cell_type": "code",
   "execution_count": 4,
   "metadata": {},
   "outputs": [
    {
     "data": {
      "text/html": [
       "<div>\n",
       "<style scoped>\n",
       "    .dataframe tbody tr th:only-of-type {\n",
       "        vertical-align: middle;\n",
       "    }\n",
       "\n",
       "    .dataframe tbody tr th {\n",
       "        vertical-align: top;\n",
       "    }\n",
       "\n",
       "    .dataframe thead th {\n",
       "        text-align: right;\n",
       "    }\n",
       "</style>\n",
       "<table border=\"1\" class=\"dataframe\">\n",
       "  <thead>\n",
       "    <tr style=\"text-align: right;\">\n",
       "      <th></th>\n",
       "      <th>ID</th>\n",
       "      <th>Name</th>\n",
       "      <th>About_Me</th>\n",
       "      <th>Favorite_Music_Genres</th>\n",
       "      <th>Outgoing</th>\n",
       "      <th>Outdoorsy</th>\n",
       "      <th>Politically_Correct</th>\n",
       "      <th>Religion</th>\n",
       "      <th>Embeddings</th>\n",
       "    </tr>\n",
       "  </thead>\n",
       "  <tbody>\n",
       "    <tr>\n",
       "      <th>0</th>\n",
       "      <td>1</td>\n",
       "      <td>Mei Zhang</td>\n",
       "      <td>I am curious and creative, enjoy reading fanta...</td>\n",
       "      <td>Classical, Folk, Indie</td>\n",
       "      <td>4</td>\n",
       "      <td>3</td>\n",
       "      <td>2</td>\n",
       "      <td>Atheist</td>\n",
       "      <td>[-0.012970875552855431, -0.03853305513039231, ...</td>\n",
       "    </tr>\n",
       "    <tr>\n",
       "      <th>1</th>\n",
       "      <td>2</td>\n",
       "      <td>Priya Sharma</td>\n",
       "      <td>I am adventurous and pragmatic, enjoy electron...</td>\n",
       "      <td>Pop, Rock</td>\n",
       "      <td>5</td>\n",
       "      <td>4</td>\n",
       "      <td>1</td>\n",
       "      <td>Christian</td>\n",
       "      <td>[-0.031710869539529084, 0.004513157159090042, ...</td>\n",
       "    </tr>\n",
       "    <tr>\n",
       "      <th>2</th>\n",
       "      <td>3</td>\n",
       "      <td>Adebayo Nkosi</td>\n",
       "      <td>I am outgoing and analytical, enjoy jazz music...</td>\n",
       "      <td>Rap, Hip-hop</td>\n",
       "      <td>3</td>\n",
       "      <td>5</td>\n",
       "      <td>5</td>\n",
       "      <td>Muslim</td>\n",
       "      <td>[-0.005966135114431382, -0.04169810477178544, ...</td>\n",
       "    </tr>\n",
       "    <tr>\n",
       "      <th>3</th>\n",
       "      <td>4</td>\n",
       "      <td>Emily Carter</td>\n",
       "      <td>I am introverted and empathetic, enjoy country...</td>\n",
       "      <td>Metal, Blues</td>\n",
       "      <td>2</td>\n",
       "      <td>2</td>\n",
       "      <td>3</td>\n",
       "      <td>Spiritualist</td>\n",
       "      <td>[-0.025490914564579723, -0.03134411147329956, ...</td>\n",
       "    </tr>\n",
       "    <tr>\n",
       "      <th>4</th>\n",
       "      <td>5</td>\n",
       "      <td>Arjun Patel</td>\n",
       "      <td>I am cautious and creative, enjoy blues music,...</td>\n",
       "      <td>Electronic, Pop</td>\n",
       "      <td>4</td>\n",
       "      <td>1</td>\n",
       "      <td>4</td>\n",
       "      <td>Jewish</td>\n",
       "      <td>[0.011702044680714604, -0.017951407516375185, ...</td>\n",
       "    </tr>\n",
       "  </tbody>\n",
       "</table>\n",
       "</div>"
      ],
      "text/plain": [
       "   ID           Name                                           About_Me  \\\n",
       "0   1      Mei Zhang  I am curious and creative, enjoy reading fanta...   \n",
       "1   2   Priya Sharma  I am adventurous and pragmatic, enjoy electron...   \n",
       "2   3  Adebayo Nkosi  I am outgoing and analytical, enjoy jazz music...   \n",
       "3   4   Emily Carter  I am introverted and empathetic, enjoy country...   \n",
       "4   5    Arjun Patel  I am cautious and creative, enjoy blues music,...   \n",
       "\n",
       "    Favorite_Music_Genres  Outgoing  Outdoorsy  Politically_Correct  \\\n",
       "0  Classical, Folk, Indie         4          3                    2   \n",
       "1               Pop, Rock         5          4                    1   \n",
       "2            Rap, Hip-hop         3          5                    5   \n",
       "3            Metal, Blues         2          2                    3   \n",
       "4         Electronic, Pop         4          1                    4   \n",
       "\n",
       "       Religion                                         Embeddings  \n",
       "0       Atheist  [-0.012970875552855431, -0.03853305513039231, ...  \n",
       "1     Christian  [-0.031710869539529084, 0.004513157159090042, ...  \n",
       "2        Muslim  [-0.005966135114431382, -0.04169810477178544, ...  \n",
       "3  Spiritualist  [-0.025490914564579723, -0.03134411147329956, ...  \n",
       "4        Jewish  [0.011702044680714604, -0.017951407516375185, ...  "
      ]
     },
     "execution_count": 4,
     "metadata": {},
     "output_type": "execute_result"
    }
   ],
   "source": [
    "# Import people\n",
    "\n",
    "our_people = pd.read_csv(\"our_people.csv\")\n",
    "our_people.head()"
   ]
  },
  {
   "cell_type": "code",
   "execution_count": 5,
   "metadata": {},
   "outputs": [
    {
     "data": {
      "text/plain": [
       "ID                        int64\n",
       "Name                     object\n",
       "About_Me                 object\n",
       "Favorite_Music_Genres    object\n",
       "Outgoing                  int64\n",
       "Outdoorsy                 int64\n",
       "Politically_Correct       int64\n",
       "Religion                 object\n",
       "Embeddings               object\n",
       "dtype: object"
      ]
     },
     "execution_count": 5,
     "metadata": {},
     "output_type": "execute_result"
    }
   ],
   "source": [
    "our_people.dtypes"
   ]
  },
  {
   "cell_type": "code",
   "execution_count": 6,
   "metadata": {},
   "outputs": [],
   "source": [
    "#Set weights - we can also make these dynamic if a person finds one thing super important (i.e wants to meet only those with the same religion)\n",
    "\n",
    "weights = {\n",
    "    'About_Me': 1.0,\n",
    "    'Favorite_Music_Genres': 0.5,\n",
    "    'Outgoing': 0.3,\n",
    "    'Outdoorsy': 0.3,\n",
    "    'Politically_Correct': 0.3,\n",
    "    'Religion': 0.5\n",
    "}"
   ]
  },
  {
   "cell_type": "code",
   "execution_count": null,
   "metadata": {},
   "outputs": [],
   "source": [
    "# We have 2 options here (probably more!):\n",
    "# 1. To convert numerical data to text data. This will be sent into openai's text embedding service\n",
    "# 2. After the about me's are embedded, we can add a dimension that is these values scaled from 0-1 with min max scaling. \n",
    "# I chose 1 because openai can now compare features in the about me with these features and can extract new relationships\n",
    "# ex. \"Very outgoing\" may be embedded similarly to words like \"talkative,\" \"friendly,\" \"extroverted\".\n",
    "\n",
    "def convert_to_text(value, feature_name):\n",
    "    if feature_name == \"Outgoing\":\n",
    "        return [\"Very introverted\", \"Somewhat introverted\", \"Neutral\", \"Somewhat outgoing\", \"Very outgoing\"][int(value - 1)]\n",
    "    elif feature_name == \"Outdoorsy\":\n",
    "        return [\"Hates outdoors\", \"Prefers indoors\", \"Neutral\", \"Likes outdoors\", \"Loves outdoors\"][int(value - 1)]\n",
    "    elif feature_name == \"Politically_Correct\":\n",
    "        return [\"Not PC at all\", \"Rarely PC\", \"Moderately PC\", \"Very PC\", \"Extremely PC\"][int(value - 1)]"
   ]
  },
  {
   "cell_type": "code",
   "execution_count": null,
   "metadata": {},
   "outputs": [],
   "source": [
    "# USe open AI to create vector embeddings of sentences\n",
    "\n",
    "def create_embeddings(about_mes):\n",
    "    response = client.embeddings.create(\n",
    "        model=\"text-embedding-3-small\",\n",
    "        input = about_mes\n",
    "    )\n",
    "    response_dict = response.model_dump()\n",
    "    return [data['embedding'] for data in response_dict['data']]\n",
    "\n",
    "\n",
    "\n",
    "# current_person = our_people[our_people['ID'] == 1]['About_Me']\n",
    "# other_people = our_people[our_people['ID'] != 1]['About_Me']\n",
    "\n",
    "# current_person_embeddings = create_embeddings(current_person)\n",
    "# other_people_embeddings = create_embeddings(other_people)\n",
    "\n"
   ]
  },
  {
   "cell_type": "code",
   "execution_count": null,
   "metadata": {},
   "outputs": [],
   "source": [
    "# This function gets a weighted embedding of for a persons about me and personal traits. \n",
    "# new_person is a dictionary with the information about a person\n",
    "# our_people is the table of other users. This is just used to get the person's id\n",
    "def get_weighted_embeddings(row):\n",
    "\n",
    "    # change the number values by +1 because the client collects them from 0-4 but I think 1-5 \n",
    "    # makes the variable more interpretable IMO so that's how they are stored \n",
    "    # Then convert the numbers to text so we can use them to get text embeddings\n",
    "    row[\"Outgoing\"] = convert_to_text(row[\"Outgoing\"], \"Outgoing\") \n",
    "    row[\"Outdoorsy\"] = convert_to_text(row[\"Outdoorsy\"], \"Outdoorsy\")\n",
    "    row[\"Politically_Correct\"] = convert_to_text(row[\"Politically_Correct\"], \"Politically_Correct\")\n",
    "\n",
    "    # get embeddings for each characteristic\n",
    "    about_me_embedding = np.array(create_embeddings([row['About_Me']])[0])\n",
    "    music_embedding = np.array(create_embeddings([row['Favorite_Music_Genres']])[0])\n",
    "    outgoing_embedding = np.array(create_embeddings([str(row['Outgoing'])])[0])\n",
    "    outdoorsy_embedding = np.array(create_embeddings([str(row['Outdoorsy'])])[0])\n",
    "    politically_correct_embedding = np.array(create_embeddings([str(row['Politically_Correct'])])[0])\n",
    "    religion_embedding = np.array(create_embeddings([row['Religion']])[0])\n",
    "\n",
    "    # Combine and weight the embeddings\n",
    "    # A stronger weight means that the characteristic is more important that two friends share.\n",
    "    # If it is very important that two friends share the same politically_correct level, politically_correct \n",
    "    # should be weighted highly\n",
    "    combined_embedding = (\n",
    "        weights['About_Me'] * about_me_embedding +\n",
    "        weights['Favorite_Music_Genres'] * music_embedding +\n",
    "        weights['Outgoing'] * outgoing_embedding +\n",
    "        weights['Outdoorsy'] * outdoorsy_embedding +\n",
    "        weights['Politically_Correct'] * politically_correct_embedding +\n",
    "        weights['Religion'] * religion_embedding\n",
    "    )\n",
    "    \n",
    "    return combined_embedding"
   ]
  },
  {
   "cell_type": "code",
   "execution_count": 10,
   "metadata": {},
   "outputs": [
    {
     "data": {
      "text/html": [
       "<div>\n",
       "<style scoped>\n",
       "    .dataframe tbody tr th:only-of-type {\n",
       "        vertical-align: middle;\n",
       "    }\n",
       "\n",
       "    .dataframe tbody tr th {\n",
       "        vertical-align: top;\n",
       "    }\n",
       "\n",
       "    .dataframe thead th {\n",
       "        text-align: right;\n",
       "    }\n",
       "</style>\n",
       "<table border=\"1\" class=\"dataframe\">\n",
       "  <thead>\n",
       "    <tr style=\"text-align: right;\">\n",
       "      <th></th>\n",
       "      <th>ID</th>\n",
       "      <th>Name</th>\n",
       "      <th>About_Me</th>\n",
       "      <th>Favorite_Music_Genres</th>\n",
       "      <th>Outgoing</th>\n",
       "      <th>Outdoorsy</th>\n",
       "      <th>Politically_Correct</th>\n",
       "      <th>Religion</th>\n",
       "      <th>Embeddings</th>\n",
       "    </tr>\n",
       "  </thead>\n",
       "  <tbody>\n",
       "    <tr>\n",
       "      <th>0</th>\n",
       "      <td>1</td>\n",
       "      <td>Mei Zhang</td>\n",
       "      <td>I am curious and creative, enjoy reading fanta...</td>\n",
       "      <td>Classical, Folk, Indie</td>\n",
       "      <td>4</td>\n",
       "      <td>3</td>\n",
       "      <td>2</td>\n",
       "      <td>Atheist</td>\n",
       "      <td>[-0.012970875552855431, -0.03853305513039231, ...</td>\n",
       "    </tr>\n",
       "    <tr>\n",
       "      <th>1</th>\n",
       "      <td>2</td>\n",
       "      <td>Priya Sharma</td>\n",
       "      <td>I am adventurous and pragmatic, enjoy electron...</td>\n",
       "      <td>Pop, Rock</td>\n",
       "      <td>5</td>\n",
       "      <td>4</td>\n",
       "      <td>1</td>\n",
       "      <td>Christian</td>\n",
       "      <td>[-0.031710869539529084, 0.004513157159090042, ...</td>\n",
       "    </tr>\n",
       "    <tr>\n",
       "      <th>2</th>\n",
       "      <td>3</td>\n",
       "      <td>Adebayo Nkosi</td>\n",
       "      <td>I am outgoing and analytical, enjoy jazz music...</td>\n",
       "      <td>Rap, Hip-hop</td>\n",
       "      <td>3</td>\n",
       "      <td>5</td>\n",
       "      <td>5</td>\n",
       "      <td>Muslim</td>\n",
       "      <td>[-0.005966135114431382, -0.04169810477178544, ...</td>\n",
       "    </tr>\n",
       "    <tr>\n",
       "      <th>3</th>\n",
       "      <td>4</td>\n",
       "      <td>Emily Carter</td>\n",
       "      <td>I am introverted and empathetic, enjoy country...</td>\n",
       "      <td>Metal, Blues</td>\n",
       "      <td>2</td>\n",
       "      <td>2</td>\n",
       "      <td>3</td>\n",
       "      <td>Spiritualist</td>\n",
       "      <td>[-0.025490914564579723, -0.03134411147329956, ...</td>\n",
       "    </tr>\n",
       "    <tr>\n",
       "      <th>4</th>\n",
       "      <td>5</td>\n",
       "      <td>Arjun Patel</td>\n",
       "      <td>I am cautious and creative, enjoy blues music,...</td>\n",
       "      <td>Electronic, Pop</td>\n",
       "      <td>4</td>\n",
       "      <td>1</td>\n",
       "      <td>4</td>\n",
       "      <td>Jewish</td>\n",
       "      <td>[0.011702044680714604, -0.017951407516375185, ...</td>\n",
       "    </tr>\n",
       "  </tbody>\n",
       "</table>\n",
       "</div>"
      ],
      "text/plain": [
       "   ID           Name                                           About_Me  \\\n",
       "0   1      Mei Zhang  I am curious and creative, enjoy reading fanta...   \n",
       "1   2   Priya Sharma  I am adventurous and pragmatic, enjoy electron...   \n",
       "2   3  Adebayo Nkosi  I am outgoing and analytical, enjoy jazz music...   \n",
       "3   4   Emily Carter  I am introverted and empathetic, enjoy country...   \n",
       "4   5    Arjun Patel  I am cautious and creative, enjoy blues music,...   \n",
       "\n",
       "    Favorite_Music_Genres  Outgoing  Outdoorsy  Politically_Correct  \\\n",
       "0  Classical, Folk, Indie         4          3                    2   \n",
       "1               Pop, Rock         5          4                    1   \n",
       "2            Rap, Hip-hop         3          5                    5   \n",
       "3            Metal, Blues         2          2                    3   \n",
       "4         Electronic, Pop         4          1                    4   \n",
       "\n",
       "       Religion                                         Embeddings  \n",
       "0       Atheist  [-0.012970875552855431, -0.03853305513039231, ...  \n",
       "1     Christian  [-0.031710869539529084, 0.004513157159090042, ...  \n",
       "2        Muslim  [-0.005966135114431382, -0.04169810477178544, ...  \n",
       "3  Spiritualist  [-0.025490914564579723, -0.03134411147329956, ...  \n",
       "4        Jewish  [0.011702044680714604, -0.017951407516375185, ...  "
      ]
     },
     "execution_count": 10,
     "metadata": {},
     "output_type": "execute_result"
    }
   ],
   "source": [
    "our_people.head()"
   ]
  },
  {
   "cell_type": "code",
   "execution_count": null,
   "metadata": {},
   "outputs": [],
   "source": [
    "# get embeddings for each person\n",
    "people_embeddings = [get_weighted_embeddings(row) for _, row in our_people.iterrows()]\n",
    "our_people[\"Embeddings\"] = people_embeddings"
   ]
  },
  {
   "cell_type": "code",
   "execution_count": null,
   "metadata": {},
   "outputs": [
    {
     "data": {
      "text/html": [
       "<div>\n",
       "<style scoped>\n",
       "    .dataframe tbody tr th:only-of-type {\n",
       "        vertical-align: middle;\n",
       "    }\n",
       "\n",
       "    .dataframe tbody tr th {\n",
       "        vertical-align: top;\n",
       "    }\n",
       "\n",
       "    .dataframe thead th {\n",
       "        text-align: right;\n",
       "    }\n",
       "</style>\n",
       "<table border=\"1\" class=\"dataframe\">\n",
       "  <thead>\n",
       "    <tr style=\"text-align: right;\">\n",
       "      <th></th>\n",
       "      <th>ID</th>\n",
       "      <th>Name</th>\n",
       "      <th>About_Me</th>\n",
       "      <th>Favorite_Music_Genres</th>\n",
       "      <th>Outgoing</th>\n",
       "      <th>Outdoorsy</th>\n",
       "      <th>Politically_Correct</th>\n",
       "      <th>Religion</th>\n",
       "      <th>Embeddings</th>\n",
       "    </tr>\n",
       "  </thead>\n",
       "  <tbody>\n",
       "    <tr>\n",
       "      <th>0</th>\n",
       "      <td>1</td>\n",
       "      <td>Mei Zhang</td>\n",
       "      <td>I am curious and creative, enjoy reading fanta...</td>\n",
       "      <td>Classical, Folk, Indie</td>\n",
       "      <td>4</td>\n",
       "      <td>3</td>\n",
       "      <td>2</td>\n",
       "      <td>Atheist</td>\n",
       "      <td>[-0.012967251939699054, -0.03848275458440185, ...</td>\n",
       "    </tr>\n",
       "    <tr>\n",
       "      <th>1</th>\n",
       "      <td>2</td>\n",
       "      <td>Priya Sharma</td>\n",
       "      <td>I am adventurous and pragmatic, enjoy electron...</td>\n",
       "      <td>Pop, Rock</td>\n",
       "      <td>5</td>\n",
       "      <td>4</td>\n",
       "      <td>1</td>\n",
       "      <td>Christian</td>\n",
       "      <td>[-0.03171318294480443, 0.004503151681274175, 0...</td>\n",
       "    </tr>\n",
       "    <tr>\n",
       "      <th>2</th>\n",
       "      <td>3</td>\n",
       "      <td>Adebayo Nkosi</td>\n",
       "      <td>I am outgoing and analytical, enjoy jazz music...</td>\n",
       "      <td>Rap, Hip-hop</td>\n",
       "      <td>3</td>\n",
       "      <td>5</td>\n",
       "      <td>5</td>\n",
       "      <td>Muslim</td>\n",
       "      <td>[-0.005950302630662919, -0.041694598342292014,...</td>\n",
       "    </tr>\n",
       "    <tr>\n",
       "      <th>3</th>\n",
       "      <td>4</td>\n",
       "      <td>Emily Carter</td>\n",
       "      <td>I am introverted and empathetic, enjoy country...</td>\n",
       "      <td>Metal, Blues</td>\n",
       "      <td>2</td>\n",
       "      <td>2</td>\n",
       "      <td>3</td>\n",
       "      <td>Spiritualist</td>\n",
       "      <td>[-0.025493642315268517, -0.03135855286382139, ...</td>\n",
       "    </tr>\n",
       "    <tr>\n",
       "      <th>4</th>\n",
       "      <td>5</td>\n",
       "      <td>Arjun Patel</td>\n",
       "      <td>I am cautious and creative, enjoy blues music,...</td>\n",
       "      <td>Electronic, Pop</td>\n",
       "      <td>4</td>\n",
       "      <td>1</td>\n",
       "      <td>4</td>\n",
       "      <td>Jewish</td>\n",
       "      <td>[0.011702044680714604, -0.017951407516375185, ...</td>\n",
       "    </tr>\n",
       "  </tbody>\n",
       "</table>\n",
       "</div>"
      ],
      "text/plain": [
       "   ID           Name                                           About_Me  \\\n",
       "0   1      Mei Zhang  I am curious and creative, enjoy reading fanta...   \n",
       "1   2   Priya Sharma  I am adventurous and pragmatic, enjoy electron...   \n",
       "2   3  Adebayo Nkosi  I am outgoing and analytical, enjoy jazz music...   \n",
       "3   4   Emily Carter  I am introverted and empathetic, enjoy country...   \n",
       "4   5    Arjun Patel  I am cautious and creative, enjoy blues music,...   \n",
       "\n",
       "    Favorite_Music_Genres  Outgoing  Outdoorsy  Politically_Correct  \\\n",
       "0  Classical, Folk, Indie         4          3                    2   \n",
       "1               Pop, Rock         5          4                    1   \n",
       "2            Rap, Hip-hop         3          5                    5   \n",
       "3            Metal, Blues         2          2                    3   \n",
       "4         Electronic, Pop         4          1                    4   \n",
       "\n",
       "       Religion                                         Embeddings  \n",
       "0       Atheist  [-0.012967251939699054, -0.03848275458440185, ...  \n",
       "1     Christian  [-0.03171318294480443, 0.004503151681274175, 0...  \n",
       "2        Muslim  [-0.005950302630662919, -0.041694598342292014,...  \n",
       "3  Spiritualist  [-0.025493642315268517, -0.03135855286382139, ...  \n",
       "4        Jewish  [0.011702044680714604, -0.017951407516375185, ...  "
      ]
     },
     "execution_count": 18,
     "metadata": {},
     "output_type": "execute_result"
    }
   ],
   "source": [
    "our_people.head()"
   ]
  },
  {
   "cell_type": "code",
   "execution_count": null,
   "metadata": {},
   "outputs": [],
   "source": [
    "# put the embeddings into json form so they are preserved nicely for the csv file \n",
    "our_people['Embeddings'] = our_people['Embeddings'].apply(lambda x: json.dumps(x.tolist()))\n",
    "our_people.to_csv('our_people.csv', index=False)"
   ]
  },
  {
   "cell_type": "code",
   "execution_count": 22,
   "metadata": {},
   "outputs": [
    {
     "data": {
      "text/plain": [
       "ID                        int64\n",
       "Name                     object\n",
       "About_Me                 object\n",
       "Favorite_Music_Genres    object\n",
       "Outgoing                  int64\n",
       "Outdoorsy                 int64\n",
       "Politically_Correct       int64\n",
       "Religion                 object\n",
       "Embeddings               object\n",
       "dtype: object"
      ]
     },
     "execution_count": 22,
     "metadata": {},
     "output_type": "execute_result"
    }
   ],
   "source": [
    "our_people.dtypes"
   ]
  },
  {
   "cell_type": "code",
   "execution_count": null,
   "metadata": {},
   "outputs": [],
   "source": [
    "# perform k means on the people embeddings to group them with people most similar to themselves\n",
    "kmeans = KMeans(n_clusters=10)\n",
    "our_people[\"Embeddings_lst\"] = our_people[\"Embeddings\"].apply(lambda x: ast.literal_eval(x) if isinstance(x, str) else x)\n",
    "X = np.array(our_people[\"Embeddings_lst\"].tolist())\n",
    "kmeans.fit(X)\n",
    "our_people[\"Group\"] = kmeans.labels_"
   ]
  },
  {
   "cell_type": "code",
   "execution_count": 32,
   "metadata": {},
   "outputs": [],
   "source": [
    "# Reduce dimensionality to 2D for visualization\n",
    "pca = PCA(n_components=2)\n",
    "reduced_embeddings = pca.fit_transform(people_embeddings)\n",
    "our_people[\"x_embedding\"] = reduced_embeddings[:, 0]\n",
    "our_people[\"y_embedding\"] = reduced_embeddings[:, 1]\n"
   ]
  },
  {
   "cell_type": "code",
   "execution_count": null,
   "metadata": {},
   "outputs": [],
   "source": [
    "# textwrap so the about mes are displayed nicely in the hover of the plot\n",
    "\n",
    "our_people[\"About_Me\"] = our_people[\"About_Me\"].apply(lambda x: '<br>'.join(textwrap.wrap(str(x), width=40)))\n"
   ]
  },
  {
   "cell_type": "code",
   "execution_count": null,
   "metadata": {},
   "outputs": [],
   "source": [
    "# make group a string for categorical showing up of a plot instead of continuous \n",
    "our_people['Group'] = our_people['Group'].astype(str)\n"
   ]
  },
  {
   "cell_type": "code",
   "execution_count": 77,
   "metadata": {},
   "outputs": [
    {
     "data": {
      "application/vnd.plotly.v1+json": {
       "config": {
        "plotlyServerURL": "https://plot.ly"
       },
       "data": [
        {
         "customdata": [
          [
           "Mei Zhang",
           "I am curious and creative, enjoy reading<br>fantasy novels, and am into photography.<br>I admire Studio Ghibli, am fascinated by<br>history, and enjoy cooking. My hobbies<br>include coding, painting, and hiking.",
           "Classical, Folk, Indie",
           4,
           3,
           2
          ],
          [
           "Lin Wei",
           "I am pragmatic and analytical, enjoy pop<br>music, and am into hiking. I admire Ada<br>Lovelace, am fascinated by mathematics,<br>and enjoy gardening. My hobbies include<br>cooking, reading fantasy novels, and<br>painting.",
           "Indie, Rock",
           5,
           3,
           2
          ],
          [
           "Anjali Rao",
           "I am empathetic and cautious, enjoy<br>indie music, and love photography. I<br>admire Frida Kahlo, am fascinated by<br>sociology, and enjoy thrifting. My<br>hobbies include hiking, cooking, and<br>painting.",
           "Hip-hop, Metal",
           3,
           2,
           3
          ],
          [
           "Sophia Chen",
           "I am creative and love painting. I enjoy<br>indie music, poetry, and yoga.",
           "Indie",
           3,
           3,
           2
          ],
          [
           "Kenji Tanaka",
           "I am curious, and I enjoy coding. I'm a<br>fan of Radiohead, and I embrace<br>technology. I love hiking, and I am<br>thoughtful.",
           "Indie, Rock, Electronic",
           3,
           5,
           2
          ],
          [
           "Priya Sharma",
           "I am lively, and I enjoy singing. I'm a<br>fan of Lata Mangeshkar, and I embrace<br>culture. I love volunteering, and I am<br>compassionate.",
           "Pop, Indie",
           5,
           2,
           3
          ],
          [
           "Raj Patel",
           "I am curious, listen to indie music,<br>enjoy exploring new cities, and trying<br>new foods. I’m a huge fan of The<br>Strokes, embrace adventure, and love<br>photography.",
           "Indie, Pop",
           4,
           4,
           3
          ],
          [
           "Jackson Patel",
           "I am curious, listen to indie music,<br>enjoy exploring new cities, and trying<br>new foods. I’m a huge fan of The<br>Strokes, embrace adventure, and love<br>photography.",
           "Indie, Pop, Rock",
           4,
           4,
           3
          ],
          [
           "Harper Davis",
           "I'm an avid reader with a passion for<br>fantasy novels and historical fiction. I<br>believe in kindness and strive to make a<br>positive impact daily. My weekends are<br>usually spent exploring local coffee<br>shops and attending book club meetings.<br>I am outgoing, enjoy indie music, and<br>love trying new restaurants.",
           "Indie, Pop, Rock",
           4,
           3,
           3
          ],
          [
           "Abigail Jones",
           "I'm a passionate artist who loves to<br>paint landscapes and portraits.<br>Creativity and self-expression are very<br>important to me. I often spend my<br>afternoons in museums or art galleries<br>seeking inspiration. I am friendly,<br>listen to classical music, and enjoy<br>long walks in nature.",
           "Classical, Jazz",
           5,
           4,
           4
          ],
          [
           "Benjamin Davis",
           "I'm a travel blogger who enjoys<br>exploring different cultures and<br>cuisines. Curiosity and open-mindedness<br>are my guiding principles. I usually<br>spend several months each year traveling<br>to new destinations and documenting my<br>experiences. I am curious, listen to<br>indie music, and enjoy trying new<br>things.",
           "Indie, Pop, Rock",
           4,
           4,
           3
          ],
          [
           "Scarlett Kim",
           "I'm a graphic designer with a passion<br>for visual communication and branding.<br>Aesthetics and functionality are key in<br>my work. I spend a lot of time creating<br>digital art and exploring new design<br>trends. I am outgoing, enjoy electronic<br>music, and love attending art<br>exhibitions.",
           "Electronic, Pop, Indie",
           4,
           3,
           3
          ],
          [
           "Joseph Patel",
           "I'm an entrepreneur who enjoys starting<br>new businesses and taking on challenges.<br>Innovation and leadership are skills I<br>cultivate. I often spend time networking<br>and developing business strategies. I am<br>curious, listen to indie music, and<br>enjoy taking risks.",
           "Indie, Pop, Rock",
           4,
           4,
           3
          ],
          [
           "Zoey Kim",
           "I am creative and love digital painting<br>and animation. I value originality and<br>visual storytelling. Weekends are spent<br>at art workshops and collaborating on<br>indie game projects. I am outgoing,<br>enjoy electronic music, and love<br>attending comic conventions.",
           "Electronic, Pop, Indie",
           4,
           3,
           3
          ],
          [
           "Brandon Patel",
           "I am a financial analyst who enjoys<br>market analysis and investment<br>strategies. Data and precision are<br>essential in my field. Free time is<br>spent reading financial news and<br>managing personal investments. I am<br>curious, listen to indie music, and<br>enjoy learning about global economics.",
           "Indie, Pop, Rock",
           4,
           4,
           3
          ],
          [
           "Madison Johnson",
           "I'm a software engineer with a passion<br>for mobile app development and UI/UX<br>design. Innovation and user-centric<br>design are key to my work. Free time is<br>spent exploring new technologies and<br>contributing to open-source projects. I<br>am outgoing, enjoy electronic music, and<br>love attending tech meetups.",
           "Electronic, Pop, Indie",
           4,
           3,
           3
          ],
          [
           "Caleb Moore",
           "I'm a marketing specialist who enjoys<br>developing marketing strategies and<br>brand building. Creativity and<br>communication are essential in my field.<br>Free time is spent analyzing marketing<br>campaigns and brainstorming new ideas. I<br>am curious, listen to indie music, and<br>enjoy learning about consumer behavior.",
           "Indie, Pop, Rock",
           4,
           4,
           3
          ],
          [
           "Naomi White",
           "I am a freelance writer, enjoying<br>crafting stories and articles on diverse<br>topics. Creativity and effective<br>communication are key. Weekends are<br>spent researching and writing in cozy<br>cafes. I am outgoing, enjoy electronic<br>music, and love attending writing<br>workshops and literary events.",
           "Electronic, Pop, Indie",
           4,
           3,
           3
          ],
          [
           "Hunter Robinson",
           "I am a data analyst, enjoying the<br>process of extracting insights from<br>complex datasets and presenting data<br>visually. Analytical skills and<br>attention to detail are key in my field.<br>Free time is spent learning new data<br>analysis tools and exploring data<br>visualization techniques. I am curious,<br>listen to indie music, and enjoy the<br>challenge of data-driven problem<br>solving.",
           "Indie, Pop, Rock",
           4,
           4,
           3
          ],
          [
           "Bennett Scott",
           "I am a junior web developer, excited<br>about coding and building user-friendly<br>websites and applications. Technical<br>skills and a desire to learn are key in<br>my career. Free time is spent coding<br>personal projects and exploring new web<br>technologies. I am curious, listen to<br>indie music, and enjoy the challenge of<br>software development.",
           "Indie, Pop, Rock",
           4,
           4,
           3
          ],
          [
           "Eleanor Carter",
           "I am an ESL teacher, enjoying helping<br>adults learn English and navigate new<br>cultures. Empathy and communication are<br>key to my teaching approach. Weekends<br>are spent preparing lessons and engaging<br>with cultural exchange programs. I am<br>outgoing, enjoy electronic music, and<br>love connecting with people from diverse<br>backgrounds.",
           "Electronic, Pop, Indie",
           4,
           3,
           3
          ],
          [
           "Theodore Turner",
           "I am a video game designer, excited<br>about creating immersive and engaging<br>gaming experiences. Creativity and<br>technical skills are key in my career.<br>Free time is spent playtesting games and<br>learning new game development<br>techniques. I am curious, listen to<br>indie music, and enjoy the innovative<br>and interactive world of video games.",
           "Indie, Pop, Rock",
           4,
           4,
           3
          ],
          [
           "Chloe Davis",
           "Creative and curious, I enjoy writing<br>short stories and exploring different<br>forms of art. I am passionate about<br>creative writing and visual arts. My<br>favorite music genres are indie and pop,<br>and I enjoy visiting art museums and<br>attending literary events.",
           "Indie, Pop, Folk",
           4,
           2,
           3
          ],
          [
           "Olivia Brown",
           "Creative and thoughtful, I enjoy writing<br>poetry and exploring different forms of<br>creative expression. I am passionate<br>about literature and the arts. My<br>favorite music genres are indie and<br>folk, and I enjoy reading novels and<br>attending poetry slams.",
           "Indie, Folk, Blues",
           4,
           2,
           2
          ],
          [
           "Amelia Jackson",
           "Creative and curious, I enjoy writing<br>fantasy novels and creating imaginary<br>worlds. I am passionate about creative<br>writing and storytelling. My favorite<br>music genres are indie and classical,<br>and I enjoy attending writing workshops<br>and literary festivals.",
           "Indie, Classical, Folk",
           4,
           2,
           2
          ],
          [
           "Emily Clark",
           "Creative and curious, I enjoy learning<br>about mythology and folklore from<br>different cultures. I am passionate<br>about mythology and storytelling. My<br>favorite music genres are world and<br>folk, and I enjoy reading myths and<br>legends and attending storytelling<br>events.",
           "World, Folk, Classical",
           4,
           2,
           2
          ],
          [
           "Chloe Mitchell",
           "Creative and empathetic, I express<br>myself through watercolor painting and<br>writing poetry. I am passionate about<br>art therapy and emotional expression. My<br>favorite music genres are indie and<br>folk, and I enjoy visiting art museums<br>and attending poetry readings.",
           "Indie, Folk, Classical",
           4,
           2,
           2
          ],
          [
           "Hazel Simmons",
           "Creative and expressive, I love to write<br>poetry and perform spoken word at open<br>mic nights. I am passionate about poetry<br>and spoken word performance. My favorite<br>music genres are indie and folk, and I<br>enjoy attending poetry slams and<br>literary events.",
           "Indie, Folk, Soul",
           4,
           2,
           3
          ],
          [
           "Violet Powell",
           "Creative and expressive, I love to paint<br>abstract art and experiment with<br>different artistic styles. I am<br>passionate about abstract art and visual<br>expression. My favorite music genres are<br>indie and electronic, and I enjoy<br>visiting art galleries and attending art<br>exhibitions.",
           "Indie, Electronic, Classical",
           4,
           2,
           3
          ],
          [
           "Claire Morgan",
           "Creative and expressive, I love to<br>design jewelry and create unique<br>accessories. I am passionate about<br>jewelry design and fashion accessories.<br>My favorite music genres are pop and<br>indie, and I enjoy attending craft fairs<br>and jewelry making workshops.",
           "Pop, Indie, Electronic",
           4,
           2,
           3
          ],
          [
           "Autumn Fisher",
           "Creative and expressive, I love to write<br>short stories and create fictional<br>characters and worlds. I am passionate<br>about creative writing and storytelling.<br>My favorite music genres are indie and<br>folk, and I enjoy attending writing<br>workshops and literary festivals.",
           "Indie, Folk, Classical",
           4,
           2,
           3
          ],
          [
           "Naomi Foster",
           "Creative and expressive, I love to paint<br>landscapes and capture the beauty of<br>nature on canvas. I am passionate about<br>landscape painting and visual arts. My<br>favorite music genres are indie and<br>folk, and I enjoy visiting art galleries<br>and painting outdoors.",
           "Indie, Folk, Classical",
           4,
           2,
           3
          ],
          [
           "Sadie Simmons",
           "Creative and expressive, I love to write<br>short stories and create fictional<br>worlds and characters in my spare time.<br>I am passionate about creative writing<br>and storytelling. My favorite music<br>genres are indie and folk, and I enjoy<br>attending writing workshops and literary<br>events.",
           "Indie, Folk, Classical",
           4,
           2,
           3
          ],
          [
           "Alice Powell",
           "Creative and expressive, I love to paint<br>portraits and capture the personalities<br>of people on canvas. I am passionate<br>about portrait painting and visual arts.<br>My favorite music genres are indie and<br>folk, and I enjoy visiting art galleries<br>and painting in my studio.",
           "Indie, Folk, Classical",
           4,
           2,
           3
          ],
          [
           "Kimberly Powell",
           "Creative and expressive, I love to write<br>short stories and create fictional<br>worlds and characters in my free time<br>and for creative projects. I am<br>passionate about creative writing and<br>storytelling. My favorite music genres<br>are indie and folk, and I enjoy<br>attending writing workshops and literary<br>events in my city and region.",
           "Indie, Folk, Classical",
           4,
           2,
           3
          ],
          [
           "Ivy Simmons",
           "Creative and expressive, I love to paint<br>portraits and capture the personalities<br>of different people on canvas and paper.<br>I am passionate about portrait painting<br>and visual arts and artistic expression.<br>My favorite music genres are indie and<br>folk, and I enjoy visiting art galleries<br>and painting in my studio and at outdoor<br>locations.",
           "Indie, Folk, Classical",
           4,
           2,
           3
          ],
          [
           "Katherine Simmons",
           "Creative and expressive, I love to write<br>short stories and create fictional<br>worlds and characters in my free time<br>and for creative writing projects and<br>hobbies. I am passionate about creative<br>writing and storytelling and expressing<br>my imagination through words. My<br>favorite music genres are indie and<br>folk, and I enjoy attending writing<br>workshops and literary events in my city<br>and region and connecting with other<br>writers.",
           "Indie, Folk, Classical",
           4,
           2,
           3
          ],
          [
           "Isabelle Powell",
           "Creative and expressive, I love to paint<br>portraits and capture the personalities<br>of different people on canvas and paper<br>and other artistic mediums. I am<br>passionate about portrait painting and<br>visual arts and capturing human emotion<br>and expression. My favorite music genres<br>are indie and folk, and I enjoy visiting<br>art galleries and painting in my studio<br>and at outdoor scenic locations and<br>sharing my artwork with others.",
           "Indie, Folk, Classical",
           4,
           2,
           3
          ],
          [
           "Clara Powell",
           "Creative and expressive, I love to write<br>short stories and create fictional<br>worlds and characters in my free time<br>and for creative writing projects and<br>hobbies and personal expression. I am<br>passionate about creative writing and<br>storytelling and expressing my<br>imagination and creativity through<br>written words. My favorite music genres<br>are indie and folk, and I enjoy<br>attending writing workshops and literary<br>events in my city and region and<br>connecting with other writers and<br>sharing my stories with readers.",
           "Indie, Folk, Classical",
           4,
           2,
           3
          ],
          [
           "Camilla Simmons",
           "Creative and expressive, I love to paint<br>portraits and capture the personalities<br>of different people on canvas and paper<br>and other artistic mediums and<br>techniques. I am passionate about<br>portrait painting and visual arts and<br>capturing human emotion and expression<br>and creating meaningful artistic<br>representations. My favorite music<br>genres are indie and folk, and I enjoy<br>visiting art galleries and painting in<br>my studio and at outdoor scenic<br>locations and sharing my artwork with<br>others and receiving feedback and<br>inspiration.",
           "Indie, Folk, Classical",
           4,
           2,
           3
          ],
          [
           "Melanie Simmons",
           "Creative and expressive, I love to write<br>short stories and create fictional<br>worlds and characters in my free time<br>and for creative writing projects and<br>hobbies and personal expression and<br>artistic fulfillment. I am passionate<br>about creative writing and storytelling<br>and expressing my imagination and<br>creativity through written words and<br>crafting compelling narratives and<br>characters. My favorite music genres are<br>indie and folk, and I enjoy attending<br>writing workshops and literary events in<br>my city and region and connecting with<br>other writers and sharing my stories<br>with readers and receiving feedback and<br>inspiration from the writing community.",
           "Indie, Folk, Classical",
           4,
           2,
           3
          ],
          [
           "Angelina Powell",
           "Creative and expressive, I love to paint<br>portraits and capture the personalities<br>of different people on canvas and paper<br>and other artistic mediums and<br>techniques and styles. I am passionate<br>about portrait painting and visual arts<br>and capturing human emotion and<br>expression and creating meaningful<br>artistic representations and expressing<br>my artistic vision. My favorite music<br>genres are indie and folk, and I enjoy<br>visiting art galleries and painting in<br>my studio and at outdoor scenic<br>locations and sharing my artwork with<br>others and receiving feedback and<br>inspiration from the art community and<br>developing my artistic skills and<br>portfolio.",
           "Indie, Folk, Classical",
           4,
           2,
           3
          ],
          [
           "Charlie Powell",
           "Creative and expressive, I love to write<br>short stories and create fictional<br>worlds and characters in my free time<br>and for creative writing projects and<br>hobbies and personal expression and<br>artistic fulfillment and storytelling<br>endeavors. I am passionate about<br>creative writing and storytelling and<br>expressing my imagination and creativity<br>through written words and crafting<br>compelling narratives and characters and<br>exploring different genres and writing<br>styles. My favorite music genres are<br>indie and folk, and I enjoy attending<br>writing workshops and literary events in<br>my city and region and connecting with<br>other writers and sharing my stories<br>with readers and receiving feedback and<br>inspiration from the writing community<br>and developing my writing skills and<br>literary voice.",
           "Indie, Folk, Classical",
           4,
           2,
           3
          ]
         ],
         "hoverlabel": {
          "bgcolor": "white",
          "bordercolor": "#636efa",
          "font": {
           "color": "#636efa",
           "family": "Arial",
           "size": 14
          }
         },
         "hovertemplate": "<b> Name: </b> %{customdata[0]}<br><b> About Me: </b> %{customdata[1]}<br><b> Favorite Music Genres: </b> %{customdata[2]}<br><b> Outgoing: </b> %{customdata[3]}<br><b> Outdoorsy: </b> %{customdata[4]}<br><b> Politically Correct: </b> %{customdata[5]}<br><extra></extra>",
         "legendgroup": "8",
         "marker": {
          "color": "#636efa",
          "line": {
           "color": "DarkSlateGrey",
           "width": 2
          },
          "opacity": 0.8,
          "size": 12,
          "symbol": "circle"
         },
         "mode": "markers",
         "name": "8",
         "orientation": "v",
         "showlegend": true,
         "type": "scatter",
         "x": [
          -0.3173612473408807,
          -0.05669459598642425,
          -0.24427074852046185,
          -0.3839381603583549,
          -0.23955383299784358,
          0.2654690765044978,
          0.18493330112880393,
          0.18724132311593897,
          -0.017839185107000954,
          -0.09752147883605945,
          0.18547176284630204,
          0.031228026584247247,
          0.21610625173148745,
          0.09143154842510423,
          0.0020982796167750063,
          0.022059150978130836,
          0.14702382902410388,
          0.022939689066776823,
          0.04134844032987407,
          0.1402738167421012,
          0.07474246409824388,
          0.15361824030152121,
          -0.08900200738945414,
          -0.22888662364281478,
          -0.3072703974156289,
          -0.23052537542775314,
          -0.1270992092289588,
          -0.10573648289960427,
          -0.22688267561198053,
          0.23740368153453684,
          -0.20768168896659703,
          -0.19826674910926465,
          -0.22213784831143524,
          -0.1693020347201158,
          -0.2127176578158611,
          -0.15531607643625395,
          -0.20562054664542967,
          -0.15379182554222853,
          -0.20108711270462812,
          -0.16376769986504047,
          -0.20609138149085374,
          -0.17052231551108515,
          -0.20310116867714162
         ],
         "xaxis": "x",
         "y": [
          -0.04391956755731587,
          0.14686539092389575,
          0.008820692905154177,
          0.06115487089398921,
          0.31175689968191883,
          -0.22033489979039952,
          -0.14921560800687764,
          -0.12364753963146873,
          -0.12166810620732235,
          -0.1584781043451386,
          -0.13922875060651008,
          0.10787197748336105,
          -0.030671531188740567,
          0.0271683719624594,
          0.041070625220908985,
          0.25821598278447394,
          -0.03664137880039697,
          -0.037498732157222776,
          0.057584520905152495,
          0.09250002529224445,
          0.06936884071541925,
          -0.020561369963325526,
          -0.25319308786100514,
          -0.3186330170866738,
          -0.25337005200156126,
          -0.24137975859302915,
          -0.559212272014748,
          -0.2800898015141672,
          -0.10012618861150177,
          -0.15343096175932258,
          -0.30001528863931964,
          -0.3394885523110329,
          -0.31434741036093994,
          -0.3202967463603105,
          -0.3028623311509632,
          -0.3270751973181711,
          -0.30306046585172336,
          -0.31652564090143764,
          -0.30347631748609205,
          -0.309626195628925,
          -0.30091433410691454,
          -0.29455728588186203,
          -0.28834661222048685
         ],
         "yaxis": "y"
        },
        {
         "customdata": [
          [
           "Priya Sharma",
           "I am adventurous and pragmatic, enjoy<br>electronic music, and love painting. I<br>admire Greta Thunberg, am fascinated by<br>Astrology, and enjoy coding. My hobbies<br>include traveling, reading fantasy<br>novels, and gardening.",
           "Pop, Rock",
           5,
           4,
           1
          ],
          [
           "Adebayo Nkosi",
           "I am outgoing and analytical, enjoy jazz<br>music, and love thrifting. I admire<br>Nelson Mandela, am fascinated by<br>technology, and enjoy hiking. My hobbies<br>include cooking, gardening, and<br>photography.",
           "Rap, Hip-hop",
           3,
           5,
           5
          ],
          [
           "Sarah Johnson",
           "I am outgoing, enjoy electronic music,<br>love hiking, and am into thrifting. I<br>admire Olivia Rodrigo, am fascinated by<br>Astrology, and enjoy painting. My<br>hobbies include traveling, reading<br>fantasy novels, and cooking.",
           "Rap, Electronic, Pop",
           5,
           5,
           5
          ],
          [
           "Jane Doe",
           "I am friendly and love being outdoors. I<br>enjoy pop music and am accepting of<br>politically incorrect jokes. I am<br>interested in photography and hiking. My<br>hobbies include traveling and painting.",
           "Pop, Indie, Rock",
           5,
           5,
           5
          ],
          [
           "Fatima Hassan",
           "I am energetic and love trying new<br>things. I enjoy hip-hop music and am<br>very accepting of politically incorrect<br>jokes. I am interested in travel and<br>different cultures. My hobbies include<br>hiking and photography.",
           "Hip-hop, Metal, Blues",
           5,
           5,
           5
          ],
          [
           "Diya Patel",
           "I am cheerful and enjoy social<br>gatherings. I like metal music and am<br>very accepting of politically incorrect<br>jokes. I am interested in music and<br>concerts. My hobbies include painting<br>and traveling.",
           "Metal, Rap, Electronic",
           4,
           4,
           4
          ],
          [
           "Rohan Verma",
           "I am enthusiastic and love outdoor<br>adventures. I like rock music and am<br>very accepting of politically incorrect<br>jokes. I am interested in sports and<br>hiking. My hobbies include traveling and<br>reading.",
           "Rock, Pop, Electronic",
           5,
           5,
           5
          ],
          [
           "Alejandro García",
           "I am adventurous and love exploring new<br>cities. I enjoy techno, philosophy<br>podcasts, and spicy food.",
           "Electronic",
           4,
           5,
           2
          ],
          [
           "Liam O'Connor",
           "I am always up for a good time and love<br>live concerts. I enjoy rock, hiking, and<br>video games.",
           "Rock",
           5,
           4,
           4
          ],
          [
           "Omar Hassan",
           "I am adventurous, and I enjoy<br>photography. I'm a fan of Bob Marley,<br>and I embrace diversity. I love biking,<br>and I am generous.",
           "Reggae, Jazz",
           4,
           5,
           3
          ],
          [
           "Samuel Johnson",
           "I am energetic, and I enjoy playing<br>guitar. I'm a fan of The Beatles, and I<br>embrace learning. I love camping, and I<br>am reliable.",
           "Rock, Pop",
           5,
           5,
           5
          ],
          [
           "Aisha Mohamed",
           "I am outgoing, enjoy electronic music,<br>love hiking, and enjoy thrifting. I’m a<br>huge fan of Olivia Rodrigo, embrace<br>astrology, and love playing soccer.",
           "Electronic, Pop, Rap",
           4,
           5,
           3
          ],
          [
           "Carlos Rodriguez",
           "I am energetic, love rock music, enjoy<br>skateboarding, and playing video games.<br>I’m a big fan of Foo Fighters, embrace<br>technology, and love playing baseball.",
           "Rock, Electronic",
           5,
           4,
           5
          ],
          [
           "Emily Brown",
           "I am lively, love rock music, enjoy<br>going to parties, and meeting new<br>people. I’m a huge fan of Queen, embrace<br>spontaneity, and love singing karaoke.",
           "Rock, Pop, Electronic",
           5,
           4,
           5
          ],
          [
           "Olivia Wilson",
           "I am outgoing, enjoy electronic music,<br>love hiking, and enjoy thrifting. I’m a<br>huge fan of Billie Eilish, embrace<br>astrology, and love playing soccer.",
           "Electronic, Pop, Indie",
           4,
           5,
           3
          ],
          [
           "Liam O'Connell",
           "I am energetic, love rock music, enjoy<br>skateboarding, and playing video games.<br>I’m a big fan of Foo Fighters, embrace<br>technology, and love playing baseball.",
           "Rock, Electronic, Pop",
           5,
           4,
           5
          ],
          [
           "Chloe Brown",
           "I am lively, love rock music, enjoy<br>going to parties, and meeting new<br>people. I’m a huge fan of Queen, embrace<br>spontaneity, and love singing karaoke.",
           "Rock, Pop, Electronic",
           5,
           4,
           5
          ],
          [
           "James Williams",
           "I'm a sports enthusiast who plays<br>basketball and follows professional<br>leagues closely. Teamwork and discipline<br>are values I admire. I usually spend my<br>weekends at the gym or watching sports<br>games with friends. I am energetic, love<br>rock music, and enjoy outdoor<br>adventures.",
           "Rock, Pop, Electronic",
           5,
           5,
           5
          ],
          [
           "Ella Rodriguez",
           "I'm a musician who plays the piano and<br>composes original pieces. Music and<br>harmony are essential to my life. I<br>often spend hours practicing and<br>performing. I am lively, love rock<br>music, and enjoy performing on stage.",
           "Rock, Pop, Electronic",
           5,
           4,
           5
          ],
          [
           "Matthew O'Brien",
           "I'm a chef who loves experimenting with<br>flavors and creating new dishes.<br>Culinary arts and gastronomy are my<br>passions. I often spend time in the<br>kitchen perfecting recipes and hosting<br>dinner parties. I am energetic, love<br>rock music, and enjoy cooking for<br>friends and family.",
           "Rock, Electronic, Pop",
           5,
           4,
           5
          ],
          [
           "Grace Brown",
           "I'm a dancer specializing in ballet and<br>contemporary dance. Grace and artistry<br>are central to my craft. I often spend<br>hours rehearsing and performing on<br>stage. I am lively, love rock music, and<br>enjoy expressing emotions through<br>movement.",
           "Rock, Pop, Electronic",
           5,
           4,
           5
          ],
          [
           "Ryan O'Connell",
           "I am a personal trainer and fitness<br>enthusiast who loves helping people<br>achieve their health goals. Discipline<br>and motivation are key to my approach.<br>Weekends are spent hiking and<br>participating in marathons. I am<br>energetic, love rock music, and enjoy<br>outdoor fitness activities.",
           "Rock, Electronic, Pop",
           5,
           5,
           5
          ],
          [
           "Kaylee Brown",
           "I am a theater actress who loves<br>performing on stage and embodying<br>different characters. Drama and<br>expression are central to my life.<br>Weekends are spent rehearsing and<br>performing in plays. I am lively, love<br>rock music, and enjoy the energy of live<br>performances.",
           "Rock, Pop, Electronic",
           5,
           4,
           5
          ],
          [
           "Brandon Miller",
           "I'm a construction worker who enjoys<br>building and creating tangible<br>structures. Practical skills and<br>teamwork are vital in my job. Weekends<br>are spent working on home improvement<br>projects and enjoying outdoor<br>activities. I am energetic, love rock<br>music, and enjoy physical challenges.",
           "Rock, Electronic, Pop",
           5,
           4,
           5
          ],
          [
           "Paisley Thomas",
           "I'm a voice actress who loves bringing<br>characters to life through vocal<br>performance. Expression and creativity<br>are central to my profession. Weekends<br>are spent in recording studios and<br>auditioning for new roles. I am lively,<br>love rock music, and enjoy the dynamic<br>and expressive nature of voice acting.",
           "Rock, Pop, Electronic",
           5,
           4,
           5
          ],
          [
           "Connor Garcia",
           "I am a carpenter who enjoys working with<br>wood and creating handcrafted furniture.<br>Practical skills and attention to detail<br>are vital in my craft. Weekends are<br>spent working on woodworking projects in<br>my home workshop and enjoying outdoor<br>activities. I am energetic, love rock<br>music, and enjoy the satisfaction of<br>building things with my hands.",
           "Rock, Electronic, Pop",
           5,
           4,
           5
          ],
          [
           "Aurora Lewis",
           "I am a stage manager for theater<br>productions, loving the organized chaos<br>and teamwork of live performances.<br>Leadership and problem-solving are key<br>in my role. Weekends are spent backstage<br>during performances and coordinating<br>production teams. I am lively, love rock<br>music, and enjoy the dynamic and<br>collaborative environment of theater.",
           "Rock, Pop, Electronic",
           5,
           4,
           5
          ],
          [
           "Weston King",
           "I am a plumber who enjoys solving<br>practical problems and ensuring<br>essential home services are functioning<br>smoothly. Practical skills and problem-<br>solving abilities are vital in my trade.<br>Weekends are spent working on plumbing<br>projects and enjoying outdoor hobbies. I<br>am energetic, love rock music, and enjoy<br>the hands-on nature of my work.",
           "Rock, Electronic, Pop",
           5,
           4,
           5
          ],
          [
           "Savannah Adams",
           "I am a costume designer for theater,<br>loving the creativity and detail<br>involved in character development<br>through clothing. Artistic skills and<br>attention to detail are central to my<br>work. Weekends are spent designing and<br>creating costumes for theater<br>productions. I am lively, love rock<br>music, and enjoy the collaborative and<br>expressive nature of theater costume<br>design.",
           "Rock, Pop, Electronic",
           5,
           4,
           5
          ],
          [
           "Asher Roberts",
           "I am a construction foreman who enjoys<br>managing construction projects and<br>leading teams to successful completion.<br>Leadership and practical skills are<br>vital in my job. Weekends are spent<br>overseeing construction sites and<br>enjoying outdoor recreation. I am<br>energetic, love rock music, and enjoy<br>the challenge and accomplishment of<br>construction projects.",
           "Rock, Electronic, Pop",
           5,
           4,
           5
          ],
          [
           "Penelope Bell",
           "I am a lighting designer for theater,<br>loving the art of creating atmosphere<br>and enhancing storytelling through<br>light. Artistic vision and technical<br>understanding are central to my work.<br>Weekends are spent designing lighting<br>for theater productions and attending<br>lighting design workshops. I am lively,<br>love rock music, and enjoy the<br>transformative and expressive power of<br>theatrical lighting.",
           "Rock, Pop, Electronic",
           5,
           4,
           5
          ],
          [
           "Liam O'Connell",
           "Energetic and adventurous, I love<br>exploring the great outdoors and trying<br>new sports. I am passionate about<br>photography and capturing moments in<br>nature. My favorite music genres are<br>rock and electronic, and I enjoy<br>traveling and meeting new people.",
           "Rock, Electronic, Sports",
           5,
           5,
           3
          ],
          [
           "Ivan Volkov",
           "I am an adventurous and energetic person<br>who loves to go rock climbing and<br>explore mountain trails. I am passionate<br>about environmental conservation and<br>sustainable living. My favorite music<br>genres are rock and metal, and I enjoy<br>camping and outdoor photography.",
           "Rock, Metal, Blues",
           5,
           5,
           4
          ],
          [
           "Noah Wilson",
           "Adventurous and curious, I love to go<br>camping and hiking in national parks. I<br>am passionate about nature and wildlife<br>conservation. My favorite music genres<br>are rock and folk, and I enjoy<br>stargazing and learning about astronomy.",
           "Rock, Folk, Country",
           5,
           5,
           4
          ],
          [
           "Lucas Thomas",
           "Energetic and adventurous, I love to<br>snowboard in the winter and surf in the<br>summer. I am passionate about extreme<br>sports and outdoor activities. My<br>favorite music genres are rock and<br>electronic, and I enjoy traveling to<br>mountain resorts and beach destinations.",
           "Rock, Electronic, Punk",
           5,
           5,
           4
          ],
          [
           "Joseph Robinson",
           "Energetic and adventurous, I love to go<br>kayaking and white-water rafting. I am<br>passionate about water sports and<br>outdoor adventures. My favorite music<br>genres are rock and reggae, and I enjoy<br>traveling to rivers and lakes for<br>outdoor activities.",
           "Rock, Reggae, Blues",
           5,
           5,
           4
          ],
          [
           "Grace Wright",
           "Energetic and adventurous, I love to go<br>rock climbing and bouldering in indoor<br>gyms. I am passionate about climbing and<br>physical challenges. My favorite music<br>genres are rock and metal, and I enjoy<br>attending climbing competitions and gym<br>sessions.",
           "Rock, Metal, Punk",
           5,
           5,
           4
          ],
          [
           "Nicholas Baker",
           "Outgoing and artistic, I love to play<br>the drums and perform in a band. I am<br>passionate about drumming and live music<br>performance. My favorite music genres<br>are rock and punk, and I enjoy attending<br>concerts and band practices.",
           "Rock, Punk, Metal",
           5,
           2,
           3
          ],
          [
           "Gabriel Peterson",
           "Energetic and adventurous, I love to<br>hike in the mountains and camp under the<br>stars. I am passionate about wilderness<br>survival and environmental conservation.<br>My favorite music genres are rock and<br>country, and I enjoy backpacking trips<br>and outdoor photography.",
           "Rock, Country, Folk",
           5,
           5,
           4
          ],
          [
           "Jackson Flores",
           "Adventurous and curious, I enjoy<br>exploring historical sites and learning<br>about ancient civilizations. I am<br>passionate about history and<br>archaeology. My favorite music genres<br>are classical and world music, and I<br>enjoy traveling to historical landmarks<br>and visiting museums.",
           "Classical, World, Folk",
           5,
           4,
           4
          ],
          [
           "Cameron Wright",
           "Adventurous and curious, I love to<br>travel to new countries and experience<br>different cultures. I am passionate<br>about travel and cultural exploration.<br>My favorite music genres are world and<br>pop, and I enjoy backpacking trips and<br>international festivals.",
           "World, Pop, Latin",
           5,
           4,
           4
          ],
          [
           "Jonathan Griffin",
           "Energetic and adventurous, I love to go<br>mountain biking and explore off-road<br>trails. I am passionate about mountain<br>biking and outdoor sports. My favorite<br>music genres are rock and metal, and I<br>enjoy traveling to mountain bike parks<br>and attending cycling events.",
           "Rock, Metal, Punk",
           5,
           5,
           4
          ],
          [
           "Thomas Simmons",
           "Adventurous and curious, I love to go<br>scuba diving and explore underwater<br>reefs. I am passionate about scuba<br>diving and marine biology. My favorite<br>music genres are reggae and world music,<br>and I enjoy traveling to tropical<br>locations and diving in coral reefs.",
           "Reggae, World, Blues",
           5,
           5,
           4
          ],
          [
           "Brandon Barnes",
           "Energetic and adventurous, I love to go<br>rock climbing and explore mountain<br>caves. I am passionate about rock<br>climbing and spelunking. My favorite<br>music genres are rock and metal, and I<br>enjoy traveling to climbing gyms and<br>cave exploring locations.",
           "Rock, Metal, Punk",
           5,
           5,
           4
          ],
          [
           "Tyler Gray",
           "Adventurous and curious, I love to go<br>hiking and explore national parks and<br>wilderness areas. I am passionate about<br>hiking and wilderness exploration. My<br>favorite music genres are rock and<br>country, and I enjoy traveling to<br>national parks and backpacking in<br>nature.",
           "Rock, Country, Folk",
           5,
           5,
           4
          ],
          [
           "Adrian Reynolds",
           "Adventurous and curious, I love to<br>travel to different countries and learn<br>about their history and customs. I am<br>passionate about travel and cultural<br>history. My favorite music genres are<br>world and classical, and I enjoy<br>backpacking trips and visiting<br>historical landmarks.",
           "World, Classical, Folk",
           5,
           4,
           4
          ],
          [
           "Julian Wright",
           "Adventurous and curious, I love to go<br>rock climbing and explore mountain<br>trails and peaks. I am passionate about<br>rock climbing and mountaineering. My<br>favorite music genres are rock and<br>metal, and I enjoy traveling to mountain<br>ranges and climbing in nature.",
           "Rock, Metal, Punk",
           5,
           5,
           4
          ],
          [
           "Christopher Long",
           "Adventurous and curious, I love to go<br>hiking and explore forests and nature<br>trails in the countryside. I am<br>passionate about hiking and nature<br>exploration. My favorite music genres<br>are rock and country, and I enjoy<br>traveling to national parks and hiking<br>in natural landscapes.",
           "Rock, Country, Folk",
           5,
           5,
           4
          ],
          [
           "Connor Wright",
           "Adventurous and curious, I love to<br>travel to different countries and<br>experience new cultures and traditions.<br>I am passionate about travel and<br>cultural exploration. My favorite music<br>genres are world and classical, and I<br>enjoy backpacking trips and exploring<br>historical landmarks in foreign<br>countries.",
           "World, Classical, Folk",
           5,
           4,
           4
          ],
          [
           "Wesley Long",
           "Adventurous and curious, I love to go<br>rock climbing and explore mountain<br>trails and peaks in the wilderness. I am<br>passionate about rock climbing and<br>mountaineering. My favorite music genres<br>are rock and metal, and I enjoy<br>traveling to mountain ranges and<br>climbing challenging routes in nature.",
           "Rock, Metal, Punk",
           5,
           5,
           4
          ],
          [
           "Elliot Wright",
           "Adventurous and curious, I love to go<br>hiking and explore forests and nature<br>trails in the countryside and national<br>parks. I am passionate about hiking and<br>nature exploration. My favorite music<br>genres are rock and country, and I enjoy<br>traveling to national parks and hiking<br>in natural landscapes and scenic areas.",
           "Rock, Country, Folk",
           5,
           5,
           4
          ],
          [
           "Brady Long",
           "Adventurous and curious, I love to<br>travel to different countries and<br>experience new cultures and traditions<br>and learn about their history. I am<br>passionate about travel and cultural<br>exploration and historical learning. My<br>favorite music genres are world and<br>classical, and I enjoy backpacking trips<br>and exploring historical landmarks in<br>foreign countries and continents.",
           "World, Classical, Folk",
           5,
           4,
           4
          ],
          [
           "Hayden Wright",
           "Adventurous and curious, I love to go<br>rock climbing and explore mountain<br>trails and peaks in the wilderness and<br>challenging terrains. I am passionate<br>about rock climbing and mountaineering<br>and outdoor adventure sports. My<br>favorite music genres are rock and<br>metal, and I enjoy traveling to mountain<br>ranges and climbing challenging routes<br>in nature and pushing my physical<br>limits.",
           "Rock, Metal, Punk",
           5,
           5,
           4
          ],
          [
           "Silas Long",
           "Adventurous and curious, I love to go<br>hiking and explore forests and nature<br>trails in the countryside and national<br>parks and state parks. I am passionate<br>about hiking and nature exploration and<br>outdoor recreation activities. My<br>favorite music genres are rock and<br>country, and I enjoy traveling to<br>national parks and hiking in natural<br>landscapes and scenic areas and enjoying<br>the beauty of nature.",
           "Rock, Country, Folk",
           5,
           5,
           4
          ],
          [
           "Jasper Wright",
           "Adventurous and curious, I love to<br>travel to different countries and<br>experience new cultures and traditions<br>and learn about their history and<br>heritage. I am passionate about travel<br>and cultural exploration and historical<br>and cultural understanding. My favorite<br>music genres are world and classical,<br>and I enjoy backpacking trips and<br>exploring historical landmarks in<br>foreign countries and continents and<br>broadening my global perspective.",
           "World, Classical, Folk",
           5,
           4,
           4
          ],
          [
           "Santiago Long",
           "Adventurous and curious, I love to go<br>rock climbing and explore mountain<br>trails and peaks in the wilderness and<br>challenging terrains and remote<br>locations. I am passionate about rock<br>climbing and mountaineering and outdoor<br>adventure sports and pushing physical<br>and mental boundaries. My favorite music<br>genres are rock and metal, and I enjoy<br>traveling to mountain ranges and<br>climbing challenging routes in nature<br>and experiencing the thrill of outdoor<br>adventures.",
           "Rock, Metal, Punk",
           5,
           5,
           4
          ],
          [
           "River Wright",
           "Adventurous and curious, I love to go<br>hiking and explore forests and nature<br>trails in the countryside and national<br>parks and state parks and wilderness<br>areas. I am passionate about hiking and<br>nature exploration and outdoor<br>recreation activities and connecting<br>with nature. My favorite music genres<br>are rock and country, and I enjoy<br>traveling to national parks and hiking<br>in natural landscapes and scenic areas<br>and enjoying the beauty and tranquility<br>of the natural world.",
           "Rock, Country, Folk",
           5,
           5,
           4
          ],
          [
           "August Long",
           "Adventurous and curious, I love to<br>travel to different countries and<br>experience new cultures and traditions<br>and learn about their history and<br>heritage and customs. I am passionate<br>about travel and cultural exploration<br>and historical and cultural<br>understanding and broadening my<br>horizons. My favorite music genres are<br>world and classical, and I enjoy<br>backpacking trips and exploring<br>historical landmarks in foreign<br>countries and continents and expanding<br>my global awareness and cultural<br>appreciation.",
           "World, Classical, Folk",
           5,
           4,
           4
          ],
          [
           "Arthur Wright",
           "Adventurous and curious, I love to go<br>rock climbing and explore mountain<br>trails and peaks in the wilderness and<br>challenging terrains and remote<br>locations and extreme environments. I am<br>passionate about rock climbing and<br>mountaineering and outdoor adventure<br>sports and pushing physical and mental<br>boundaries and experiencing adrenaline<br>rushes. My favorite music genres are<br>rock and metal, and I enjoy traveling to<br>mountain ranges and climbing challenging<br>routes in nature and experiencing the<br>thrill of outdoor adventures and<br>overcoming personal challenges and<br>limitations.",
           "Rock, Metal, Punk",
           5,
           5,
           4
          ],
          [
           "Theodore Long",
           "Adventurous and curious, I love to go<br>hiking and explore forests and nature<br>trails in the countryside and national<br>parks and state parks and wilderness<br>areas and remote natural environments. I<br>am passionate about hiking and nature<br>exploration and outdoor recreation<br>activities and connecting with nature<br>and experiencing the beauty and wonder<br>of the natural world. My favorite music<br>genres are rock and country, and I enjoy<br>traveling to national parks and hiking<br>in natural landscapes and scenic areas<br>and enjoying the beauty and tranquility<br>of the natural world and appreciating<br>the environment.",
           "Rock, Country, Folk",
           5,
           5,
           4
          ],
          [
           "Leo Wright",
           "Adventurous and curious, I love to go<br>travel to different countries and<br>experience new cultures and traditions<br>and learn about their history and<br>heritage and customs and languages. I am<br>passionate about travel and cultural<br>exploration and historical and cultural<br>understanding and broadening my horizons<br>and expanding my global perspective and<br>intercultural communication skills. My<br>favorite music genres are world and<br>classical, and I enjoy backpacking trips<br>and exploring historical landmarks in<br>foreign countries and continents and<br>expanding my global awareness and<br>cultural appreciation and immersing<br>myself in diverse cultures and<br>societies.",
           "World, Classical, Folk",
           5,
           4,
           4
          ],
          [
           "Maxwell Long",
           "Adventurous and curious, I love to go<br>rock climbing and explore mountain<br>trails and peaks in the wilderness and<br>challenging terrains and remote<br>locations and extreme environments and<br>adventurous outdoor settings. I am<br>passionate about rock climbing and<br>mountaineering and outdoor adventure<br>sports and pushing physical and mental<br>boundaries and experiencing adrenaline<br>rushes and challenging myself in nature.<br>My favorite music genres are rock and<br>metal, and I enjoy traveling to mountain<br>ranges and climbing challenging routes<br>in nature and experiencing the thrill of<br>outdoor adventures and overcoming<br>personal challenges and limitations and<br>enjoying the beauty and majesty of the<br>mountains.",
           "Rock, Metal, Punk",
           5,
           5,
           4
          ],
          [
           "Grayson Wright",
           "Adventurous and curious, I love to go<br>hiking and explore forests and nature<br>trails in the countryside and national<br>parks and state parks and wilderness<br>areas and remote natural environments<br>and scenic landscapes. I am passionate<br>about hiking and nature exploration and<br>outdoor recreation activities and<br>connecting with nature and experiencing<br>the beauty and wonder of the natural<br>world and appreciating the environment<br>and promoting outdoor recreation and<br>environmental conservation. My favorite<br>music genres are rock and country, and I<br>enjoy traveling to national parks and<br>hiking in natural landscapes and scenic<br>areas and enjoying the beauty and<br>tranquility of the natural world and<br>appreciating the environment and<br>promoting outdoor activities and<br>environmental stewardship.",
           "Rock, Country, Folk",
           5,
           5,
           4
          ]
         ],
         "hoverlabel": {
          "bgcolor": "white",
          "bordercolor": "#EF553B",
          "font": {
           "color": "#EF553B",
           "family": "Arial",
           "size": 14
          }
         },
         "hovertemplate": "<b> Name: </b> %{customdata[0]}<br><b> About Me: </b> %{customdata[1]}<br><b> Favorite Music Genres: </b> %{customdata[2]}<br><b> Outgoing: </b> %{customdata[3]}<br><b> Outdoorsy: </b> %{customdata[4]}<br><b> Politically Correct: </b> %{customdata[5]}<br><extra></extra>",
         "legendgroup": "0",
         "marker": {
          "color": "#EF553B",
          "line": {
           "color": "DarkSlateGrey",
           "width": 2
          },
          "opacity": 0.8,
          "size": 12,
          "symbol": "circle"
         },
         "mode": "markers",
         "name": "0",
         "orientation": "v",
         "showlegend": true,
         "type": "scatter",
         "x": [
          0.26411948246467054,
          0.0546146883634898,
          0.44518606339267275,
          0.4500251283383681,
          0.462248687911259,
          0.27661138487741654,
          0.4948181090532111,
          0.2249629631008743,
          0.4799898857895931,
          0.31109801375425017,
          0.4826297015133143,
          0.41323832085083845,
          0.4444801280484831,
          0.5783860664274215,
          0.328446134259996,
          0.5014935941982812,
          0.5783860664274215,
          0.4683620874240146,
          0.2691547011627463,
          0.39652523111991445,
          0.3642567971885623,
          0.4653766069979551,
          0.4446404174211007,
          0.4389312853428385,
          0.41729488602900505,
          0.35088424340668534,
          0.394627986754856,
          0.3571587942681743,
          0.38807007880356226,
          0.4372678465576782,
          0.32712063327640756,
          0.5271242513452693,
          0.28861846153334964,
          0.372219376569058,
          0.3385637238072112,
          0.48948414029496434,
          0.45783506617237374,
          0.18252133019927338,
          0.453830443417713,
          0.10940917976824224,
          0.4718426731219478,
          0.5145630082179403,
          0.13287573418858326,
          0.48209346028611144,
          0.4282247129744086,
          0.21043237766389647,
          0.44839343532266573,
          0.4000483318653389,
          0.24592039286564374,
          0.4481285028238193,
          0.40673720020553117,
          0.22667913575210186,
          0.46881418409385833,
          0.41275208145280995,
          0.23265007020067535,
          0.4676853145610462,
          0.4000202978002995,
          0.2478598722235392,
          0.46791853549379836,
          0.39139572048962884,
          0.2583453681099562,
          0.45925055852124824,
          0.3952080751397714
         ],
         "xaxis": "x",
         "y": [
          0.08375666362647907,
          0.12630441790931252,
          0.050858831598519165,
          -0.1675448867777741,
          0.042772161195389576,
          0.11700891474487445,
          0.10993534167860661,
          0.0955477560770082,
          0.15059937047466768,
          -0.21844899603279072,
          0.07531444122981555,
          0.06510190558490861,
          0.3294890766757692,
          0.16176282737029504,
          -0.07746576925903492,
          0.3054551515998627,
          0.16176282737029504,
          0.17206884518897417,
          0.1072407357686477,
          0.18466121906123198,
          0.1083592691983928,
          0.19760326904506734,
          0.10778722082776067,
          0.1949064197649666,
          0.08133896054244402,
          0.08700354111083423,
          0.2191579890602724,
          0.18261242671201497,
          0.10006840505600316,
          0.21215418109757703,
          0.10451490345443885,
          0.1395801586937993,
          0.13076018635817785,
          -0.0888730033553181,
          0.3257083023260367,
          -0.006882413058161513,
          0.20473655811209568,
          0.1514862450999631,
          -0.055302013131078714,
          -0.18146382690965712,
          -0.08768531907309815,
          0.1986913302977153,
          -0.018918613833362553,
          0.1629245399525457,
          -0.07564530432571658,
          -0.18177876789783695,
          0.14879563289398387,
          -0.096650365779307,
          -0.173777381602839,
          0.14232861764975704,
          -0.09761668751168834,
          -0.1715491892418162,
          0.14972382634381384,
          -0.10402096842725453,
          -0.17547058012917818,
          0.15103683498757414,
          -0.11109845774872744,
          -0.18083417901411175,
          0.1609107340759549,
          -0.10854922185254781,
          -0.17506867313202912,
          0.1524906657128963,
          -0.11592106980706164
         ],
         "yaxis": "y"
        },
        {
         "customdata": [
          [
           "Emily Carter",
           "I am introverted and empathetic, enjoy<br>country music, and am into coding. I<br>admire Marie Curie, am fascinated by<br>science, and enjoy traveling. My hobbies<br>include painting, reading fantasy<br>novels, and cooking.",
           "Metal, Blues",
           2,
           2,
           3
          ],
          [
           "Arjun Patel",
           "I am cautious and creative, enjoy blues<br>music, and love gardening. I admire<br>Mahatma Gandhi, am fascinated by<br>philosophy, and enjoy thrifting. My<br>hobbies include coding, photography, and<br>hiking.",
           "Electronic, Pop",
           4,
           1,
           4
          ],
          [
           "Zola Amadi",
           "I am adventurous and outgoing, enjoy<br>metal music, and love cooking. I admire<br>Wangari Maathai, am fascinated by<br>botany, and enjoy photography. My<br>hobbies include traveling, painting, and<br>hiking.",
           "Jazz, Classical",
           1,
           5,
           1
          ],
          [
           "David Miller",
           "I am curious and introverted, enjoy rap<br>music, and am into painting. I admire<br>Leonardo da Vinci, am fascinated by art,<br>and enjoy coding. My hobbies include<br>gardening, reading fantasy novels, and<br>cooking.",
           "Folk, Country",
           2,
           4,
           5
          ],
          [
           "Kwame Mensah",
           "I am analytical and creative, enjoy rock<br>music, and am into thrifting. I admire<br>Albert Einstein, am fascinated by<br>physics, and enjoy gardening. My hobbies<br>include reading fantasy novels,<br>traveling, and coding.",
           "Blues, Rap",
           4,
           1,
           4
          ],
          [
           "Vikram Singh",
           "I am reserved, enjoy classical music,<br>dislike politically incorrect jokes, and<br>am not very outdoorsy. I am fascinated<br>by history and enjoy reading. My hobbies<br>include cooking and gardening.",
           "Classical, Folk",
           1,
           1,
           1
          ],
          [
           "Chen Wei",
           "I am thoughtful and enjoy quiet<br>activities like reading. I like folk<br>music and prefer politically correct<br>content. I am interested in science and<br>cooking. My hobbies include gardening<br>and coding.",
           "Folk, Jazz, Classical",
           2,
           2,
           2
          ],
          [
           "Zhang Wei",
           "I am serious and enjoy focused<br>activities. I like blues music and<br>prefer politically correct content. I am<br>interested in technology and coding. My<br>hobbies include gardening and hiking.",
           "Blues, Jazz, Folk",
           2,
           2,
           2
          ],
          [
           "Aisha Khan",
           "I am introverted but love deep<br>conversations. I enjoy jazz, baking, and<br>anime.",
           "Jazz",
           2,
           1,
           3
          ],
          [
           "Nina Petrova",
           "I am quiet but passionate about my<br>interests. I enjoy classical music,<br>reading, and long walks.",
           "Classical",
           1,
           4,
           1
          ],
          [
           "Nadia Petrova",
           "I am passionate, and I enjoy writing.<br>I'm a fan of Tchaikovsky, and I embrace<br>art. I love yoga, and I am kind.",
           "Classical, Jazz",
           2,
           3,
           1
          ],
          [
           "Gabriel Silva",
           "I am thoughtful, and I enjoy chess. I'm<br>a fan of Beethoven, and I embrace<br>philosophy. I love basketball, and I am<br>intelligent.",
           "Classical, Jazz",
           2,
           4,
           2
          ],
          [
           "Chen Wei",
           "I am reserved, appreciate jazz music,<br>prefer staying indoors, and collect<br>stamps. I’m a big admirer of Miles<br>Davis, embrace minimalism, and love<br>reading novels.",
           "Jazz, Classical, Indie",
           2,
           1,
           2
          ],
          [
           "Lena Müller",
           "I am calm, appreciate classical music,<br>prefer quiet evenings, and enjoy<br>knitting. I’m a big admirer of Bach,<br>embrace tradition, and love gardening.",
           "Classical, Indie",
           1,
           2,
           1
          ],
          [
           "Javier Garcia",
           "I am thoughtful, appreciate jazz music,<br>enjoy playing board games, and solving<br>puzzles. I’m a big admirer of John<br>Coltrane, embrace intellect, and love<br>reading books.",
           "Jazz, Classical",
           2,
           2,
           2
          ],
          [
           "Daiki Sato",
           "I am reserved, appreciate classical<br>music, prefer quiet environments, and<br>enjoy calligraphy. I’m a big admirer of<br>Mozart, embrace tranquility, and love<br>tea ceremonies.",
           "Classical, Jazz",
           1,
           1,
           1
          ],
          [
           "Noah Lee",
           "I am reserved, appreciate jazz music,<br>prefer staying indoors, and collect<br>stamps. I’m a big admirer of Miles<br>Davis, embrace minimalism, and love<br>reading novels.",
           "Jazz, Classical, Rock",
           2,
           1,
           2
          ],
          [
           "Sophia Müller",
           "I am calm, appreciate classical music,<br>prefer quiet evenings, and enjoy<br>knitting. I’m a big admirer of Bach,<br>embrace tradition, and love gardening.",
           "Classical, Indie",
           1,
           2,
           1
          ],
          [
           "Aiden Garcia",
           "I am thoughtful, appreciate jazz music,<br>enjoy playing board games, and solving<br>puzzles. I’m a big admirer of John<br>Coltrane, embrace intellect, and love<br>reading books.",
           "Jazz, Classical, Indie",
           2,
           2,
           2
          ],
          [
           "Lucas Sato",
           "I am reserved, appreciate classical<br>music, prefer quiet environments, and<br>enjoy calligraphy. I’m a big admirer of<br>Mozart, embrace tranquility, and love<br>tea ceremonies.",
           "Classical, Jazz",
           1,
           1,
           1
          ],
          [
           "Charlotte Brown",
           "I'm a dedicated teacher who loves<br>working with children and shaping young<br>minds. Patience and understanding are<br>key to my approach. After work, I often<br>volunteer at the local library or tutor<br>students. I am calm, appreciate<br>classical music, and prefer peaceful<br>activities.",
           "Classical, Indie",
           1,
           2,
           1
          ],
          [
           "Jacob Garcia",
           "I'm a history professor who enjoys<br>researching and teaching about ancient<br>civilizations. Knowledge and learning<br>are lifelong pursuits for me. In my<br>spare time, I enjoy reading historical<br>texts and visiting historical sites. I<br>am thoughtful, appreciate jazz music,<br>and enjoy intellectual conversations.",
           "Jazz, Classical, Indie",
           2,
           2,
           2
          ],
          [
           "Madison Müller",
           "I'm a librarian who loves organizing<br>information and helping people find<br>resources. Knowledge and accessibility<br>are important values to me. I often<br>spend time curating collections and<br>assisting library patrons. I am calm,<br>appreciate classical music, and prefer<br>quiet and organized spaces.",
           "Classical, Indie",
           1,
           2,
           1
          ],
          [
           "Lily Müller",
           "I am a museum curator specializing in<br>ancient artifacts and historical<br>preservation. History and cultural<br>heritage are deeply important to me.<br>Evenings are spent researching and<br>cataloging artifacts. I am calm,<br>appreciate classical music, and prefer<br>quiet scholarly pursuits.",
           "Classical, Indie",
           1,
           2,
           1
          ],
          [
           "Dylan Garcia",
           "I am a philosophy professor who enjoys<br>debating ethical dilemmas and exploring<br>existential questions. Intellect and<br>critical thinking are my tools. Evenings<br>are spent reading philosophical texts<br>and attending academic conferences. I am<br>thoughtful, appreciate jazz music, and<br>enjoy intellectual discussions.",
           "Jazz, Classical, Indie",
           2,
           2,
           2
          ],
          [
           "Mackenzie Wilson",
           "I'm a fashion blogger who loves<br>exploring style trends and sharing<br>fashion tips. Aesthetics and<br>communication are my tools. Weekends are<br>spent attending fashion events and<br>creating content for my blog. I am calm,<br>appreciate classical music, and prefer<br>quiet moments for writing and<br>reflection.",
           "Classical, Indie",
           1,
           2,
           1
          ],
          [
           "Lila Martinez",
           "I am a fashion designer assistant,<br>appreciating the intricacies of garment<br>construction and trend analysis.<br>Aesthetics and detail orientation are<br>important to me. Evenings are spent<br>sketching designs and researching<br>fashion trends. I am calm, appreciate<br>classical music, and prefer quiet<br>creative pursuits.",
           "Classical, Indie",
           1,
           2,
           1
          ],
          [
           "Brooklyn Wright",
           "I am a graphic designer intern, eager to<br>learn about visual communication and<br>branding principles. Aesthetics and a<br>willingness to learn are important in my<br>internship. Evenings are spent<br>practicing design skills and researching<br>design trends. I am calm, appreciate<br>classical music, and prefer quiet<br>creative work.",
           "Classical, Indie",
           1,
           2,
           1
          ],
          [
           "Maya Phillips",
           "I am a freelance photographer,<br>appreciating the art of capturing<br>moments and telling stories through<br>images. Aesthetics and visual<br>storytelling are important in my<br>profession. Evenings are spent editing<br>photos and planning photoshoots. I am<br>calm, appreciate classical music, and<br>prefer quiet, creative pursuits and<br>visual arts.",
           "Classical, Indie",
           1,
           2,
           1
          ],
          [
           "Svetlana Petrova",
           "I am an introverted but creative person<br>who loves to read classic literature and<br>paint in my spare time. I find solace in<br>classical music and enjoy quiet evenings<br>at home. My favorite authors include<br>Tolstoy and Dostoevsky, and I am<br>passionate about art history and ballet.",
           "Classical, Jazz, Blues",
           2,
           1,
           4
          ],
          [
           "Mei Chen",
           "Creative and detail-oriented, I enjoy<br>calligraphy and traditional Chinese<br>painting. I am passionate about<br>preserving cultural heritage and<br>learning about ancient history. My<br>favorite music genres are classical and<br>world music, and I enjoy tea ceremonies<br>and peaceful walks in gardens.",
           "Classical, World, Folk",
           2,
           2,
           3
          ],
          [
           "Yusuke Sato",
           "Calm and detail-oriented, I enjoy<br>practicing martial arts and studying<br>Japanese history. I am passionate about<br>Japanese culture and philosophy. My<br>favorite music genres are classical and<br>J-Pop, and I enjoy bonsai gardening and<br>tea ceremonies.",
           "Classical, J-Pop, World",
           3,
           2,
           4
          ],
          [
           "Sakura Suzuki",
           "Creative and graceful, I enjoy ikebana<br>(flower arranging) and practicing<br>calligraphy. I am passionate about<br>Japanese aesthetics and traditional<br>crafts. My favorite music genres are<br>J-Pop and classical, and I enjoy<br>attending traditional festivals and<br>visiting gardens.",
           "J-Pop, Classical, World",
           3,
           1,
           3
          ],
          [
           "Benjamin Wilson",
           "Thoughtful and reliable, I enjoy reading<br>historical novels and learning about<br>ancient civilizations. I am passionate<br>about history and archaeology. My<br>favorite music genres are classical and<br>folk, and I enjoy visiting historical<br>sites and museums.",
           "Classical, Folk, Blues",
           3,
           3,
           2
          ],
          [
           "Henry White",
           "Analytical and reliable, I enjoy solving<br>logic puzzles and playing chess. I am<br>passionate about mathematics and logical<br>reasoning. My favorite music genres are<br>classical and jazz, and I enjoy<br>attending math competitions and logic<br>game tournaments.",
           "Classical, Jazz, Blues",
           3,
           3,
           4
          ],
          [
           "David Lewis",
           "Analytical and reliable, I enjoy<br>studying astronomy and stargazing<br>through my telescope. I am passionate<br>about space and astrophysics. My<br>favorite music genres are classical and<br>ambient, and I enjoy attending astronomy<br>lectures and stargazing parties.",
           "Classical, Ambient, Blues",
           3,
           3,
           4
          ],
          [
           "Daniel Lee",
           "Outgoing and artistic, I love to play<br>jazz saxophone and improvise music with<br>friends. I am passionate about jazz<br>music and improvisation. My favorite<br>music genres are jazz and blues, and I<br>enjoy attending jazz clubs and jam<br>sessions.",
           "Jazz, Blues, Soul",
           5,
           2,
           3
          ],
          [
           "Ella Young",
           "Analytical and reliable, I enjoy<br>studying philosophy and debating ethical<br>dilemmas. I am passionate about<br>philosophy and critical thinking. My<br>favorite music genres are classical and<br>jazz, and I enjoy reading philosophical<br>texts and attending philosophy seminars.",
           "Classical, Jazz, Blues",
           3,
           3,
           4
          ],
          [
           "Andrew Adams",
           "Thoughtful and introspective, I enjoy<br>quiet evenings reading classic novels<br>and reflecting on life's big questions.<br>I appreciate the depth of Russian<br>literature and find solace in<br>instrumental music. My favorite authors<br>include Chekhov and Tolstoy, and I am<br>passionate about philosophy and personal<br>growth.",
           "Classical, Instrumental, Folk",
           2,
           1,
           3
          ],
          [
           "Joshua Phillips",
           "Calm and analytical, I find joy in<br>solving complex puzzles and strategizing<br>in board games. I am passionate about<br>game theory and logical thinking. My<br>favorite music genres are classical and<br>jazz, and I enjoy playing chess and<br>attending board game meetups.",
           "Classical, Jazz, Blues",
           3,
           2,
           4
          ],
          [
           "Isaac Nelson",
           "Analytical and introspective, I enjoy<br>studying philosophy and pondering<br>existential questions. I am passionate<br>about philosophy and existentialism. My<br>favorite music genres are classical and<br>jazz, and I enjoy reading philosophical<br>texts and attending philosophy lectures.",
           "Classical, Jazz, Blues",
           2,
           1,
           3
          ],
          [
           "Christian Jenkins",
           "Analytical and detail-oriented, I enjoy<br>studying mathematics and solving complex<br>equations. I am passionate about<br>mathematics and theoretical physics. My<br>favorite music genres are classical and<br>jazz, and I enjoy attending math<br>conferences and academic seminars.",
           "Classical, Jazz, Blues",
           3,
           3,
           4
          ],
          [
           "Nathan Long",
           "Analytical and introspective, I enjoy<br>reading science fiction novels and<br>exploring futuristic concepts. I am<br>passionate about science fiction and<br>futurism. My favorite music genres are<br>electronic and ambient, and I enjoy<br>attending science fiction conventions<br>and book clubs.",
           "Electronic, Ambient, Classical",
           2,
           1,
           3
          ],
          [
           "Charles Henderson",
           "Analytical and detail-oriented, I enjoy<br>studying physics and learning about the<br>laws of the universe. I am passionate<br>about physics and cosmology. My favorite<br>music genres are classical and ambient,<br>and I enjoy attending physics lectures<br>and science museums.",
           "Classical, Ambient, Blues",
           3,
           3,
           4
          ],
          [
           "Jose Coleman",
           "Analytical and introspective, I enjoy<br>reading philosophy books and discussing<br>ethical dilemmas with friends. I am<br>passionate about philosophy and ethics.<br>My favorite music genres are classical<br>and jazz, and I enjoy attending<br>philosophy book clubs and discussion<br>groups.",
           "Classical, Jazz, Blues",
           2,
           1,
           3
          ],
          [
           "Adam Butler",
           "Thoughtful and introspective, I find<br>peace in listening to classical music<br>and attending orchestral concerts. I am<br>passionate about classical music and<br>orchestral performances. My favorite<br>music genres are classical and opera,<br>and I enjoy attending symphony concerts<br>and opera houses.",
           "Classical, Opera, Jazz",
           2,
           1,
           2
          ],
          [
           "Jordan Hayes",
           "Thoughtful and introspective, I enjoy<br>reading philosophical texts and<br>pondering the meaning of life. I am<br>passionate about philosophy and<br>existentialism. My favorite music genres<br>are classical and jazz, and I enjoy<br>attending philosophy seminars and book<br>clubs.",
           "Classical, Jazz, Blues",
           2,
           1,
           3
          ],
          [
           "Miles Butler",
           "Thoughtful and introspective, I find<br>peace in listening to classical music<br>and attending symphony orchestra<br>concerts. I am passionate about<br>classical music and orchestral<br>performances. My favorite music genres<br>are classical and opera, and I enjoy<br>attending symphony concerts and opera<br>houses in my city.",
           "Classical, Opera, Jazz",
           2,
           1,
           2
          ],
          [
           "Austin Howard",
           "Thoughtful and introspective, I enjoy<br>reading philosophical books and<br>pondering the deeper questions of<br>existence and reality. I am passionate<br>about philosophy and existentialism. My<br>favorite music genres are classical and<br>jazz, and I enjoy attending philosophy<br>seminars and book discussion groups.",
           "Classical, Jazz, Blues",
           2,
           1,
           3
          ],
          [
           "Cole Howard",
           "Thoughtful and introspective, I find<br>peace in listening to classical music<br>and attending symphony orchestra<br>concerts in concert halls. I am<br>passionate about classical music and<br>orchestral performances. My favorite<br>music genres are classical and opera,<br>and I enjoy attending symphony concerts<br>and opera houses in my city and<br>neighboring towns.",
           "Classical, Opera, Jazz",
           2,
           1,
           2
          ],
          [
           "Leonardo Butler",
           "Thoughtful and introspective, I enjoy<br>reading philosophical books and<br>pondering the deeper questions of<br>existence and reality and human nature.<br>I am passionate about philosophy and<br>existentialism and understanding the<br>human condition. My favorite music<br>genres are classical and jazz, and I<br>enjoy attending philosophy seminars and<br>book discussion groups in my local<br>community.",
           "Classical, Jazz, Blues",
           2,
           1,
           3
          ],
          [
           "Ronan Butler",
           "Thoughtful and introspective, I find<br>peace in listening to classical music<br>and attending symphony orchestra<br>concerts in concert halls and theaters.<br>I am passionate about classical music<br>and orchestral performances and<br>appreciating musical artistry. My<br>favorite music genres are classical and<br>opera, and I enjoy attending symphony<br>concerts and opera houses in my city and<br>neighboring towns and immersing myself<br>in musical experiences.",
           "Classical, Opera, Jazz",
           2,
           1,
           2
          ],
          [
           "Brody Howard",
           "Thoughtful and introspective, I enjoy<br>reading philosophical books and<br>pondering the deeper questions of<br>existence and reality and human<br>consciousness. I am passionate about<br>philosophy and existentialism and<br>exploring the mysteries of the universe.<br>My favorite music genres are classical<br>and jazz, and I enjoy attending<br>philosophy seminars and book discussion<br>groups in my local community and<br>engaging in intellectual discussions.",
           "Classical, Jazz, Blues",
           2,
           1,
           3
          ],
          [
           "Declan Howard",
           "Thoughtful and introspective, I find<br>peace in listening to classical music<br>and attending symphony orchestra<br>concerts in concert halls and theaters<br>and appreciating musical masterpieces. I<br>am passionate about classical music and<br>orchestral performances and experiencing<br>the beauty and grandeur of classical<br>compositions. My favorite music genres<br>are classical and opera, and I enjoy<br>attending symphony concerts and opera<br>houses in my city and neighboring towns<br>and immersing myself in rich musical<br>experiences and cultural events.",
           "Classical, Opera, Jazz",
           2,
           1,
           2
          ],
          [
           "Damian Butler",
           "Thoughtful and introspective, I enjoy<br>reading philosophical books and<br>pondering the deeper questions of<br>existence and reality and human<br>consciousness and morality. I am<br>passionate about philosophy and<br>existentialism and exploring the<br>mysteries of the universe and the<br>complexities of human existence. My<br>favorite music genres are classical and<br>jazz, and I enjoy attending philosophy<br>seminars and book discussion groups in<br>my local community and engaging in<br>intellectual discussions and<br>philosophical debates and explorations.",
           "Classical, Jazz, Blues",
           2,
           1,
           3
          ],
          [
           "Owen Butler",
           "Thoughtful and introspective, I find<br>peace in listening to classical music<br>and attending symphony orchestra<br>concerts in concert halls and theaters<br>and appreciating musical masterpieces<br>and artistic performances. I am<br>passionate about classical music and<br>orchestral performances and experiencing<br>the beauty and grandeur of classical<br>compositions and immersing myself in<br>musical art forms. My favorite music<br>genres are classical and opera, and I<br>enjoy attending symphony concerts and<br>opera houses in my city and neighboring<br>towns and immersing myself in rich<br>musical experiences and cultural events<br>and appreciating the art of classical<br>music.",
           "Classical, Opera, Jazz",
           2,
           1,
           2
          ],
          [
           "Luca Howard",
           "Thoughtful and introspective, I enjoy<br>reading philosophical books and<br>pondering the deeper questions of<br>existence and reality and human<br>consciousness and morality and ethics. I<br>am passionate about philosophy and<br>existentialism and exploring the<br>mysteries of the universe and the<br>complexities of human existence and the<br>nature of consciousness and ethical<br>dilemmas. My favorite music genres are<br>classical and jazz, and I enjoy<br>attending philosophy seminars and book<br>discussion groups in my local community<br>and engaging in intellectual discussions<br>and philosophical debates and<br>explorations and expanding my<br>philosophical understanding and critical<br>thinking skills.",
           "Classical, Jazz, Blues",
           2,
           1,
           3
          ]
         ],
         "hoverlabel": {
          "bgcolor": "white",
          "bordercolor": "#00cc96",
          "font": {
           "color": "#00cc96",
           "family": "Arial",
           "size": 14
          }
         },
         "hovertemplate": "<b> Name: </b> %{customdata[0]}<br><b> About Me: </b> %{customdata[1]}<br><b> Favorite Music Genres: </b> %{customdata[2]}<br><b> Outgoing: </b> %{customdata[3]}<br><b> Outdoorsy: </b> %{customdata[4]}<br><b> Politically Correct: </b> %{customdata[5]}<br><extra></extra>",
         "legendgroup": "7",
         "marker": {
          "color": "#00cc96",
          "line": {
           "color": "DarkSlateGrey",
           "width": 2
          },
          "opacity": 0.8,
          "size": 12,
          "symbol": "circle"
         },
         "mode": "markers",
         "name": "7",
         "orientation": "v",
         "showlegend": true,
         "type": "scatter",
         "x": [
          -0.2389797709713731,
          -0.007789738696872342,
          -0.15925655310732775,
          -0.05178126804479879,
          -0.084878734136635,
          -0.3805225867624208,
          -0.47363223413131184,
          -0.3644355124476148,
          -0.22954437982651033,
          -0.3261350489738417,
          -0.3781227428662753,
          -0.22857004277003537,
          -0.529531205343291,
          -0.4827743613346578,
          -0.5725061699281631,
          -0.5051110609474008,
          -0.5155441747350951,
          -0.4399330453331257,
          -0.5222745534758888,
          -0.5051025313986204,
          -0.3496633495984172,
          -0.5018684090689504,
          -0.35420876242050975,
          -0.40154007661258545,
          -0.557107935682767,
          -0.28601608082426105,
          -0.35489535790165766,
          -0.3067432708716773,
          -0.3278484619513548,
          -0.5257134769366983,
          -0.3358305728518313,
          -0.37900797135965164,
          -0.26508267690380716,
          -0.43032845131866404,
          -0.6387748883158293,
          -0.4535370600325756,
          0.07674625390364759,
          -0.6463845640882748,
          -0.617215679703767,
          -0.613995051141886,
          -0.5989968497779349,
          -0.6510149482949943,
          -0.492577153492443,
          -0.65155616103858,
          -0.5409555445941189,
          -0.4215615056461991,
          -0.5713896180348554,
          -0.4242667126684053,
          -0.5766580765368404,
          -0.4222806352860552,
          -0.5772677133996891,
          -0.417708881807607,
          -0.5713452854871287,
          -0.4080433508912986,
          -0.5585469732755147,
          -0.40619308465889886,
          -0.5478961071099689
         ],
         "xaxis": "x",
         "y": [
          -0.2203700525020426,
          -0.036341462506032714,
          -0.04974132563831623,
          -0.16187599384173454,
          0.1351793399393485,
          -0.24347297476549393,
          -0.18859477824008383,
          -0.09961964246019368,
          -0.1802299059565046,
          -0.27238994090274954,
          -0.13654175114424624,
          -0.12028543224475481,
          -0.21225422932340432,
          -0.26707327497498834,
          -0.1536962220486063,
          -0.19559165658670694,
          -0.1518661999314784,
          -0.2782300833882516,
          -0.2034998724041701,
          -0.19556709310312242,
          -0.21010562602165822,
          -0.20666193828054713,
          -0.13748749808450378,
          -0.2505817540834987,
          -0.07350687757706863,
          -0.1738162122441179,
          -0.13367326856184342,
          -0.13203860152822064,
          -0.26327454376365816,
          -0.211572538999209,
          -0.4007172133546947,
          -0.04895757511133068,
          -0.12190159442538967,
          -0.02046512837077217,
          0.4418239965913193,
          0.26398030737710704,
          -0.239802287654089,
          0.37506839884950455,
          -0.19170531639453625,
          0.209021279048774,
          -0.03926725166454276,
          0.48223947535047323,
          0.1155822029102255,
          0.39058782544791465,
          -0.030111769801355544,
          -0.25599916081454005,
          -0.1295699689368263,
          -0.2585250406255661,
          -0.12144220480372243,
          -0.26573446887656277,
          -0.13438966527868668,
          -0.2728356884481219,
          -0.12919147580770088,
          -0.2656170132264414,
          -0.12268225670321235,
          -0.2728704902775781,
          -0.11557389758517857
         ],
         "yaxis": "y"
        },
        {
         "customdata": [
          [
           "Michael Brown",
           "I am calm and enjoy relaxing activities.<br>I like country music and am somewhat<br>accepting of politically incorrect<br>jokes. I am interested in nature and<br>gardening. My hobbies include cooking<br>and reading.",
           "Country, Blues, Rock",
           3,
           3,
           3
          ],
          [
           "Aisha Musa",
           "I am gentle and enjoy creative<br>activities. I like jazz music and am<br>somewhat accepting of politically<br>incorrect jokes. I am interested in art<br>and painting. My hobbies include cooking<br>and photography.",
           "Jazz, Classical, Indie",
           3,
           3,
           3
          ],
          [
           "Mei Lin",
           "I am diligent, and I enjoy gardening.<br>I'm a fan of Jay Chou, and I embrace<br>tradition. I love dancing, and I am<br>patient.",
           "Pop, Classical, Indie",
           3,
           3,
           2
          ],
          [
           "Ethan Williams",
           "I am calm, and I enjoy fishing. I'm a<br>fan of Johnny Cash, and I embrace<br>history. I love running, and I am<br>sincere.",
           "Rock, Country",
           3,
           4,
           4
          ],
          [
           "Aisha Khan",
           "I am a curious and thoughtful individual<br>who finds joy in learning about<br>different cultures and philosophies. I<br>enjoy exploring new cuisines and<br>practicing yoga for mindfulness. My<br>favorite music includes indie and world<br>music, and I am passionate about social<br>justice and environmental<br>sustainability.",
           "Indie, World, Folk",
           4,
           3,
           2
          ],
          [
           "Priya Patel",
           "Thoughtful and reliable, I enjoy<br>volunteering at the local animal shelter<br>and reading philosophical books. I am<br>passionate about animal welfare and<br>ethical living. My favorite music genres<br>are indie and folk, and I enjoy<br>gardening and spending time in nature.",
           "Indie, Folk, Classical",
           3,
           3,
           2
          ],
          [
           "Fatima Khan",
           "I am a thoughtful and compassionate<br>person who volunteers at a local soup<br>kitchen and advocates for human rights.<br>I am passionate about social justice and<br>global equality. My favorite music<br>genres are soul and gospel, and I enjoy<br>reading poetry and attending community<br>events.",
           "Soul, Gospel, R&B",
           3,
           2,
           2
          ],
          [
           "Victoria Green",
           "Analytical and reliable, I enjoy<br>studying botany and learning about plant<br>life and ecosystems. I am passionate<br>about botany and environmental science.<br>My favorite music genres are classical<br>and folk, and I enjoy visiting botanical<br>gardens and nature reserves.",
           "Classical, Folk, World",
           3,
           3,
           4
          ],
          [
           "Willow Reed",
           "Creative and empathetic, I find joy in<br>helping animals and volunteering at an<br>animal shelter. I am passionate about<br>animal welfare and animal rescue. My<br>favorite music genres are folk and<br>country, and I enjoy spending time with<br>animals and attending animal adoption<br>events.",
           "Folk, Country, Indie",
           4,
           2,
           2
          ],
          [
           "Caroline Morgan",
           "Creative and empathetic, I find joy in<br>volunteering at an animal rescue shelter<br>and caring for abandoned animals. I am<br>passionate about animal welfare and<br>animal rescue. My favorite music genres<br>are folk and country, and I enjoy<br>spending time with animals and attending<br>animal adoption events.",
           "Folk, Country, Indie",
           4,
           2,
           2
          ],
          [
           "Ruby Perry",
           "Creative and empathetic, I find joy in<br>volunteering at an animal shelter and<br>caring for stray and abandoned animals.<br>I am passionate about animal welfare and<br>animal rescue. My favorite music genres<br>are folk and country, and I enjoy<br>spending time with animals and attending<br>animal adoption events in my city.",
           "Folk, Country, Indie",
           4,
           2,
           2
          ],
          [
           "Serenity Reed",
           "Creative and empathetic, I find joy in<br>volunteering at an animal shelter and<br>caring for stray and abandoned animals<br>and giving them love and attention. I am<br>passionate about animal welfare and<br>animal rescue and protecting animal<br>rights. My favorite music genres are<br>folk and country, and I enjoy spending<br>time with animals and attending animal<br>adoption events in my city and region.",
           "Folk, Country, Indie",
           4,
           2,
           2
          ],
          [
           "Genevieve Perry",
           "Creative and empathetic, I find joy in<br>volunteering at an animal shelter and<br>caring for stray and abandoned animals<br>and giving them love and affection and<br>support. I am passionate about animal<br>welfare and animal rescue and protecting<br>animal rights and promoting animal well-<br>being. My favorite music genres are folk<br>and country, and I enjoy spending time<br>with animals and attending animal<br>adoption events in my city and region<br>and advocating for animal rights and<br>welfare.",
           "Folk, Country, Indie",
           4,
           2,
           2
          ],
          [
           "Arya Reed",
           "Creative and empathetic, I find joy in<br>volunteering at an animal shelter and<br>caring for stray and abandoned animals<br>and giving them love and affection and<br>support and care. I am passionate about<br>animal welfare and animal rescue and<br>protecting animal rights and promoting<br>animal well-being and compassion towards<br>animals. My favorite music genres are<br>folk and country, and I enjoy spending<br>time with animals and attending animal<br>adoption events in my city and region<br>and advocating for animal rights and<br>welfare and promoting responsible pet<br>ownership.",
           "Folk, Country, Indie",
           4,
           2,
           2
          ],
          [
           "Natalia Perry",
           "Creative and empathetic, I find joy in<br>volunteering at an animal shelter and<br>caring for stray and abandoned animals<br>and giving them love and affection and<br>support and care and compassion. I am<br>passionate about animal welfare and<br>animal rescue and protecting animal<br>rights and promoting animal well-being<br>and compassion towards animals and<br>advocating for animal protection. My<br>favorite music genres are folk and<br>country, and I enjoy spending time with<br>animals and attending animal adoption<br>events in my city and region and<br>advocating for animal rights and welfare<br>and promoting responsible pet ownership<br>and animal rescue and adoption<br>initiatives.",
           "Folk, Country, Indie",
           4,
           2,
           2
          ]
         ],
         "hoverlabel": {
          "bgcolor": "white",
          "bordercolor": "#ab63fa",
          "font": {
           "color": "#ab63fa",
           "family": "Arial",
           "size": 14
          }
         },
         "hovertemplate": "<b> Name: </b> %{customdata[0]}<br><b> About Me: </b> %{customdata[1]}<br><b> Favorite Music Genres: </b> %{customdata[2]}<br><b> Outgoing: </b> %{customdata[3]}<br><b> Outdoorsy: </b> %{customdata[4]}<br><b> Politically Correct: </b> %{customdata[5]}<br><extra></extra>",
         "legendgroup": "9",
         "marker": {
          "color": "#ab63fa",
          "line": {
           "color": "DarkSlateGrey",
           "width": 2
          },
          "opacity": 0.8,
          "size": 12,
          "symbol": "circle"
         },
         "mode": "markers",
         "name": "9",
         "orientation": "v",
         "showlegend": true,
         "type": "scatter",
         "x": [
          -0.2458942741239968,
          -0.28334494222147555,
          -0.24687821096803642,
          -0.1285020903132903,
          -0.13999380512285617,
          -0.4047117650380279,
          -0.09593438105586083,
          -0.39383180789210825,
          0.08175845975346066,
          0.0842956855399817,
          0.07920277756342721,
          0.0768537912280435,
          0.07495855323591427,
          0.07850386859842662,
          0.07770506417498865
         ],
         "xaxis": "x",
         "y": [
          0.07651819640302972,
          0.001170970799557838,
          0.11200997356619553,
          0.1933763707432725,
          -0.1830991558477228,
          -0.16131188329210958,
          -0.23196516309063425,
          0.1323259963941484,
          -0.3911336767372258,
          -0.39831414124456316,
          -0.40446075374924045,
          -0.3965019526748551,
          -0.39166994805033334,
          -0.3857458587258644,
          -0.3832542395862569
         ],
         "yaxis": "y"
        },
        {
         "customdata": [
          [
           "David Okafor",
           "I am social and love meeting new people.<br>I enjoy hip-hop, soccer, and stand-up<br>comedy.",
           "Rap",
           5,
           2,
           5
          ],
          [
           "Carlos Martinez",
           "I am an energetic and humorous person<br>who loves to tell jokes and make people<br>laugh. I enjoy playing basketball and<br>watching comedy movies. My favorite<br>music genres are rock and punk, and I am<br>passionate about stand-up comedy and<br>improv theater.",
           "Rock, Punk, Metal",
           5,
           4,
           5
          ],
          [
           "Ethan Williams",
           "Energetic and spontaneous, I love to<br>dance and attend music festivals. I am<br>passionate about electronic music and<br>DJing in my spare time. My favorite<br>music genres are electronic and hip hop,<br>and I enjoy skateboarding and urban<br>exploration.",
           "Electronic, Hip Hop, Rap",
           5,
           4,
           4
          ],
          [
           "James Garcia",
           "Energetic and humorous, I love to play<br>video games and create funny videos<br>online. I am passionate about gaming and<br>digital entertainment. My favorite music<br>genres are electronic and hip hop, and I<br>enjoy attending gaming conventions and<br>watching esports.",
           "Electronic, Hip Hop, Rap",
           5,
           4,
           5
          ],
          [
           "Alexander Martin",
           "Energetic and humorous, I love to play<br>pranks and make people laugh. I enjoy<br>watching comedy shows and attending<br>improv performances. My favorite music<br>genres are punk and rock, and I am<br>passionate about comedy and<br>entertainment.",
           "Punk, Rock, Metal",
           5,
           4,
           5
          ],
          [
           "Sofia Walker",
           "Energetic and humorous, I love to<br>perform magic tricks and entertain<br>people with illusions. I am passionate<br>about magic and illusionism. My favorite<br>music genres are pop and electronic, and<br>I enjoy attending magic shows and<br>learning new tricks.",
           "Pop, Electronic, R&B",
           5,
           4,
           5
          ],
          [
           "Lily Scott",
           "Energetic and humorous, I love to tell<br>jokes and perform stand-up comedy at<br>open mic nights. I am passionate about<br>comedy and stand-up performance. My<br>favorite music genres are pop and hip<br>hop, and I enjoy attending comedy clubs<br>and watching stand-up specials.",
           "Pop, Hip Hop, Punk",
           5,
           4,
           5
          ],
          [
           "Riley Stewart",
           "Outgoing and humorous, I love to tell<br>jokes and perform improv comedy with my<br>friends. I am passionate about improv<br>theater and comedic performance. My<br>favorite music genres are punk and pop,<br>and I enjoy attending improv shows and<br>comedy festivals.",
           "Punk, Pop, Electronic",
           5,
           4,
           5
          ],
          [
           "Hunter Gray",
           "Energetic and adventurous, I love to<br>skateboard and explore urban<br>environments. I am passionate about<br>skateboarding and urban culture. My<br>favorite music genres are punk and hip<br>hop, and I enjoy visiting skate parks<br>and attending skateboarding<br>competitions.",
           "Punk, Hip Hop, Electronic",
           5,
           5,
           4
          ],
          [
           "Scarlett Hayes",
           "Outgoing and humorous, I love to perform<br>magic tricks and entertain children at<br>parties. I am passionate about magic and<br>children's entertainment. My favorite<br>music genres are pop and children's<br>music, and I enjoy attending magic<br>conventions and children's festivals.",
           "Pop, Children's Music, Folk",
           5,
           4,
           5
          ],
          [
           "Audrey Foster",
           "Outgoing and humorous, I love to watch<br>comedy movies and attend stand-up comedy<br>shows. I am passionate about comedy and<br>entertainment. My favorite music genres<br>are pop and punk, and I enjoy attending<br>comedy festivals and watching comedy<br>specials.",
           "Pop, Punk, Electronic",
           5,
           4,
           5
          ],
          [
           "Paisley Ross",
           "Outgoing and humorous, I love to watch<br>comedy shows and attend improv comedy<br>performances. I am passionate about<br>comedy and improv theater. My favorite<br>music genres are punk and pop, and I<br>enjoy attending comedy festivals and<br>improv workshops.",
           "Punk, Pop, Electronic",
           5,
           4,
           5
          ],
          [
           "Genesis McDonald",
           "Outgoing and humorous, I love to tell<br>jokes and perform stand-up comedy at<br>local venues. I am passionate about<br>stand-up comedy and comedic performance.<br>My favorite music genres are pop and<br>punk, and I enjoy attending comedy clubs<br>and open mic nights.",
           "Pop, Punk, Electronic",
           5,
           4,
           5
          ],
          [
           "Anna Griffin",
           "Outgoing and humorous, I love to watch<br>comedy shows and attend stand-up comedy<br>performances with friends. I am<br>passionate about comedy and<br>entertainment. My favorite music genres<br>are pop and punk, and I enjoy attending<br>comedy clubs and watching comedy<br>specials online.",
           "Pop, Punk, Electronic",
           5,
           4,
           5
          ],
          [
           "Julia Hayes",
           "Outgoing and humorous, I love to tell<br>jokes and perform stand-up comedy at<br>open mic nights and comedy clubs. I am<br>passionate about stand-up comedy and<br>comedic performance. My favorite music<br>genres are pop and punk, and I enjoy<br>attending comedy festivals and open mic<br>events.",
           "Pop, Punk, Electronic",
           5,
           4,
           5
          ],
          [
           "Lauren Hayes",
           "Outgoing and humorous, I love to watch<br>comedy shows and attend stand-up comedy<br>performances with my friends and family.<br>I am passionate about comedy and<br>entertainment. My favorite music genres<br>are pop and punk, and I enjoy attending<br>comedy clubs and watching comedy<br>specials online with my friends.",
           "Pop, Punk, Electronic",
           5,
           4,
           5
          ],
          [
           "Piper Griffin",
           "Outgoing and humorous, I love to tell<br>jokes and perform stand-up comedy at<br>open mic nights and comedy clubs in my<br>city. I am passionate about stand-up<br>comedy and comedic performance. My<br>favorite music genres are pop and punk,<br>and I enjoy attending comedy festivals<br>and open mic events in my local area.",
           "Pop, Punk, Electronic",
           5,
           4,
           5
          ],
          [
           "Madelyn Griffin",
           "Outgoing and humorous, I love to watch<br>comedy shows and attend stand-up comedy<br>performances with my friends and family<br>and colleagues after work. I am<br>passionate about comedy and<br>entertainment and enjoying laughter and<br>humor. My favorite music genres are pop<br>and punk, and I enjoy attending comedy<br>clubs and watching comedy specials<br>online and with friends for<br>entertainment.",
           "Pop, Punk, Electronic",
           5,
           4,
           5
          ],
          [
           "Mackenzie Hayes",
           "Outgoing and humorous, I love to tell<br>jokes and perform stand-up comedy at<br>open mic nights and comedy clubs in my<br>city and surrounding areas. I am<br>passionate about stand-up comedy and<br>comedic performance and making people<br>laugh and smile. My favorite music<br>genres are pop and punk, and I enjoy<br>attending comedy festivals and open mic<br>events in my local area and supporting<br>local comedians.",
           "Pop, Punk, Electronic",
           5,
           4,
           5
          ],
          [
           "Zoe Hayes",
           "Outgoing and humorous, I love to watch<br>comedy shows and attend stand-up comedy<br>performances with my friends and family<br>and colleagues and neighbors. I am<br>passionate about comedy and<br>entertainment and enjoying laughter and<br>humor with others and sharing comedic<br>experiences. My favorite music genres<br>are pop and punk, and I enjoy attending<br>comedy clubs and watching comedy<br>specials online and with friends for<br>entertainment and relaxation and social<br>bonding.",
           "Pop, Punk, Electronic",
           5,
           4,
           5
          ],
          [
           "Vivian Griffin",
           "Outgoing and humorous, I love to tell<br>jokes and perform stand-up comedy at<br>open mic nights and comedy clubs in my<br>city and surrounding areas and<br>entertaining audiences. I am passionate<br>about stand-up comedy and comedic<br>performance and making people laugh and<br>smile and bringing joy through humor. My<br>favorite music genres are pop and punk,<br>and I enjoy attending comedy festivals<br>and open mic events in my local area and<br>supporting local comedians and enjoying<br>comedic performances.",
           "Pop, Punk, Electronic",
           5,
           4,
           5
          ],
          [
           "Lydia Griffin",
           "Outgoing and humorous, I love to watch<br>comedy shows and attend stand-up comedy<br>performances with my friends and family<br>and colleagues and neighbors and<br>community members. I am passionate about<br>comedy and entertainment and enjoying<br>laughter and humor with others and<br>sharing comedic experiences and creating<br>positive social interactions. My<br>favorite music genres are pop and punk,<br>and I enjoy attending comedy clubs and<br>watching comedy specials online and with<br>friends for entertainment and relaxation<br>and social bonding and building<br>friendships and relationships.",
           "Pop, Punk, Electronic",
           5,
           4,
           5
          ],
          [
           "Adeline Hayes",
           "Outgoing and humorous, I love to tell<br>jokes and perform stand-up comedy at<br>open mic nights and comedy clubs in my<br>city and surrounding areas and<br>entertaining audiences and spreading<br>laughter. I am passionate about stand-up<br>comedy and comedic performance and<br>making people laugh and smile and<br>bringing joy through humor and<br>connecting with audiences through<br>comedy. My favorite music genres are pop<br>and punk, and I enjoy attending comedy<br>festivals and open mic events in my<br>local area and supporting local<br>comedians and enjoying comedic<br>performances and promoting the art of<br>stand-up comedy.",
           "Pop, Punk, Electronic",
           5,
           4,
           5
          ],
          [
           "Samantha Hayes",
           "Outgoing and humorous, I love to watch<br>comedy shows and attend stand-up comedy<br>performances with my friends and family<br>and colleagues and neighbors and<br>community members and social groups. I<br>am passionate about comedy and<br>entertainment and enjoying laughter and<br>humor with others and sharing comedic<br>experiences and creating positive social<br>interactions and building social<br>connections through laughter. My<br>favorite music genres are pop and punk,<br>and I enjoy attending comedy clubs and<br>watching comedy specials online and with<br>friends for entertainment and relaxation<br>and social bonding and building<br>friendships and relationships and<br>enjoying comedic performances and<br>supporting the comedy scene.",
           "Pop, Punk, Electronic",
           5,
           4,
           5
          ]
         ],
         "hoverlabel": {
          "bgcolor": "white",
          "bordercolor": "#FFA15A",
          "font": {
           "color": "#FFA15A",
           "family": "Arial",
           "size": 14
          }
         },
         "hovertemplate": "<b> Name: </b> %{customdata[0]}<br><b> About Me: </b> %{customdata[1]}<br><b> Favorite Music Genres: </b> %{customdata[2]}<br><b> Outgoing: </b> %{customdata[3]}<br><b> Outdoorsy: </b> %{customdata[4]}<br><b> Politically Correct: </b> %{customdata[5]}<br><extra></extra>",
         "legendgroup": "3",
         "marker": {
          "color": "#FFA15A",
          "line": {
           "color": "DarkSlateGrey",
           "width": 2
          },
          "opacity": 0.8,
          "size": 12,
          "symbol": "circle"
         },
         "mode": "markers",
         "name": "3",
         "orientation": "v",
         "showlegend": true,
         "type": "scatter",
         "x": [
          0.20901225986222102,
          0.4605757109329572,
          0.4640946180793619,
          0.38645287554851027,
          0.4379234124549667,
          0.40751215027521276,
          0.5126789543753765,
          0.4924470104450073,
          0.4394172210572033,
          0.48633775853929645,
          0.5484110505514488,
          0.47728610209804123,
          0.5305962661656209,
          0.5672477230596762,
          0.558513946040526,
          0.5696939165890832,
          0.5577525351031526,
          0.554952296956884,
          0.558725574266366,
          0.5504754492777847,
          0.5556679225580969,
          0.5503398209160669,
          0.5588850343926209,
          0.5391771574866626
         ],
         "xaxis": "x",
         "y": [
          0.13195697956544078,
          0.2049672251522611,
          0.20958571324829392,
          0.28668042093075013,
          0.20084421933710633,
          0.17356045580187648,
          0.15132691748676552,
          0.08293995929422934,
          0.13796903900566787,
          -0.0070427797602952485,
          0.14957602547978432,
          0.0807196346523249,
          0.15262786659232727,
          0.19665303466226322,
          0.19883648848177182,
          0.18709436490390624,
          0.18952088685186397,
          0.1936365298501802,
          0.18519583010925783,
          0.17288638579632923,
          0.1861362967912768,
          0.16227070179181508,
          0.17956206910787556,
          0.16408264842370798
         ],
         "yaxis": "y"
        },
        {
         "customdata": [
          [
           "Aaliyah Khan",
           "I am creative, and I enjoy painting. I'm<br>a fan of Beyoncé, and I embrace<br>mindfulness. I love cooking, and I am<br>adaptable.",
           "Pop, R&B",
           4,
           2,
           3
          ],
          [
           "Isabella Rossi",
           "I am friendly, and I enjoy reading. I'm<br>a fan of Taylor Swift, and I embrace<br>travel. I love swimming, and I am<br>optimistic.",
           "Pop, Classical",
           5,
           4,
           4
          ],
          [
           "Fatima Ali",
           "I am friendly, listen to pop music,<br>enjoy walking in the park, and bake<br>cookies. I’m a huge fan of Ariana<br>Grande, embrace fashion, and love<br>watching movies.",
           "Pop, R&B",
           5,
           3,
           4
          ],
          [
           "Sophie Dubois",
           "I am passionate about pop music, love<br>dancing, and enjoy going to concerts.<br>I’m a huge fan of Dua Lipa, embrace<br>creativity, and love painting.",
           "Pop, Electronic, Rap",
           5,
           3,
           4
          ],
          [
           "Ava Chen",
           "I am friendly, listen to pop music,<br>enjoy walking in the park, and bake<br>cookies. I’m a huge fan of Ariana<br>Grande, embrace fashion, and love<br>watching movies.",
           "Pop, R&B",
           5,
           3,
           4
          ],
          [
           "Mia Dubois",
           "I am passionate about pop music, love<br>dancing, and enjoy going to concerts.<br>I’m a huge fan of Dua Lipa, embrace<br>creativity, and love painting.",
           "Pop, Electronic, R&B",
           5,
           3,
           4
          ],
          [
           "Amelia Wilson",
           "I'm a food critic who loves trying new<br>restaurants and cuisines. Taste and<br>presentation are important aspects of my<br>work. I often spend my evenings dining<br>out and writing reviews. I am passionate<br>about pop music, love dancing, and enjoy<br>social gatherings.",
           "Pop, Electronic, R&B",
           5,
           3,
           4
          ],
          [
           "Victoria Patel",
           "I'm a social worker passionate about<br>helping vulnerable populations and<br>advocating for social justice. Empathy<br>and compassion drive my work. I often<br>spend time volunteering and<br>participating in community outreach<br>programs. I am friendly, listen to pop<br>music, and enjoy community events.",
           "Pop, R&B",
           5,
           3,
           4
          ],
          [
           "Elizabeth Dubois",
           "I'm a fashion designer with a passion<br>for creating unique and stylish<br>clothing. Creativity and trend<br>forecasting are key aspects of my work.<br>I often spend time sketching designs and<br>attending fashion shows. I am passionate<br>about pop music, love dancing, and enjoy<br>expressing myself through fashion.",
           "Pop, Electronic, R&B",
           5,
           3,
           4
          ],
          [
           "Natalie Patel",
           "I am a community organizer passionate<br>about local activism and social change.<br>Empathy and collective action are my<br>driving forces. Afternoons are spent<br>meeting with community groups and<br>planning events. I am friendly, listen<br>to pop music, and enjoy participating in<br>local festivals.",
           "Pop, R&B",
           5,
           3,
           4
          ],
          [
           "Samantha Dubois",
           "I am a makeup artist with a passion for<br>beauty and transformation through<br>cosmetics. Creativity and attention to<br>detail are crucial in my work. Weekends<br>are spent working on photoshoots and<br>attending beauty industry events. I am<br>passionate about pop music, love<br>dancing, and enjoy social events.",
           "Pop, Electronic, R&B",
           5,
           3,
           4
          ],
          [
           "Taylor Davis",
           "I'm a kindergarten teacher who loves<br>nurturing young minds and fostering a<br>love for learning. Patience and<br>creativity are essential in my<br>classroom. Afternoons are spent<br>preparing engaging lesson plans and<br>creating a positive learning<br>environment. I am friendly, listen to<br>pop music, and enjoy school community<br>events.",
           "Pop, R&B",
           5,
           3,
           4
          ],
          [
           "Kennedy Taylor",
           "I'm a wedding planner with a passion for<br>creating memorable and beautiful events.<br>Organization and attention to detail are<br>crucial in my work. Weekends are spent<br>coordinating weddings and ensuring<br>smooth event execution. I am passionate<br>about pop music, love dancing, and enjoy<br>social events and celebrations.",
           "Pop, Electronic, R&B",
           5,
           3,
           4
          ],
          [
           "Riley Martin",
           "I am an elementary school teacher,<br>passionate about fostering a love for<br>learning in young children. Patience and<br>creativity are essential in my<br>classroom. Afternoons are spent grading<br>papers and preparing engaging activities<br>for my students. I am friendly, listen<br>to pop music, and enjoy school-related<br>social gatherings.",
           "Pop, R&B",
           5,
           3,
           4
          ],
          [
           "Hazel Clark",
           "I am a pastry chef, passionate about<br>creating delicious desserts and<br>intricate baked goods. Creativity and<br>precision are crucial in my kitchen.<br>Weekends are spent baking and<br>experimenting with new recipes. I am<br>passionate about pop music, love<br>dancing, and enjoy sharing my culinary<br>creations with friends and family.",
           "Pop, Electronic, R&B",
           5,
           3,
           4
          ],
          [
           "Skylar Allen",
           "I am a preschool teacher, passionate<br>about early childhood education and<br>creating a nurturing learning<br>environment. Patience and creativity are<br>essential in my classroom. Afternoons<br>are spent planning fun and educational<br>activities for my preschoolers. I am<br>friendly, listen to pop music, and enjoy<br>school community events and interacting<br>with parents.",
           "Pop, R&B",
           5,
           3,
           4
          ],
          [
           "Violet Green",
           "I am a floral designer, passionate about<br>creating beautiful floral arrangements<br>and bringing joy through flowers.<br>Creativity and attention to detail are<br>crucial in my craft. Weekends are spent<br>designing floral arrangements for events<br>and weddings. I am passionate about pop<br>music, love dancing, and enjoy the<br>beauty and artistry of floral design.",
           "Pop, Electronic, R&B",
           5,
           3,
           4
          ],
          [
           "Stella Peterson",
           "I am a special education teacher,<br>passionate about supporting students<br>with diverse learning needs and<br>celebrating their unique abilities.<br>Patience and individualized attention<br>are essential in my classroom.<br>Afternoons are spent creating<br>individualized education plans and<br>providing one-on-one support. I am<br>friendly, listen to pop music, and enjoy<br>inclusive school events and activities.",
           "Pop, R&B",
           5,
           3,
           4
          ],
          [
           "Hazel Reed",
           "I am a cake decorator, passionate about<br>creating visually stunning and delicious<br>custom cakes for special occasions.<br>Creativity and precision are crucial in<br>my craft. Weekends are spent decorating<br>cakes for events and experimenting with<br>new cake designs. I am passionate about<br>pop music, love dancing, and enjoy the<br>artistry and celebration associated with<br>cake decorating.",
           "Pop, Electronic, R&B",
           5,
           3,
           4
          ],
          [
           "Mohammed Hassan",
           "A friendly and outgoing person, I enjoy<br>playing soccer and spending time with<br>friends and family. I am interested in<br>technology and enjoy building computers<br>in my free time. My favorite music<br>genres include hip hop and R&B, and I am<br>passionate about community development<br>and education.",
           "Hip Hop, R&B, Pop",
           4,
           3,
           3
          ],
          [
           "Sophia Rodriguez",
           "Creative and adventurous, I love to<br>travel and explore new places,<br>especially those with historical<br>significance. I am passionate about<br>learning languages and trying different<br>types of food. My favorite music genres<br>are pop and Latin music, and I enjoy<br>dancing and attending cultural events.",
           "Pop, Latin, World",
           5,
           4,
           2
          ],
          [
           "Maria Silva",
           "Outgoing and artistic, I love to sing<br>and play the guitar, often performing at<br>local open mics. I am passionate about<br>musical theater and enjoy attending live<br>performances. My favorite music genres<br>are pop and folk, and I love to cook and<br>bake for friends and family.",
           "Pop, Folk, Country",
           5,
           2,
           3
          ],
          [
           "Omar Ali",
           "I am a friendly and optimistic<br>individual who loves to meet new people<br>and learn about their stories. I enjoy<br>playing board games and hosting<br>gatherings for friends. My favorite<br>music genres are pop and R&B, and I am<br>passionate about community building and<br>social events.",
           "Pop, R&B, Soul",
           4,
           3,
           3
          ],
          [
           "Diego Lopez",
           "Energetic and outgoing, I love to play<br>the guitar and sing Latin music. I am<br>passionate about Latin American culture<br>and music. My favorite music genres are<br>Latin and pop, and I enjoy dancing salsa<br>and attending cultural festivals.",
           "Latin, Pop, World",
           5,
           3,
           4
          ],
          [
           "Isabella Rossi",
           "Creative and passionate, I love to bake<br>and decorate cakes, often experimenting<br>with new recipes. I am passionate about<br>culinary arts and pastry making. My<br>favorite music genres are pop and jazz,<br>and I enjoy hosting dinner parties and<br>trying new restaurants.",
           "Pop, Jazz, Classical",
           4,
           2,
           3
          ],
          [
           "Ava Miller",
           "Outgoing and artistic, I love to paint<br>portraits and create digital art. I am<br>passionate about visual arts and graphic<br>design. My favorite music genres are pop<br>and electronic, and I enjoy visiting art<br>galleries and attending design<br>workshops.",
           "Pop, Electronic, Indie",
           5,
           2,
           3
          ],
          [
           "Charlotte Anderson",
           "Outgoing and artistic, I love to dance<br>ballet and attend theater performances.<br>I am passionate about performing arts<br>and classical music. My favorite music<br>genres are classical and jazz, and I<br>enjoy attending dance recitals and opera<br>shows.",
           "Classical, Jazz, Pop",
           5,
           2,
           3
          ],
          [
           "Abigail Martinez",
           "Outgoing and artistic, I love to paint<br>murals and create street art in my<br>community. I am passionate about urban<br>art and public expression. My favorite<br>music genres are hip hop and electronic,<br>and I enjoy attending street art<br>festivals and graffiti workshops.",
           "Hip Hop, Electronic, Punk",
           5,
           2,
           3
          ],
          [
           "Anthony Allen",
           "Outgoing and artistic, I love to design<br>costumes and create outfits for<br>theatrical productions. I am passionate<br>about fashion design and theatrical<br>costuming. My favorite music genres are<br>pop and electronic, and I enjoy<br>attending fashion shows and costume<br>design workshops.",
           "Pop, Electronic, R&B",
           5,
           2,
           3
          ],
          [
           "Madison Turner",
           "Vibrant and outgoing, I love to dance<br>salsa and merengue, and I'm always up<br>for a spontaneous adventure. I am<br>passionate about Latin dance and<br>exploring new cultures. My favorite<br>music genres are Latin and pop, and I<br>enjoy traveling to South America and<br>attending dance festivals.",
           "Latin, Pop, World",
           5,
           4,
           4
          ],
          [
           "Penelope Roberts",
           "Outgoing and friendly, I enjoy hosting<br>potlucks and bringing people together<br>through food. I am passionate about<br>cooking and culinary diversity. My<br>favorite music genres are pop and world<br>music, and I enjoy trying new recipes<br>and attending food markets.",
           "Pop, World, R&B",
           5,
           3,
           3
          ],
          [
           "Nora Murphy",
           "Outgoing and friendly, I enjoy hosting<br>game nights and playing board games with<br>friends and family. I am passionate<br>about board games and social gatherings.<br>My favorite music genres are pop and<br>indie, and I enjoy attending board game<br>meetups and social events.",
           "Pop, Indie, Folk",
           5,
           3,
           3
          ],
          [
           "Aurora Howard",
           "Outgoing and friendly, I enjoy hosting<br>dinner parties and cooking gourmet meals<br>for friends. I am passionate about<br>gourmet cooking and hospitality. My<br>favorite music genres are pop and jazz,<br>and I enjoy trying new recipes and<br>attending cooking classes.",
           "Pop, Jazz, Soul",
           5,
           3,
           3
          ],
          [
           "Lucy Reed",
           "Outgoing and friendly, I enjoy hosting<br>karaoke nights and singing pop songs<br>with friends. I am passionate about<br>karaoke and musical entertainment. My<br>favorite music genres are pop and R&B,<br>and I enjoy attending karaoke bars and<br>singing with friends.",
           "Pop, R&B, Soul",
           5,
           3,
           3
          ],
          [
           "Elena Rivera",
           "Outgoing and friendly, I enjoy hosting<br>parties and organizing social events for<br>friends and family. I am passionate<br>about social gatherings and event<br>planning. My favorite music genres are<br>pop and Latin, and I enjoy attending<br>parties and social events.",
           "Pop, Latin, R&B",
           5,
           3,
           3
          ],
          [
           "Brianna Griffin",
           "Outgoing and friendly, I enjoy hosting<br>parties and organizing social gatherings<br>for friends and family members. I am<br>passionate about social events and party<br>planning. My favorite music genres are<br>pop and Latin, and I enjoy attending<br>parties and social gatherings with my<br>friends.",
           "Pop, Latin, R&B",
           5,
           3,
           3
          ],
          [
           "Kennedy Hayes",
           "Outgoing and friendly, I enjoy hosting<br>parties and organizing social gatherings<br>for friends and family members and<br>colleagues. I am passionate about social<br>events and party planning and bringing<br>people together. My favorite music<br>genres are pop and Latin, and I enjoy<br>attending parties and social gatherings<br>with my friends and meeting new people.",
           "Pop, Latin, R&B",
           5,
           3,
           3
          ],
          [
           "Sophie Griffin",
           "Outgoing and friendly, I enjoy hosting<br>parties and organizing social gatherings<br>for friends and family members and<br>colleagues and acquaintances. I am<br>passionate about social events and party<br>planning and creating enjoyable social<br>experiences for others. My favorite<br>music genres are pop and Latin, and I<br>enjoy attending parties and social<br>gatherings with my friends and meeting<br>new people and building social<br>connections.",
           "Pop, Latin, R&B",
           5,
           3,
           3
          ],
          [
           "Mariah Hayes",
           "Outgoing and friendly, I enjoy hosting<br>parties and organizing social gatherings<br>for friends and family members and<br>colleagues and acquaintances and<br>community members. I am passionate about<br>social events and party planning and<br>creating enjoyable social experiences<br>for others and building community<br>connections. My favorite music genres<br>are pop and Latin, and I enjoy attending<br>parties and social gatherings with my<br>friends and meeting new people and<br>building social networks and<br>relationships.",
           "Pop, Latin, R&B",
           5,
           3,
           3
          ],
          [
           "Hadley Griffin",
           "Outgoing and humorous, I love to host<br>parties and organize social gatherings<br>for friends and family members and<br>colleagues and acquaintances and<br>community members and neighbors. I am<br>passionate about social events and party<br>planning and creating enjoyable social<br>experiences for others and building<br>community connections and fostering<br>social interactions and relationships.<br>My favorite music genres are pop and<br>Latin, and I enjoy attending parties and<br>social gatherings with my friends and<br>meeting new people and building social<br>networks and relationships and creating<br>memorable social experiences for myself<br>and others.",
           "Pop, Latin, R&B",
           5,
           3,
           3
          ]
         ],
         "hoverlabel": {
          "bgcolor": "white",
          "bordercolor": "#19d3f3",
          "font": {
           "color": "#19d3f3",
           "family": "Arial",
           "size": 14
          }
         },
         "hovertemplate": "<b> Name: </b> %{customdata[0]}<br><b> About Me: </b> %{customdata[1]}<br><b> Favorite Music Genres: </b> %{customdata[2]}<br><b> Outgoing: </b> %{customdata[3]}<br><b> Outdoorsy: </b> %{customdata[4]}<br><b> Politically Correct: </b> %{customdata[5]}<br><extra></extra>",
         "legendgroup": "5",
         "marker": {
          "color": "#19d3f3",
          "line": {
           "color": "DarkSlateGrey",
           "width": 2
          },
          "opacity": 0.8,
          "size": 12,
          "symbol": "circle"
         },
         "mode": "markers",
         "name": "5",
         "orientation": "v",
         "showlegend": true,
         "type": "scatter",
         "x": [
          0.17676065283359874,
          0.2710839909114966,
          0.32102428723577825,
          0.38910973104038277,
          0.1623564457757015,
          0.35141915800067947,
          0.2091748685291475,
          0.1334981657481768,
          0.2597204717625429,
          0.13564634134937578,
          0.281552257180632,
          0.006809434168250628,
          0.2773042483409687,
          0.03159337708768399,
          0.2540729798200745,
          0.05121443254580182,
          0.19709499643044404,
          0.03799777430497672,
          0.2474758846068661,
          0.22671832281974053,
          0.45422763613094214,
          0.38831102301675424,
          0.23124928238848685,
          0.41170222389069433,
          0.17203175046919453,
          0.34961404771303023,
          0.09985233843390648,
          0.38354239901532267,
          0.3863744931720105,
          0.5891380354275919,
          0.3584019465724639,
          0.2912257174275625,
          0.26697254248956803,
          0.4116178212319078,
          0.48147964865590703,
          0.48640744024014665,
          0.4831451601867863,
          0.4715892944006959,
          0.4726785850023585,
          0.49668528628809255
         ],
         "xaxis": "x",
         "y": [
          -0.24021491984956547,
          -0.023696784830393045,
          0.1480769422175183,
          0.23949423017488247,
          0.27211793598321055,
          0.20535831373152974,
          0.24471935638675535,
          0.2012918098406357,
          0.21644222742705677,
          0.21323109477239222,
          0.23145746898394676,
          0.24072703812253035,
          0.24767184520966287,
          0.2850207337429398,
          0.20312997120891255,
          0.22903706370505955,
          0.1044075759750536,
          0.25901054811278557,
          0.18012438273005488,
          0.17793329319495904,
          -0.131935846775716,
          -0.2610322227043133,
          0.03265464309015815,
          0.12154339906772503,
          -0.19569550116040887,
          -0.0744865019331022,
          -0.18081731743489488,
          -0.058351774294221136,
          -0.010759522354687735,
          -0.03493325780366631,
          0.02264797391441552,
          0.014954756440097068,
          0.02397455492015715,
          0.07190465026368352,
          0.11505921374852997,
          0.11716971381118114,
          0.11880228896222274,
          0.1133641340046486,
          0.10982784547208661,
          0.11107545010701696
         ],
         "yaxis": "y"
        },
        {
         "customdata": [
          [
           "Elijah Smith",
           "I am a software developer who enjoys<br>coding and problem-solving. I value<br>logic and efficiency in all aspects of<br>life. In my free time, I enjoy playing<br>video games and watching sci-fi movies.<br>I am reserved, appreciate electronic<br>music, and prefer quiet evenings at<br>home.",
           "Electronic, Indie",
           2,
           1,
           2
          ],
          [
           "Michael Sato",
           "I'm a botanist who studies plants and<br>their ecosystems. Nature and<br>sustainability are topics close to my<br>heart. I often spend time in botanical<br>gardens and conducting field research. I<br>am reserved, appreciate classical music,<br>and prefer quiet environments for<br>focused work.",
           "Classical, Jazz",
           1,
           1,
           1
          ],
          [
           "Daniel Chen",
           "I'm a data scientist who enjoys<br>analyzing complex datasets and<br>extracting insights. Logic and precision<br>are fundamental to my work. I often<br>spend time developing algorithms and<br>creating data visualizations. I am<br>reserved, appreciate jazz music, and<br>prefer working independently.",
           "Jazz, Classical, Rock",
           2,
           1,
           2
          ],
          [
           "Andrew Garcia",
           "I'm a lawyer specializing in<br>environmental law and advocating for<br>conservation. Justice and sustainability<br>are my guiding principles. I often spend<br>time researching legal precedents and<br>participating in environmental advocacy<br>groups. I am thoughtful, appreciate jazz<br>music, and enjoy intellectual debates on<br>social issues.",
           "Jazz, Classical, Indie",
           2,
           2,
           2
          ],
          [
           "Christopher Sato",
           "I'm an astrophysicist who studies stars<br>and galaxies and the mysteries of the<br>universe. Curiosity and exploration<br>drive my research. I often spend time<br>analyzing astronomical data and using<br>telescopes. I am reserved, appreciate<br>classical music, and prefer quiet<br>environments for deep thought.",
           "Classical, Jazz",
           1,
           1,
           1
          ],
          [
           "Joshua Chen",
           "I am a software engineer focused on AI<br>and machine learning algorithms. Logic<br>and efficiency are paramount in my work.<br>Free time is spent reading research<br>papers and contributing to open-source<br>AI projects. I am reserved, appreciate<br>jazz music, and prefer quiet coding<br>sessions at home.",
           "Jazz, Classical, Rock",
           2,
           1,
           2
          ],
          [
           "Tyler Sato",
           "I am a wildlife biologist who studies<br>animal behavior and conservation<br>efforts. Nature and biodiversity are my<br>concerns. Time is spent in the field<br>observing wildlife and contributing to<br>conservation projects. I am reserved,<br>appreciate classical music, and prefer<br>quiet natural settings.",
           "Classical, Jazz",
           1,
           1,
           1
          ],
          [
           "Logan Williams",
           "I'm a cybersecurity analyst focused on<br>network security and threat detection.<br>Logic and vigilance are paramount in my<br>profession. Evenings are spent<br>researching cybersecurity threats and<br>improving security protocols. I am<br>reserved, appreciate jazz music, and<br>prefer quiet, focused work environments.",
           "Jazz, Classical, Rock",
           2,
           1,
           2
          ],
          [
           "Nicholas Anderson",
           "I'm a journalist who enjoys reporting on<br>current events and investigative<br>reporting. Curiosity and integrity are<br>my guiding principles. Evenings are<br>spent researching stories and conducting<br>interviews. I am thoughtful, appreciate<br>jazz music, and enjoy intellectual<br>discussions about societal issues.",
           "Jazz, Classical, Indie",
           2,
           2,
           2
          ],
          [
           "Austin Jackson",
           "I'm a park ranger who loves protecting<br>natural environments and educating<br>visitors about conservation. Nature and<br>public service are my passions. Time is<br>spent patrolling parks and leading<br>educational tours. I am reserved,<br>appreciate classical music, and prefer<br>quiet natural settings and the solitude<br>of nature.",
           "Classical, Jazz",
           1,
           1,
           1
          ],
          [
           "Owen Harris",
           "I am a systems administrator, focused on<br>maintaining network infrastructure and<br>ensuring system uptime. Logic and<br>problem-solving are paramount in my<br>role. Evenings are spent monitoring<br>systems and implementing security<br>updates. I am reserved, appreciate jazz<br>music, and prefer quiet, focused<br>environments for technical work.",
           "Jazz, Classical, Rock",
           2,
           1,
           2
          ],
          [
           "Brayden Rodriguez",
           "I am a copywriter who enjoys crafting<br>compelling marketing content and<br>persuasive storytelling. Creativity and<br>communication skills are essential in my<br>profession. Evenings are spent writing<br>and brainstorming new campaign ideas. I<br>am thoughtful, appreciate jazz music,<br>and enjoy intellectual discussions about<br>marketing and advertising.",
           "Jazz, Classical, Indie",
           2,
           2,
           2
          ],
          [
           "Chase Lee",
           "I am an environmental scientist,<br>dedicated to studying ecosystems and<br>promoting environmental conservation.<br>Nature and scientific inquiry are my<br>passions. Time is spent conducting field<br>research and analyzing environmental<br>data. I am reserved, appreciate<br>classical music, and prefer quiet<br>natural environments for work and<br>reflection.",
           "Classical, Jazz",
           1,
           1,
           1
          ],
          [
           "Easton Young",
           "I am a network engineer, focused on<br>designing and maintaining network<br>infrastructure and ensuring efficient<br>data flow. Logic and attention to detail<br>are paramount in my role. Evenings are<br>spent troubleshooting network issues and<br>implementing network upgrades. I am<br>reserved, appreciate jazz music, and<br>prefer quiet, technically focused work.",
           "Jazz, Classical, Rock",
           2,
           1,
           2
          ],
          [
           "Lincoln Baker",
           "I am a technical writer who enjoys<br>explaining complex information clearly<br>and concisely. Communication skills and<br>technical understanding are essential in<br>my profession. Evenings are spent<br>writing documentation and researching<br>technical topics. I am thoughtful,<br>appreciate jazz music, and enjoy the<br>intellectual challenge of technical<br>writing.",
           "Jazz, Classical, Indie",
           2,
           2,
           2
          ],
          [
           "Miles Nelson",
           "I am a marine biologist, dedicated to<br>studying ocean ecosystems and promoting<br>marine conservation. Nature and<br>scientific exploration are my passions.<br>Time is spent conducting underwater<br>research and analyzing marine data. I am<br>reserved, appreciate classical music,<br>and prefer quiet natural settings and<br>the wonders of the marine world.",
           "Classical, Jazz",
           1,
           1,
           1
          ],
          [
           "Levi Mitchell",
           "I am a database administrator, focused<br>on managing and securing data and<br>ensuring efficient data access. Logic<br>and precision are paramount in my role.<br>Evenings are spent optimizing database<br>performance and implementing security<br>measures. I am reserved, appreciate jazz<br>music, and prefer quiet, technically<br>focused work environments.",
           "Jazz, Classical, Rock",
           2,
           1,
           2
          ],
          [
           "Leo Cook",
           "I am a marketing analyst who enjoys<br>analyzing marketing data and providing<br>insights for campaign optimization.<br>Analytical skills and business acumen<br>are essential in my field. Evenings are<br>spent analyzing campaign performance and<br>preparing reports. I am thoughtful,<br>appreciate jazz music, and enjoy the<br>intellectual challenge of data-driven<br>marketing.",
           "Jazz, Classical, Indie",
           2,
           2,
           2
          ],
          [
           "Caleb Gray",
           "I am a hydrologist, dedicated to<br>studying water resources and promoting<br>water conservation. Nature and<br>scientific inquiry are my passions. Time<br>is spent conducting hydrological<br>research and analyzing water data. I am<br>reserved, appreciate classical music,<br>and prefer quiet natural environments<br>for work and reflection.",
           "Classical, Jazz",
           1,
           1,
           1
          ]
         ],
         "hoverlabel": {
          "bgcolor": "white",
          "bordercolor": "#FF6692",
          "font": {
           "color": "#FF6692",
           "family": "Arial",
           "size": 14
          }
         },
         "hovertemplate": "<b> Name: </b> %{customdata[0]}<br><b> About Me: </b> %{customdata[1]}<br><b> Favorite Music Genres: </b> %{customdata[2]}<br><b> Outgoing: </b> %{customdata[3]}<br><b> Outdoorsy: </b> %{customdata[4]}<br><b> Politically Correct: </b> %{customdata[5]}<br><extra></extra>",
         "legendgroup": "1",
         "marker": {
          "color": "#FF6692",
          "line": {
           "color": "DarkSlateGrey",
           "width": 2
          },
          "opacity": 0.8,
          "size": 12,
          "symbol": "circle"
         },
         "mode": "markers",
         "name": "1",
         "orientation": "v",
         "showlegend": true,
         "type": "scatter",
         "x": [
          -0.41538579087301697,
          -0.4277058568811883,
          -0.508276393974572,
          -0.39343778507449634,
          -0.4433776095365206,
          -0.5205528584580962,
          -0.35126025557783846,
          -0.5248448314791272,
          -0.4181589688012269,
          -0.2203724357364267,
          -0.5003091070717558,
          -0.3291154341914002,
          -0.3514453945611927,
          -0.4587024945381306,
          -0.4634296478207887,
          -0.3396268342985931,
          -0.4846378896294565,
          -0.44727026315936036,
          -0.3764764278123809
         ],
         "xaxis": "x",
         "y": [
          0.23294838805539936,
          -0.14555922776952904,
          0.12671434396598308,
          -0.1605989362765225,
          -0.0065188700654122385,
          0.14685513566756975,
          -0.11390156259290457,
          0.1655669425471308,
          -0.1374785887754265,
          -0.10288052480023233,
          0.1556060969824914,
          -0.14171364851047047,
          -0.05275037087115398,
          0.16580289321111025,
          -0.03328530700823555,
          -0.045844369762970294,
          0.17385632291986194,
          0.03481729416647903,
          -0.05460826826699781
         ],
         "yaxis": "y"
        },
        {
         "customdata": [
          [
           "Willow Walker",
           "I am a yoga instructor, enjoying<br>teaching mindfulness and promoting<br>physical and mental well-being. Empathy<br>and communication are key to my<br>teaching. Weekends are spent leading<br>yoga classes and attending wellness<br>workshops. I am outgoing, enjoy<br>electronic music, and love connecting<br>with students and promoting healthy<br>lifestyles.",
           "Electronic, Pop, Indie",
           4,
           3,
           3
          ],
          [
           "Lakshmi Sharma",
           "Thoughtful and artistic, I enjoy<br>classical Indian dance and playing the<br>sitar. I am passionate about Indian<br>culture and traditional arts. My<br>favorite music genres are classical and<br>world music, and I enjoy meditation and<br>practicing yoga.",
           "Classical, World, Folk",
           2,
           1,
           3
          ],
          [
           "Owen Carter",
           "Thoughtful and introspective, I find<br>peace in nature and enjoy long walks in<br>the forest. I am passionate about<br>environmentalism and mindfulness. My<br>favorite music genres are ambient and<br>folk, and I enjoy birdwatching and<br>nature photography.",
           "Ambient, Folk, Classical",
           2,
           3,
           2
          ],
          [
           "Angel Butler",
           "Thoughtful and introspective, I find<br>peace in meditation and practicing<br>mindfulness. I am passionate about<br>mindfulness and spiritual well-being. My<br>favorite music genres are ambient and<br>classical, and I enjoy attending<br>meditation retreats and mindfulness<br>workshops.",
           "Ambient, Classical, World",
           2,
           1,
           2
          ],
          [
           "Aaron Hayes",
           "Thoughtful and introspective, I find<br>peace in playing classical guitar and<br>composing instrumental music. I am<br>passionate about classical guitar and<br>instrumental composition. My favorite<br>music genres are classical and flamenco,<br>and I enjoy attending guitar concerts<br>and music workshops.",
           "Classical, Flamenco, World",
           2,
           1,
           2
          ],
          [
           "Kevin Perry",
           "Thoughtful and introspective, I find<br>peace in practicing yoga and meditation<br>for stress relief. I am passionate about<br>yoga and mindfulness practices. My<br>favorite music genres are ambient and<br>world music, and I enjoy attending yoga<br>classes and meditation retreats.",
           "Ambient, World, Classical",
           2,
           1,
           2
          ],
          [
           "Evan Howard",
           "Thoughtful and introspective, I find<br>peace in practicing yoga and meditation<br>for relaxation and stress reduction. I<br>am passionate about yoga and mindfulness<br>practices. My favorite music genres are<br>ambient and world music, and I enjoy<br>attending yoga retreats and meditation<br>centers.",
           "Ambient, World, Classical",
           2,
           1,
           2
          ],
          [
           "Chase Butler",
           "Thoughtful and introspective, I find<br>peace in practicing yoga and meditation<br>for relaxation and stress management in<br>my daily life. I am passionate about<br>yoga and mindfulness practices. My<br>favorite music genres are ambient and<br>world music, and I enjoy attending yoga<br>retreats and meditation centers in<br>peaceful locations.",
           "Ambient, World, Classical",
           2,
           1,
           2
          ],
          [
           "Micah Howard",
           "Thoughtful and introspective, I find<br>peace in practicing yoga and meditation<br>for relaxation and stress management in<br>my daily routines and life. I am<br>passionate about yoga and mindfulness<br>practices and improving mental well-<br>being. My favorite music genres are<br>ambient and world music, and I enjoy<br>attending yoga retreats and meditation<br>centers in peaceful and serene<br>locations.",
           "Ambient, World, Classical",
           2,
           1,
           2
          ],
          [
           "Bennett Butler",
           "Thoughtful and introspective, I find<br>peace in practicing yoga and meditation<br>for relaxation and stress management in<br>my daily routines and life and improving<br>overall well-being. I am passionate<br>about yoga and mindfulness practices and<br>enhancing mental and physical health<br>through mindful techniques. My favorite<br>music genres are ambient and world<br>music, and I enjoy attending yoga<br>retreats and meditation centers in<br>peaceful and serene locations and<br>deepening my mindfulness practice.",
           "Ambient, World, Classical",
           2,
           1,
           2
          ],
          [
           "Remi Howard",
           "Thoughtful and introspective, I find<br>peace in practicing yoga and meditation<br>for relaxation and stress management in<br>my daily routines and life and improving<br>overall well-being and mental clarity. I<br>am passionate about yoga and mindfulness<br>practices and enhancing mental and<br>physical health through mindful<br>techniques and cultivating inner peace<br>and tranquility. My favorite music<br>genres are ambient and world music, and<br>I enjoy attending yoga retreats and<br>meditation centers in peaceful and<br>serene locations and deepening my<br>mindfulness practice and exploring<br>different meditation techniques.",
           "Ambient, World, Classical",
           2,
           1,
           2
          ],
          [
           "Milo Butler",
           "Thoughtful and introspective, I find<br>peace in practicing yoga and meditation<br>for relaxation and stress management in<br>my daily routines and life and improving<br>overall well-being and mental clarity<br>and emotional balance. I am passionate<br>about yoga and mindfulness practices and<br>enhancing mental and physical health<br>through mindful techniques and<br>cultivating inner peace and tranquility<br>and promoting stress reduction and<br>emotional regulation. My favorite music<br>genres are ambient and world music, and<br>I enjoy attending yoga retreats and<br>meditation centers in peaceful and<br>serene locations and deepening my<br>mindfulness practice and exploring<br>different meditation techniques and<br>achieving a state of inner calm and<br>serenity.",
           "Ambient, World, Classical",
           2,
           1,
           2
          ]
         ],
         "hoverlabel": {
          "bgcolor": "white",
          "bordercolor": "#B6E880",
          "font": {
           "color": "#B6E880",
           "family": "Arial",
           "size": 14
          }
         },
         "hovertemplate": "<b> Name: </b> %{customdata[0]}<br><b> About Me: </b> %{customdata[1]}<br><b> Favorite Music Genres: </b> %{customdata[2]}<br><b> Outgoing: </b> %{customdata[3]}<br><b> Outdoorsy: </b> %{customdata[4]}<br><b> Politically Correct: </b> %{customdata[5]}<br><extra></extra>",
         "legendgroup": "6",
         "marker": {
          "color": "#B6E880",
          "line": {
           "color": "DarkSlateGrey",
           "width": 2
          },
          "opacity": 0.8,
          "size": 12,
          "symbol": "circle"
         },
         "mode": "markers",
         "name": "6",
         "orientation": "v",
         "showlegend": true,
         "type": "scatter",
         "x": [
          0.0026047497338100457,
          -0.30916456241804885,
          -0.5267518258441445,
          -0.4424152411812905,
          -0.373441935233739,
          -0.40202076204474424,
          -0.41016091016194467,
          -0.41479119010790744,
          -0.4125871460305586,
          -0.39311932193142735,
          -0.4074749971013589,
          -0.4118532403129299
         ],
         "xaxis": "x",
         "y": [
          -0.007505799944937582,
          -0.3686214275440451,
          -0.22406548234273344,
          -0.4106898887628866,
          -0.3637433571521206,
          -0.4209862243207319,
          -0.4253403354058407,
          -0.4295289849420731,
          -0.4255300455770141,
          -0.41351667815619625,
          -0.40731122194162794,
          -0.39602321552371167
         ],
         "yaxis": "y"
        },
        {
         "customdata": [
          [
           "Kenji Tanaka",
           "I am a calm and analytical individual<br>who enjoys solving puzzles and playing<br>strategy games. I am passionate about<br>learning new programming languages and<br>exploring the world of AI. My favorite<br>music genres are electronic and<br>classical, and I enjoy hiking and<br>practicing meditation.",
           "Electronic, Classical, Indie",
           3,
           3,
           4
          ],
          [
           "Rajeev Kumar",
           "Analytical and reliable, I enjoy solving<br>complex problems and working on<br>engineering projects. I am passionate<br>about technology and innovation. My<br>favorite music genres are rock and<br>electronic, and I enjoy coding and<br>building robots.",
           "Rock, Electronic, Metal",
           3,
           3,
           4
          ],
          [
           "William Davis",
           "Analytical and reliable, I enjoy<br>building model airplanes and learning<br>about aviation history. I am passionate<br>about engineering and aerospace<br>technology. My favorite music genres are<br>rock and classical, and I enjoy visiting<br>air museums and attending air shows.",
           "Rock, Classical, Blues",
           3,
           3,
           4
          ],
          [
           "Samuel Garcia",
           "Analytical and reliable, I enjoy<br>building electronic gadgets and<br>experimenting with circuits. I am<br>passionate about electronics and<br>robotics. My favorite music genres are<br>electronic and classical, and I enjoy<br>attending technology conferences and<br>maker faires.",
           "Electronic, Classical, Rock",
           3,
           3,
           4
          ],
          [
           "Caleb Collins",
           "Analytical and detail-oriented, I enjoy<br>coding and developing software<br>applications. I am passionate about<br>computer science and technology<br>innovation. My favorite music genres are<br>electronic and classical, and I enjoy<br>attending hackathons and tech<br>conferences.",
           "Electronic, Classical, Rock",
           3,
           3,
           4
          ],
          [
           "Elijah Perry",
           "Analytical and detail-oriented, I enjoy<br>building computers and experimenting<br>with hardware. I am passionate about<br>computer hardware and technology. My<br>favorite music genres are electronic and<br>rock, and I enjoy attending tech<br>workshops and computer building events.",
           "Electronic, Rock, Metal",
           3,
           3,
           4
          ],
          [
           "Zachary Hayes",
           "Analytical and detail-oriented, I enjoy<br>coding and developing web applications<br>and websites. I am passionate about web<br>development and programming. My favorite<br>music genres are electronic and rock,<br>and I enjoy attending web development<br>conferences and coding meetups.",
           "Electronic, Rock, Metal",
           3,
           3,
           4
          ],
          [
           "Justin Collins",
           "Analytical and detail-oriented, I enjoy<br>studying science and conducting<br>experiments in my home lab. I am<br>passionate about science and scientific<br>research. My favorite music genres are<br>electronic and classical, and I enjoy<br>attending science lectures and science<br>fairs.",
           "Electronic, Classical, Rock",
           3,
           3,
           4
          ],
          [
           "Robert Jenkins",
           "Analytical and detail-oriented, I enjoy<br>coding and developing mobile<br>applications for smartphones and<br>tablets. I am passionate about mobile<br>app development and programming. My<br>favorite music genres are electronic and<br>rock, and I enjoy attending mobile<br>development conferences and coding<br>workshops.",
           "Electronic, Rock, Metal",
           3,
           3,
           4
          ],
          [
           "Dylan Foster",
           "Analytical and detail-oriented, I enjoy<br>coding and developing software programs<br>and applications for computers. I am<br>passionate about software development<br>and programming. My favorite music<br>genres are electronic and rock, and I<br>enjoy attending software development<br>conferences and coding meetups.",
           "Electronic, Rock, Metal",
           3,
           3,
           4
          ],
          [
           "Vincent Jenkins",
           "Analytical and detail-oriented, I enjoy<br>studying science and conducting<br>experiments in my laboratory at home. I<br>am passionate about science and<br>scientific research. My favorite music<br>genres are electronic and classical, and<br>I enjoy attending science lectures and<br>science exhibitions.",
           "Electronic, Classical, Rock",
           3,
           3,
           4
          ],
          [
           "Jayden Foster",
           "Analytical and detail-oriented, I enjoy<br>coding and developing mobile<br>applications for smartphones and tablets<br>for different platforms. I am passionate<br>about mobile app development and<br>programming languages. My favorite music<br>genres are electronic and rock, and I<br>enjoy attending mobile development<br>conferences and coding workshops in my<br>city.",
           "Electronic, Rock, Metal",
           3,
           3,
           4
          ],
          [
           "Blake Jenkins",
           "Analytical and detail-oriented, I enjoy<br>coding and developing software programs<br>and applications for computers and<br>mobile devices. I am passionate about<br>software development and programming<br>languages. My favorite music genres are<br>electronic and rock, and I enjoy<br>attending software development<br>conferences and coding meetups in my<br>area.",
           "Electronic, Rock, Metal",
           3,
           3,
           4
          ],
          [
           "Asher Foster",
           "Analytical and detail-oriented, I enjoy<br>studying science and conducting<br>experiments in my laboratory at home and<br>school. I am passionate about science<br>and scientific research and<br>experimentation. My favorite music<br>genres are electronic and classical, and<br>I enjoy attending science lectures and<br>science exhibitions and learning about<br>new discoveries.",
           "Electronic, Classical, Rock",
           3,
           3,
           4
          ],
          [
           "Levi Jenkins",
           "Analytical and detail-oriented, I enjoy<br>coding and developing mobile<br>applications for smartphones and tablets<br>for different operating systems. I am<br>passionate about mobile app development<br>and programming languages and software<br>engineering. My favorite music genres<br>are electronic and rock, and I enjoy<br>attending mobile development conferences<br>and coding workshops in my city and<br>state.",
           "Electronic, Rock, Metal",
           3,
           3,
           4
          ],
          [
           "Ellison Foster",
           "Analytical and detail-oriented, I enjoy<br>coding and developing software programs<br>and applications for computers and<br>mobile devices for various purposes. I<br>am passionate about software development<br>and programming languages and computer<br>science principles. My favorite music<br>genres are electronic and rock, and I<br>enjoy attending software development<br>conferences and coding meetups in my<br>area and networking with other<br>developers.",
           "Electronic, Rock, Metal",
           3,
           3,
           4
          ],
          [
           "Joaquin Jenkins",
           "Analytical and detail-oriented, I enjoy<br>studying science and conducting<br>experiments in my laboratory at home and<br>school and exploring scientific<br>principles. I am passionate about<br>science and scientific research and<br>experimentation and advancing scientific<br>knowledge. My favorite music genres are<br>electronic and classical, and I enjoy<br>attending science lectures and science<br>exhibitions and learning about cutting-<br>edge scientific advancements.",
           "Electronic, Classical, Rock",
           3,
           3,
           4
          ],
          [
           "Xavier Foster",
           "Analytical and detail-oriented, I enjoy<br>coding and developing mobile<br>applications for smartphones and tablets<br>for different operating systems and<br>platforms. I am passionate about mobile<br>app development and programming<br>languages and software engineering<br>principles and best practices. My<br>favorite music genres are electronic and<br>rock, and I enjoy attending mobile<br>development conferences and coding<br>workshops in my city and state and<br>learning about the latest technologies.",
           "Electronic, Rock, Metal",
           3,
           3,
           4
          ],
          [
           "Emmett Jenkins",
           "Analytical and detail-oriented, I enjoy<br>coding and developing software programs<br>and applications for computers and<br>mobile devices for various purposes and<br>platforms. I am passionate about<br>software development and programming<br>languages and computer science<br>principles and software engineering<br>methodologies. My favorite music genres<br>are electronic and rock, and I enjoy<br>attending software development<br>conferences and coding meetups in my<br>area and networking with other<br>developers and learning about new<br>technologies and trends.",
           "Electronic, Rock, Metal",
           3,
           3,
           4
          ],
          [
           "Kai Foster",
           "Analytical and detail-oriented, I enjoy<br>studying science and conducting<br>experiments in my laboratory at home and<br>school and exploring scientific<br>principles and theories. I am passionate<br>about science and scientific research<br>and experimentation and advancing<br>scientific knowledge and understanding<br>the natural world. My favorite music<br>genres are electronic and classical, and<br>I enjoy attending science lectures and<br>science exhibitions and learning about<br>cutting-edge scientific advancements and<br>discoveries and innovations.",
           "Electronic, Classical, Rock",
           3,
           3,
           4
          ],
          [
           "Jaxon Jenkins",
           "Analytical and detail-oriented, I enjoy<br>coding and developing mobile<br>applications for smartphones and tablets<br>for different operating systems and<br>platforms and devices. I am passionate<br>about mobile app development and<br>programming languages and software<br>engineering principles and best<br>practices and software architecture. My<br>favorite music genres are electronic and<br>rock, and I enjoy attending mobile<br>development conferences and coding<br>workshops in my city and state and<br>learning about the latest technologies<br>and frameworks and tools and techniques.",
           "Electronic, Rock, Metal",
           3,
           3,
           4
          ],
          [
           "Jude Foster",
           "Analytical and detail-oriented, I enjoy<br>coding and developing software programs<br>and applications for computers and<br>mobile devices for various purposes and<br>platforms and industries. I am<br>passionate about software development<br>and programming languages and computer<br>science principles and software<br>engineering methodologies and best<br>practices and software architecture<br>design patterns. My favorite music<br>genres are electronic and rock, and I<br>enjoy attending software development<br>conferences and coding meetups in my<br>area and networking with other<br>developers and learning about new<br>technologies and trends and advancements<br>in the software industry.",
           "Electronic, Rock, Metal",
           3,
           3,
           4
          ],
          [
           "Lincoln Jenkins",
           "Analytical and detail-oriented, I enjoy<br>studying science and conducting<br>experiments in my laboratory at home and<br>school and exploring scientific<br>principles and theories and laws of<br>nature. I am passionate about science<br>and scientific research and<br>experimentation and advancing scientific<br>knowledge and understanding the natural<br>world and the universe and the<br>fundamental principles of science. My<br>favorite music genres are electronic and<br>classical, and I enjoy attending science<br>lectures and science exhibitions and<br>learning about cutting-edge scientific<br>advancements and discoveries and<br>innovations and breakthroughs in<br>scientific research and technology.",
           "Electronic, Classical, Rock",
           3,
           3,
           4
          ],
          [
           "Caden Foster",
           "Analytical and detail-oriented, I enjoy<br>coding and developing mobile<br>applications for smartphones and tablets<br>for different operating systems and<br>platforms and devices and user<br>interfaces. I am passionate about mobile<br>app development and programming<br>languages and software engineering<br>principles and best practices and<br>software architecture design patterns<br>and user experience design. My favorite<br>music genres are electronic and rock,<br>and I enjoy attending mobile development<br>conferences and coding workshops in my<br>city and state and learning about the<br>latest technologies and frameworks and<br>tools and techniques and design<br>principles and best practices in mobile<br>app development.",
           "Electronic, Rock, Metal",
           3,
           3,
           4
          ]
         ],
         "hoverlabel": {
          "bgcolor": "white",
          "bordercolor": "#FF97FF",
          "font": {
           "color": "#FF97FF",
           "family": "Arial",
           "size": 14
          }
         },
         "hovertemplate": "<b> Name: </b> %{customdata[0]}<br><b> About Me: </b> %{customdata[1]}<br><b> Favorite Music Genres: </b> %{customdata[2]}<br><b> Outgoing: </b> %{customdata[3]}<br><b> Outdoorsy: </b> %{customdata[4]}<br><b> Politically Correct: </b> %{customdata[5]}<br><extra></extra>",
         "legendgroup": "2",
         "marker": {
          "color": "#FF97FF",
          "line": {
           "color": "DarkSlateGrey",
           "width": 2
          },
          "opacity": 0.8,
          "size": 12,
          "symbol": "circle"
         },
         "mode": "markers",
         "name": "2",
         "orientation": "v",
         "showlegend": true,
         "type": "scatter",
         "x": [
          -0.6200087192630532,
          -0.20962655013479245,
          -0.3265722427357152,
          -0.4745437305306883,
          -0.49368026762475054,
          -0.38088303321701683,
          -0.3545775476245786,
          -0.5558918705010686,
          -0.36281683365291806,
          -0.36388804142468895,
          -0.5575858616861711,
          -0.3672631218556882,
          -0.3583604397509714,
          -0.5413022154796178,
          -0.36746566162350464,
          -0.3609778004851093,
          -0.5442585582214992,
          -0.37161865640767305,
          -0.3577111573737879,
          -0.5409946286982191,
          -0.3725698334954107,
          -0.35967330381474094,
          -0.54666307259192,
          -0.3770832205108966
         ],
         "xaxis": "x",
         "y": [
          0.4864989944465433,
          0.7248069012722388,
          0.4295181236611561,
          0.7202852271869326,
          0.7625887422678054,
          0.8341791881124585,
          0.8475283951336469,
          0.672707255302331,
          0.8783731590542179,
          0.8652483475327234,
          0.6658235466265938,
          0.8704196637317663,
          0.8723996903488186,
          0.6819329679537313,
          0.8811080593690457,
          0.8729542990885162,
          0.6873339150021959,
          0.8791272967218061,
          0.8713912353672524,
          0.6744826289201128,
          0.8698489026561472,
          0.8556392577944776,
          0.6717225017328967,
          0.8615924719918372
         ],
         "yaxis": "y"
        },
        {
         "customdata": [
          [
           "Mia Rodriguez",
           "Creative and curious, I enjoy learning<br>about different cultures and trying new<br>recipes from around the world. I am<br>passionate about global cuisine and<br>cultural exchange. My favorite music<br>genres are world and pop, and I enjoy<br>cooking international dishes and<br>attending food festivals.",
           "World, Pop, Folk",
           4,
           2,
           3
          ],
          [
           "Evelyn Harris",
           "Outgoing and artistic, I love to sing in<br>a choir and perform in musical<br>productions. I am passionate about vocal<br>music and choral singing. My favorite<br>music genres are classical and gospel,<br>and I enjoy attending choir concerts and<br>vocal workshops.",
           "Classical, Gospel, Soul",
           5,
           2,
           3
          ],
          [
           "Harper Thompson",
           "Creative and thoughtful, I enjoy<br>knitting and crocheting, creating<br>handmade gifts for friends and family. I<br>am passionate about crafts and textile<br>arts. My favorite music genres are folk<br>and country, and I enjoy attending craft<br>fairs and knitting circles.",
           "Folk, Country, Indie",
           4,
           2,
           2
          ],
          [
           "Matthew Hall",
           "Creative and thoughtful, I enjoy writing<br>screenplays and imagining movie scenes.<br>I am passionate about filmmaking and<br>cinematic arts. My favorite music genres<br>are classical and indie, and I enjoy<br>watching classic films and attending<br>film festivals.",
           "Classical, Indie, Folk",
           4,
           2,
           2
          ],
          [
           "Ryan King",
           "Creative and curious, I enjoy learning<br>about different religions and spiritual<br>practices around the world. I am<br>passionate about comparative religion<br>and spirituality. My favorite music<br>genres are world and gospel, and I enjoy<br>reading religious texts and attending<br>interfaith dialogues.",
           "World, Gospel, Folk",
           4,
           2,
           2
          ],
          [
           "Layla Edwards",
           "Creative and expressive, I love to sing<br>and write my own songs, often performing<br>at local coffee shops. I am passionate<br>about songwriting and vocal performance.<br>My favorite music genres are pop and<br>folk, and I enjoy attending open mic<br>nights and music workshops.",
           "Pop, Folk, Country",
           4,
           2,
           3
          ],
          [
           "Zoey Morris",
           "Creative and empathetic, I find joy in<br>helping others and volunteering at a<br>local charity. I am passionate about<br>social work and community service. My<br>favorite music genres are gospel and<br>soul, and I enjoy attending community<br>events and volunteering activities.",
           "Gospel, Soul, R&B",
           4,
           2,
           2
          ],
          [
           "Savannah Perry",
           "Creative and empathetic, I find joy in<br>working with children and volunteering<br>at a daycare center. I am passionate<br>about early childhood education and<br>child development. My favorite music<br>genres are children's music and pop, and<br>I enjoy attending children's festivals<br>and volunteering activities.",
           "Children's Music, Pop, Folk",
           4,
           2,
           2
          ],
          [
           "Bella Bennett",
           "Creative and empathetic, I find joy in<br>gardening and growing my own vegetables<br>and flowers. I am passionate about<br>gardening and sustainable living. My<br>favorite music genres are folk and<br>country, and I enjoy visiting botanical<br>gardens and farmers markets.",
           "Folk, Country, Indie",
           4,
           2,
           2
          ],
          [
           "Stella Wood",
           "Creative and empathetic, I find joy in<br>volunteering at a senior center and<br>spending time with elderly people. I am<br>passionate about elder care and<br>gerontology. My favorite music genres<br>are classical and folk, and I enjoy<br>attending senior center events and<br>volunteering activities.",
           "Classical, Folk, Gospel",
           4,
           2,
           2
          ],
          [
           "Maya Simmons",
           "Creative and empathetic, I find joy in<br>creating handmade gifts and crafting<br>personalized presents for friends. I am<br>passionate about crafting and DIY<br>projects. My favorite music genres are<br>folk and indie, and I enjoy attending<br>craft fairs and DIY workshops.",
           "Folk, Indie, Pop",
           4,
           2,
           2
          ],
          [
           "Skylar Peterson",
           "Creative and empathetic, I find joy in<br>volunteering at a homeless shelter and<br>helping people in need. I am passionate<br>about social justice and helping the<br>less fortunate. My favorite music genres<br>are gospel and soul, and I enjoy<br>attending community service events and<br>volunteering activities.",
           "Gospel, Soul, R&B",
           4,
           2,
           2
          ],
          [
           "Ariana Powell",
           "Creative and expressive, I love to write<br>songs and perform original music at<br>local coffee shops. I am passionate<br>about songwriting and musical<br>performance. My favorite music genres<br>are pop and folk, and I enjoy attending<br>open mic nights and music festivals.",
           "Pop, Folk, Country",
           4,
           2,
           3
          ],
          [
           "Valentina Perry",
           "Creative and empathetic, I find joy in<br>creating handmade cards and sending<br>personalized greetings to friends and<br>family. I am passionate about crafting<br>and personalized gifts. My favorite<br>music genres are folk and indie, and I<br>enjoy attending craft fairs and DIY<br>workshops.",
           "Folk, Indie, Pop",
           4,
           2,
           2
          ],
          [
           "Eva Reed",
           "Creative and empathetic, I find joy in<br>volunteering at a local soup kitchen and<br>helping feed the homeless in my<br>community. I am passionate about social<br>justice and helping the less fortunate.<br>My favorite music genres are gospel and<br>soul, and I enjoy attending community<br>service events and volunteering<br>activities.",
           "Gospel, Soul, R&B",
           4,
           2,
           2
          ],
          [
           "Jade Simmons",
           "Creative and expressive, I love to write<br>songs and perform original music at<br>local coffee shops and music venues. I<br>am passionate about songwriting and<br>musical performance. My favorite music<br>genres are pop and folk, and I enjoy<br>attending open mic nights and music<br>festivals in my area.",
           "Pop, Folk, Country",
           4,
           2,
           3
          ],
          [
           "Sarah Reed",
           "Creative and empathetic, I find joy in<br>creating handmade cards and sending<br>personalized greetings to friends and<br>family on special occasions. I am<br>passionate about crafting and<br>personalized gifts. My favorite music<br>genres are folk and indie, and I enjoy<br>attending craft fairs and DIY workshops<br>in my community.",
           "Folk, Indie, Pop",
           4,
           2,
           2
          ],
          [
           "Alexandra Perry",
           "Creative and empathetic, I find joy in<br>volunteering at a local soup kitchen and<br>helping feed the homeless and needy in<br>my community. I am passionate about<br>social justice and helping the less<br>fortunate in my area. My favorite music<br>genres are gospel and soul, and I enjoy<br>attending community service events and<br>volunteering activities in my<br>neighborhood.",
           "Gospel, Soul, R&B",
           4,
           2,
           2
          ],
          [
           "Gabriella Powell",
           "Creative and expressive, I love to write<br>songs and perform original music at<br>local coffee shops and music venues and<br>open mic nights. I am passionate about<br>songwriting and musical performance and<br>expressing myself through music. My<br>favorite music genres are pop and folk,<br>and I enjoy attending open mic nights<br>and music festivals in my area and<br>sharing my music with others.",
           "Pop, Folk, Country",
           4,
           2,
           3
          ],
          [
           "Eleanor Perry",
           "Creative and empathetic, I find joy in<br>creating handmade cards and sending<br>personalized greetings to friends and<br>family on special occasions and<br>holidays. I am passionate about crafting<br>and personalized gifts and spreading joy<br>through handmade items. My favorite<br>music genres are folk and indie, and I<br>enjoy attending craft fairs and DIY<br>workshops in my community and learning<br>new crafting techniques.",
           "Folk, Indie, Pop",
           4,
           2,
           2
          ],
          [
           "Quinn Reed",
           "Creative and empathetic, I find joy in<br>volunteering at a local soup kitchen and<br>helping feed the homeless and needy in<br>my community and making a positive<br>impact. I am passionate about social<br>justice and helping the less fortunate<br>in my area and contributing to community<br>well-being. My favorite music genres are<br>gospel and soul, and I enjoy attending<br>community service events and<br>volunteering activities in my<br>neighborhood and making a difference in<br>people's lives.",
           "Gospel, Soul, R&B",
           4,
           2,
           2
          ],
          [
           "Delilah Simmons",
           "Creative and expressive, I love to write<br>songs and perform original music at<br>local coffee shops and music venues and<br>open mic nights and concerts. I am<br>passionate about songwriting and musical<br>performance and expressing myself<br>creatively through music and lyrics. My<br>favorite music genres are pop and folk,<br>and I enjoy attending open mic nights<br>and music festivals in my area and<br>sharing my music with audiences and<br>connecting with music lovers.",
           "Pop, Folk, Country",
           4,
           2,
           3
          ],
          [
           "Beatrice Reed",
           "Creative and empathetic, I find joy in<br>creating handmade cards and sending<br>personalized greetings to friends and<br>family on special occasions and holidays<br>and birthdays. I am passionate about<br>crafting and personalized gifts and<br>spreading joy and happiness through<br>handmade creations. My favorite music<br>genres are folk and indie, and I enjoy<br>attending craft fairs and DIY workshops<br>in my community and learning new<br>crafting skills and techniques and<br>sharing my creations with others.",
           "Folk, Indie, Pop",
           4,
           2,
           2
          ],
          [
           "Josephine Perry",
           "Creative and empathetic, I find joy in<br>volunteering at a local soup kitchen and<br>helping feed the homeless and needy in<br>my community and making a positive<br>impact on people's lives. I am<br>passionate about social justice and<br>helping the less fortunate in my area<br>and contributing to community welfare<br>and social responsibility. My favorite<br>music genres are gospel and soul, and I<br>enjoy attending community service events<br>and volunteering activities in my<br>neighborhood and making a tangible<br>difference in the lives of others.",
           "Gospel, Soul, R&B",
           4,
           2,
           2
          ],
          [
           "Athena Powell",
           "Creative and expressive, I love to write<br>songs and perform original music at<br>local coffee shops and music venues and<br>open mic nights and concerts and<br>festivals. I am passionate about<br>songwriting and musical performance and<br>expressing myself creatively through<br>music and lyrics and melodies. My<br>favorite music genres are pop and folk,<br>and I enjoy attending open mic nights<br>and music festivals in my area and<br>sharing my music with audiences and<br>connecting with music lovers and<br>building a musical community.",
           "Pop, Folk, Country",
           4,
           2,
           3
          ],
          [
           "Hazel Perry",
           "Creative and empathetic, I find joy in<br>creating handmade cards and sending<br>personalized greetings to friends and<br>family on special occasions and holidays<br>and birthdays and anniversaries. I am<br>passionate about crafting and<br>personalized gifts and spreading joy and<br>happiness through handmade creations and<br>thoughtful gestures. My favorite music<br>genres are folk and indie, and I enjoy<br>attending craft fairs and DIY workshops<br>in my community and learning new<br>crafting skills and techniques and<br>sharing my creations with others and<br>connecting with other crafters and<br>artists.",
           "Folk, Indie, Pop",
           4,
           2,
           2
          ],
          [
           "Jasmine Reed",
           "Creative and empathetic, I find joy in<br>volunteering at a local soup kitchen and<br>helping feed the homeless and needy in<br>my community and making a positive<br>impact on people's lives and<br>contributing to social good. I am<br>passionate about social justice and<br>helping the less fortunate in my area<br>and contributing to community welfare<br>and social responsibility and promoting<br>social equality and compassion. My<br>favorite music genres are gospel and<br>soul, and I enjoy attending community<br>service events and volunteering<br>activities in my neighborhood and making<br>a tangible difference in the lives of<br>others and advocating for social justice<br>and human rights.",
           "Gospel, Soul, R&B",
           4,
           2,
           2
          ],
          [
           "Diana Simmons",
           "Creative and expressive, I love to write<br>songs and perform original music at<br>local coffee shops and music venues and<br>open mic nights and concerts and<br>festivals and community events. I am<br>passionate about songwriting and musical<br>performance and expressing myself<br>creatively through music and lyrics and<br>melodies and rhythms and harmonies. My<br>favorite music genres are pop and folk,<br>and I enjoy attending open mic nights<br>and music festivals in my area and<br>sharing my music with audiences and<br>connecting with music lovers and<br>building a musical community and<br>promoting local music and artistic<br>talent.",
           "Pop, Folk, Country",
           4,
           2,
           3
          ],
          [
           "Isla Reed",
           "Creative and empathetic, I find joy in<br>creating handmade cards and sending<br>personalized greetings to friends and<br>family on special occasions and holidays<br>and birthdays and anniversaries and<br>celebrations. I am passionate about<br>crafting and personalized gifts and<br>spreading joy and happiness through<br>handmade creations and thoughtful<br>gestures and artistic expressions. My<br>favorite music genres are folk and<br>indie, and I enjoy attending craft fairs<br>and DIY workshops in my community and<br>learning new crafting skills and<br>techniques and sharing my creations with<br>others and connecting with other<br>crafters and artists and promoting<br>handmade arts and crafts.",
           "Folk, Indie, Pop",
           4,
           2,
           2
          ]
         ],
         "hoverlabel": {
          "bgcolor": "white",
          "bordercolor": "#FECB52",
          "font": {
           "color": "#FECB52",
           "family": "Arial",
           "size": 14
          }
         },
         "hovertemplate": "<b> Name: </b> %{customdata[0]}<br><b> About Me: </b> %{customdata[1]}<br><b> Favorite Music Genres: </b> %{customdata[2]}<br><b> Outgoing: </b> %{customdata[3]}<br><b> Outdoorsy: </b> %{customdata[4]}<br><b> Politically Correct: </b> %{customdata[5]}<br><extra></extra>",
         "legendgroup": "4",
         "marker": {
          "color": "#FECB52",
          "line": {
           "color": "DarkSlateGrey",
           "width": 2
          },
          "opacity": 0.8,
          "size": 12,
          "symbol": "circle"
         },
         "mode": "markers",
         "name": "4",
         "orientation": "v",
         "showlegend": true,
         "type": "scatter",
         "x": [
          0.18617813599213384,
          0.16016588889209094,
          -0.031026398533687265,
          -0.12516024104167106,
          -0.03625210584774666,
          0.23005426121922662,
          0.1370782478235263,
          0.16356035925918766,
          0.0020562934728632384,
          -0.05833395793281942,
          0.09811321821527504,
          0.12126476233900799,
          0.2290341387993746,
          0.0868601093407458,
          0.11605357163752777,
          0.22326771233498674,
          0.08996946017314196,
          0.11471490343575094,
          0.23325035402302358,
          0.09711186335628182,
          0.1295495353491081,
          0.23471236839109097,
          0.10478117647237849,
          0.1303431703849386,
          0.24083675915465388,
          0.09865274061874943,
          0.12114861524833685,
          0.24287825939747973,
          0.09892402023978361
         ],
         "xaxis": "x",
         "y": [
          -0.250168418282586,
          -0.279773999753387,
          -0.4951181413159703,
          -0.31940533133551874,
          -0.42480948880730857,
          -0.3438615304681248,
          -0.32804508172975433,
          -0.27957788514998916,
          -0.4416936519655604,
          -0.37723382925029814,
          -0.3986141592681742,
          -0.3332354451376017,
          -0.3283975262768312,
          -0.41665009634449457,
          -0.34400752940506885,
          -0.3337614862148136,
          -0.4234366536064872,
          -0.3431436460420737,
          -0.33132892106417106,
          -0.41624205843048434,
          -0.3300327998522692,
          -0.32888519326771526,
          -0.4148666340953496,
          -0.3268238395541306,
          -0.3244839265055888,
          -0.4145051755912637,
          -0.3110898395272702,
          -0.3195638549329457,
          -0.4131608806763133
         ],
         "yaxis": "y"
        }
       ],
       "layout": {
        "height": 500,
        "legend": {
         "font": {
          "size": 12
         },
         "title": {
          "font": {
           "size": 14
          },
          "text": "Group"
         },
         "tracegroupgap": 0
        },
        "margin": {
         "b": 50,
         "l": 50,
         "r": 50,
         "t": 50
        },
        "showlegend": true,
        "template": {
         "data": {
          "bar": [
           {
            "error_x": {
             "color": "#2a3f5f"
            },
            "error_y": {
             "color": "#2a3f5f"
            },
            "marker": {
             "line": {
              "color": "white",
              "width": 0.5
             },
             "pattern": {
              "fillmode": "overlay",
              "size": 10,
              "solidity": 0.2
             }
            },
            "type": "bar"
           }
          ],
          "barpolar": [
           {
            "marker": {
             "line": {
              "color": "white",
              "width": 0.5
             },
             "pattern": {
              "fillmode": "overlay",
              "size": 10,
              "solidity": 0.2
             }
            },
            "type": "barpolar"
           }
          ],
          "carpet": [
           {
            "aaxis": {
             "endlinecolor": "#2a3f5f",
             "gridcolor": "#C8D4E3",
             "linecolor": "#C8D4E3",
             "minorgridcolor": "#C8D4E3",
             "startlinecolor": "#2a3f5f"
            },
            "baxis": {
             "endlinecolor": "#2a3f5f",
             "gridcolor": "#C8D4E3",
             "linecolor": "#C8D4E3",
             "minorgridcolor": "#C8D4E3",
             "startlinecolor": "#2a3f5f"
            },
            "type": "carpet"
           }
          ],
          "choropleth": [
           {
            "colorbar": {
             "outlinewidth": 0,
             "ticks": ""
            },
            "type": "choropleth"
           }
          ],
          "contour": [
           {
            "colorbar": {
             "outlinewidth": 0,
             "ticks": ""
            },
            "colorscale": [
             [
              0,
              "#0d0887"
             ],
             [
              0.1111111111111111,
              "#46039f"
             ],
             [
              0.2222222222222222,
              "#7201a8"
             ],
             [
              0.3333333333333333,
              "#9c179e"
             ],
             [
              0.4444444444444444,
              "#bd3786"
             ],
             [
              0.5555555555555556,
              "#d8576b"
             ],
             [
              0.6666666666666666,
              "#ed7953"
             ],
             [
              0.7777777777777778,
              "#fb9f3a"
             ],
             [
              0.8888888888888888,
              "#fdca26"
             ],
             [
              1,
              "#f0f921"
             ]
            ],
            "type": "contour"
           }
          ],
          "contourcarpet": [
           {
            "colorbar": {
             "outlinewidth": 0,
             "ticks": ""
            },
            "type": "contourcarpet"
           }
          ],
          "heatmap": [
           {
            "colorbar": {
             "outlinewidth": 0,
             "ticks": ""
            },
            "colorscale": [
             [
              0,
              "#0d0887"
             ],
             [
              0.1111111111111111,
              "#46039f"
             ],
             [
              0.2222222222222222,
              "#7201a8"
             ],
             [
              0.3333333333333333,
              "#9c179e"
             ],
             [
              0.4444444444444444,
              "#bd3786"
             ],
             [
              0.5555555555555556,
              "#d8576b"
             ],
             [
              0.6666666666666666,
              "#ed7953"
             ],
             [
              0.7777777777777778,
              "#fb9f3a"
             ],
             [
              0.8888888888888888,
              "#fdca26"
             ],
             [
              1,
              "#f0f921"
             ]
            ],
            "type": "heatmap"
           }
          ],
          "heatmapgl": [
           {
            "colorbar": {
             "outlinewidth": 0,
             "ticks": ""
            },
            "colorscale": [
             [
              0,
              "#0d0887"
             ],
             [
              0.1111111111111111,
              "#46039f"
             ],
             [
              0.2222222222222222,
              "#7201a8"
             ],
             [
              0.3333333333333333,
              "#9c179e"
             ],
             [
              0.4444444444444444,
              "#bd3786"
             ],
             [
              0.5555555555555556,
              "#d8576b"
             ],
             [
              0.6666666666666666,
              "#ed7953"
             ],
             [
              0.7777777777777778,
              "#fb9f3a"
             ],
             [
              0.8888888888888888,
              "#fdca26"
             ],
             [
              1,
              "#f0f921"
             ]
            ],
            "type": "heatmapgl"
           }
          ],
          "histogram": [
           {
            "marker": {
             "pattern": {
              "fillmode": "overlay",
              "size": 10,
              "solidity": 0.2
             }
            },
            "type": "histogram"
           }
          ],
          "histogram2d": [
           {
            "colorbar": {
             "outlinewidth": 0,
             "ticks": ""
            },
            "colorscale": [
             [
              0,
              "#0d0887"
             ],
             [
              0.1111111111111111,
              "#46039f"
             ],
             [
              0.2222222222222222,
              "#7201a8"
             ],
             [
              0.3333333333333333,
              "#9c179e"
             ],
             [
              0.4444444444444444,
              "#bd3786"
             ],
             [
              0.5555555555555556,
              "#d8576b"
             ],
             [
              0.6666666666666666,
              "#ed7953"
             ],
             [
              0.7777777777777778,
              "#fb9f3a"
             ],
             [
              0.8888888888888888,
              "#fdca26"
             ],
             [
              1,
              "#f0f921"
             ]
            ],
            "type": "histogram2d"
           }
          ],
          "histogram2dcontour": [
           {
            "colorbar": {
             "outlinewidth": 0,
             "ticks": ""
            },
            "colorscale": [
             [
              0,
              "#0d0887"
             ],
             [
              0.1111111111111111,
              "#46039f"
             ],
             [
              0.2222222222222222,
              "#7201a8"
             ],
             [
              0.3333333333333333,
              "#9c179e"
             ],
             [
              0.4444444444444444,
              "#bd3786"
             ],
             [
              0.5555555555555556,
              "#d8576b"
             ],
             [
              0.6666666666666666,
              "#ed7953"
             ],
             [
              0.7777777777777778,
              "#fb9f3a"
             ],
             [
              0.8888888888888888,
              "#fdca26"
             ],
             [
              1,
              "#f0f921"
             ]
            ],
            "type": "histogram2dcontour"
           }
          ],
          "mesh3d": [
           {
            "colorbar": {
             "outlinewidth": 0,
             "ticks": ""
            },
            "type": "mesh3d"
           }
          ],
          "parcoords": [
           {
            "line": {
             "colorbar": {
              "outlinewidth": 0,
              "ticks": ""
             }
            },
            "type": "parcoords"
           }
          ],
          "pie": [
           {
            "automargin": true,
            "type": "pie"
           }
          ],
          "scatter": [
           {
            "fillpattern": {
             "fillmode": "overlay",
             "size": 10,
             "solidity": 0.2
            },
            "type": "scatter"
           }
          ],
          "scatter3d": [
           {
            "line": {
             "colorbar": {
              "outlinewidth": 0,
              "ticks": ""
             }
            },
            "marker": {
             "colorbar": {
              "outlinewidth": 0,
              "ticks": ""
             }
            },
            "type": "scatter3d"
           }
          ],
          "scattercarpet": [
           {
            "marker": {
             "colorbar": {
              "outlinewidth": 0,
              "ticks": ""
             }
            },
            "type": "scattercarpet"
           }
          ],
          "scattergeo": [
           {
            "marker": {
             "colorbar": {
              "outlinewidth": 0,
              "ticks": ""
             }
            },
            "type": "scattergeo"
           }
          ],
          "scattergl": [
           {
            "marker": {
             "colorbar": {
              "outlinewidth": 0,
              "ticks": ""
             }
            },
            "type": "scattergl"
           }
          ],
          "scattermapbox": [
           {
            "marker": {
             "colorbar": {
              "outlinewidth": 0,
              "ticks": ""
             }
            },
            "type": "scattermapbox"
           }
          ],
          "scatterpolar": [
           {
            "marker": {
             "colorbar": {
              "outlinewidth": 0,
              "ticks": ""
             }
            },
            "type": "scatterpolar"
           }
          ],
          "scatterpolargl": [
           {
            "marker": {
             "colorbar": {
              "outlinewidth": 0,
              "ticks": ""
             }
            },
            "type": "scatterpolargl"
           }
          ],
          "scatterternary": [
           {
            "marker": {
             "colorbar": {
              "outlinewidth": 0,
              "ticks": ""
             }
            },
            "type": "scatterternary"
           }
          ],
          "surface": [
           {
            "colorbar": {
             "outlinewidth": 0,
             "ticks": ""
            },
            "colorscale": [
             [
              0,
              "#0d0887"
             ],
             [
              0.1111111111111111,
              "#46039f"
             ],
             [
              0.2222222222222222,
              "#7201a8"
             ],
             [
              0.3333333333333333,
              "#9c179e"
             ],
             [
              0.4444444444444444,
              "#bd3786"
             ],
             [
              0.5555555555555556,
              "#d8576b"
             ],
             [
              0.6666666666666666,
              "#ed7953"
             ],
             [
              0.7777777777777778,
              "#fb9f3a"
             ],
             [
              0.8888888888888888,
              "#fdca26"
             ],
             [
              1,
              "#f0f921"
             ]
            ],
            "type": "surface"
           }
          ],
          "table": [
           {
            "cells": {
             "fill": {
              "color": "#EBF0F8"
             },
             "line": {
              "color": "white"
             }
            },
            "header": {
             "fill": {
              "color": "#C8D4E3"
             },
             "line": {
              "color": "white"
             }
            },
            "type": "table"
           }
          ]
         },
         "layout": {
          "annotationdefaults": {
           "arrowcolor": "#2a3f5f",
           "arrowhead": 0,
           "arrowwidth": 1
          },
          "autotypenumbers": "strict",
          "coloraxis": {
           "colorbar": {
            "outlinewidth": 0,
            "ticks": ""
           }
          },
          "colorscale": {
           "diverging": [
            [
             0,
             "#8e0152"
            ],
            [
             0.1,
             "#c51b7d"
            ],
            [
             0.2,
             "#de77ae"
            ],
            [
             0.3,
             "#f1b6da"
            ],
            [
             0.4,
             "#fde0ef"
            ],
            [
             0.5,
             "#f7f7f7"
            ],
            [
             0.6,
             "#e6f5d0"
            ],
            [
             0.7,
             "#b8e186"
            ],
            [
             0.8,
             "#7fbc41"
            ],
            [
             0.9,
             "#4d9221"
            ],
            [
             1,
             "#276419"
            ]
           ],
           "sequential": [
            [
             0,
             "#0d0887"
            ],
            [
             0.1111111111111111,
             "#46039f"
            ],
            [
             0.2222222222222222,
             "#7201a8"
            ],
            [
             0.3333333333333333,
             "#9c179e"
            ],
            [
             0.4444444444444444,
             "#bd3786"
            ],
            [
             0.5555555555555556,
             "#d8576b"
            ],
            [
             0.6666666666666666,
             "#ed7953"
            ],
            [
             0.7777777777777778,
             "#fb9f3a"
            ],
            [
             0.8888888888888888,
             "#fdca26"
            ],
            [
             1,
             "#f0f921"
            ]
           ],
           "sequentialminus": [
            [
             0,
             "#0d0887"
            ],
            [
             0.1111111111111111,
             "#46039f"
            ],
            [
             0.2222222222222222,
             "#7201a8"
            ],
            [
             0.3333333333333333,
             "#9c179e"
            ],
            [
             0.4444444444444444,
             "#bd3786"
            ],
            [
             0.5555555555555556,
             "#d8576b"
            ],
            [
             0.6666666666666666,
             "#ed7953"
            ],
            [
             0.7777777777777778,
             "#fb9f3a"
            ],
            [
             0.8888888888888888,
             "#fdca26"
            ],
            [
             1,
             "#f0f921"
            ]
           ]
          },
          "colorway": [
           "#636efa",
           "#EF553B",
           "#00cc96",
           "#ab63fa",
           "#FFA15A",
           "#19d3f3",
           "#FF6692",
           "#B6E880",
           "#FF97FF",
           "#FECB52"
          ],
          "font": {
           "color": "#2a3f5f"
          },
          "geo": {
           "bgcolor": "white",
           "lakecolor": "white",
           "landcolor": "white",
           "showlakes": true,
           "showland": true,
           "subunitcolor": "#C8D4E3"
          },
          "hoverlabel": {
           "align": "left"
          },
          "hovermode": "closest",
          "mapbox": {
           "style": "light"
          },
          "paper_bgcolor": "white",
          "plot_bgcolor": "white",
          "polar": {
           "angularaxis": {
            "gridcolor": "#EBF0F8",
            "linecolor": "#EBF0F8",
            "ticks": ""
           },
           "bgcolor": "white",
           "radialaxis": {
            "gridcolor": "#EBF0F8",
            "linecolor": "#EBF0F8",
            "ticks": ""
           }
          },
          "scene": {
           "xaxis": {
            "backgroundcolor": "white",
            "gridcolor": "#DFE8F3",
            "gridwidth": 2,
            "linecolor": "#EBF0F8",
            "showbackground": true,
            "ticks": "",
            "zerolinecolor": "#EBF0F8"
           },
           "yaxis": {
            "backgroundcolor": "white",
            "gridcolor": "#DFE8F3",
            "gridwidth": 2,
            "linecolor": "#EBF0F8",
            "showbackground": true,
            "ticks": "",
            "zerolinecolor": "#EBF0F8"
           },
           "zaxis": {
            "backgroundcolor": "white",
            "gridcolor": "#DFE8F3",
            "gridwidth": 2,
            "linecolor": "#EBF0F8",
            "showbackground": true,
            "ticks": "",
            "zerolinecolor": "#EBF0F8"
           }
          },
          "shapedefaults": {
           "line": {
            "color": "#2a3f5f"
           }
          },
          "ternary": {
           "aaxis": {
            "gridcolor": "#DFE8F3",
            "linecolor": "#A2B1C6",
            "ticks": ""
           },
           "baxis": {
            "gridcolor": "#DFE8F3",
            "linecolor": "#A2B1C6",
            "ticks": ""
           },
           "bgcolor": "white",
           "caxis": {
            "gridcolor": "#DFE8F3",
            "linecolor": "#A2B1C6",
            "ticks": ""
           }
          },
          "title": {
           "x": 0.05
          },
          "xaxis": {
           "automargin": true,
           "gridcolor": "#EBF0F8",
           "linecolor": "#EBF0F8",
           "ticks": "",
           "title": {
            "standoff": 15
           },
           "zerolinecolor": "#EBF0F8",
           "zerolinewidth": 2
          },
          "yaxis": {
           "automargin": true,
           "gridcolor": "#EBF0F8",
           "linecolor": "#EBF0F8",
           "ticks": "",
           "title": {
            "standoff": 15
           },
           "zerolinecolor": "#EBF0F8",
           "zerolinewidth": 2
          }
         }
        },
        "title": {
         "font": {
          "family": "Arial",
          "size": 20
         },
         "text": "People Groups",
         "x": 0.5
        },
        "width": 1000,
        "xaxis": {
         "anchor": "y",
         "domain": [
          0,
          1
         ],
         "title": {
          "font": {
           "size": 14
          },
          "text": "PC1"
         }
        },
        "yaxis": {
         "anchor": "x",
         "domain": [
          0,
          1
         ],
         "title": {
          "font": {
           "size": 14
          },
          "text": "PC2"
         }
        }
       }
      }
     },
     "metadata": {},
     "output_type": "display_data"
    }
   ],
   "source": [
    "\n",
    "fig = px.scatter(x=\"x_embedding\", y=\"y_embedding\", color=\"Group\", hover_data=[\"Name\", \"About_Me\", \"Favorite_Music_Genres\", \"Outgoing\", \"Outdoorsy\", \"Politically_Correct\"], data_frame=our_people,\n",
    "            title = \"People Groups\",\n",
    "            labels={ \n",
    "                \"x_embedding\": \"PC1\",  \"y_embedding\": \"PC2\"\n",
    "            },\n",
    "            width=1000, height=500,\n",
    "            )\n",
    "\n",
    "# Customize hover label appearance\n",
    "fig.for_each_trace(lambda trace: trace.update(\n",
    "    hoverlabel=dict(\n",
    "        bgcolor=\"white\",  # Dark background with transparency\n",
    "        font_size=14,  # Font size\n",
    "        font_family=\"Arial\",  # Font family\n",
    "        font_color=trace.marker.color,  # White text\n",
    "        bordercolor=trace.marker.color,  # Border color based on the trace's color\n",
    "    ),\n",
    "    hovertemplate=(\n",
    "        \"<b> Name: </b> %{customdata[0]}<br>\"  # Show Name\n",
    "        \"<b> About Me: </b> %{customdata[1]}<br>\"  # Show About Me\n",
    "        \"<b> Favorite Music Genres: </b> %{customdata[2]}<br>\"  # Show Favorite Music Genres\n",
    "        \"<b> Outgoing: </b> %{customdata[3]}<br>\"  # Show Outgoing\n",
    "        \"<b> Outdoorsy: </b> %{customdata[4]}<br>\"  # Show Outdoorsy\n",
    "        \"<b> Politically Correct: </b> %{customdata[5]}<br>\"  # Show Politically Correct\n",
    "        \"<extra></extra>\"  # Remove trace info from the hover\n",
    "    )\n",
    "    ))\n",
    "\n",
    "fig.update_layout(\n",
    "    title_font_size=20, \n",
    "    title_font_family=\"Arial\", \n",
    "    title_x=0.5,  # Center the title\n",
    "    xaxis_title_font_size=14, \n",
    "    yaxis_title_font_size=14,\n",
    "    showlegend=True,\n",
    "    legend_title=\"Group\",\n",
    "    legend_title_font_size=14,\n",
    "    legend_font_size=12,\n",
    "    margin=dict(l=50, r=50, t=50, b=50),  # Adjust margins for better spacing\n",
    "    template=\"plotly_white\"  # Clean white background\n",
    ")\n",
    "\n",
    "fig.update_traces(marker=dict(size=12, opacity=0.8, line=dict(width=2, color='DarkSlateGrey')))\n",
    "\n",
    "fig.show()"
   ]
  },
  {
   "cell_type": "code",
   "execution_count": 78,
   "metadata": {},
   "outputs": [],
   "source": [
    "fig.write_html(\"../client/public/group_plot.html\", full_html=True, include_plotlyjs=True)"
   ]
  },
  {
   "cell_type": "code",
   "execution_count": null,
   "metadata": {},
   "outputs": [],
   "source": [
    "# embedding = our_people.loc[our_people[\"ID\"] == 1, \"Embeddings\"].values[0]\n",
    "# embedding = embedding.strip('[]').split(' ')"
   ]
  },
  {
   "cell_type": "code",
   "execution_count": null,
   "metadata": {},
   "outputs": [],
   "source": []
  },
  {
   "cell_type": "markdown",
   "metadata": {},
   "source": [
    "The following code was made for server.py. Gets a current person and the other people and finds the n closest and n furthest from the current person"
   ]
  },
  {
   "cell_type": "code",
   "execution_count": null,
   "metadata": {},
   "outputs": [],
   "source": [
    "current_person = our_people[our_people['ID'] == 1]\n",
    "current_person_embeddings = get_weighted_embeddings(current_person.iloc[0])  # Use .iloc[0] to get a row\n"
   ]
  },
  {
   "cell_type": "code",
   "execution_count": null,
   "metadata": {},
   "outputs": [],
   "source": [
    "current_person_embeddings"
   ]
  },
  {
   "cell_type": "code",
   "execution_count": null,
   "metadata": {},
   "outputs": [],
   "source": [
    "other_people = our_people[our_people['ID'] != 1]\n",
    "other_people_embeddings = [get_weighted_embeddings(row) for _, row in other_people.iterrows()]\n"
   ]
  },
  {
   "cell_type": "code",
   "execution_count": null,
   "metadata": {},
   "outputs": [],
   "source": [
    "def find_n_closest(query_vector, embeddings, n=3):\n",
    "    distances = []\n",
    "    for index, embedding in enumerate(embeddings):\n",
    "        embedding = embedding.tolist()\n",
    "        dist = distance.cosine(query_vector, embedding)\n",
    "        distances.append({\"distance\": dist, \"index\": index})\n",
    "    distances_sorted = sorted(distances, key=lambda x: x[\"distance\"])\n",
    "    return distances_sorted[0:n]\n",
    "        "
   ]
  },
  {
   "cell_type": "code",
   "execution_count": null,
   "metadata": {},
   "outputs": [],
   "source": [
    "print(\"Current person: \", current_person.iloc[0], \"\\n\")\n",
    "# print(current_person_embeddings)\n",
    "# print(other_people_embeddings)\n",
    "print(\"Other People:\")\n",
    "similar_people = find_n_closest(current_person_embeddings, other_people_embeddings)\n",
    "for person in similar_people:\n",
    "    index = person[\"index\"]\n",
    "    person_row = our_people.iloc[index]\n",
    "    print(person_row)\n",
    "    "
   ]
  },
  {
   "cell_type": "code",
   "execution_count": null,
   "metadata": {},
   "outputs": [],
   "source": [
    "def find_n_furthest(query_vector, embeddings, n=3):\n",
    "    distances = []\n",
    "    for index, embedding in enumerate(embeddings):\n",
    "        dist = distance.cosine(query_vector, embedding)\n",
    "        distances.append({\"distance\": dist, \"index\": index})\n",
    "    distances_sorted = sorted(distances, key=lambda x: x[\"distance\"])\n",
    "    return distances_sorted[(len(distances_sorted)-1-n): (len(distances_sorted)-1)]"
   ]
  },
  {
   "cell_type": "code",
   "execution_count": null,
   "metadata": {},
   "outputs": [],
   "source": [
    "print(\"Not similar People:\")\n",
    "similar_people = find_n_furthest(current_person_embeddings, other_people_embeddings)\n",
    "for person in similar_people:\n",
    "    index = person[\"index\"]\n",
    "    person_row = other_people.iloc[index]\n",
    "    print(person_row)\n"
   ]
  },
  {
   "cell_type": "markdown",
   "metadata": {},
   "source": [
    "Another method would be to extract information from the \"about me's\" and put them in a more tabular form. For example if someone says they like Indie music in their \"about me\", we could classify them as someone who likes indie music in the music column. This way, we can weight these columns easier. If there is an indie concert soon, we might just want to invite people who enjoy this type of music. \n",
    "\n",
    "However, if there is a concert that's a genre I don't love but 222 thinks people I will be friends with will be there, I probably would still try it out to meet them!"
   ]
  },
  {
   "cell_type": "markdown",
   "metadata": {},
   "source": [
    "We should consult academic texts about what personality types get along with others. Do opposites attract?"
   ]
  }
 ],
 "metadata": {
  "kernelspec": {
   "display_name": ".venv",
   "language": "python",
   "name": "python3"
  },
  "language_info": {
   "codemirror_mode": {
    "name": "ipython",
    "version": 3
   },
   "file_extension": ".py",
   "mimetype": "text/x-python",
   "name": "python",
   "nbconvert_exporter": "python",
   "pygments_lexer": "ipython3",
   "version": "3.9.6"
  }
 },
 "nbformat": 4,
 "nbformat_minor": 2
}
